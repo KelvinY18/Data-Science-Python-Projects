{
  "nbformat": 4,
  "nbformat_minor": 0,
  "metadata": {
    "colab": {
      "provenance": [],
      "include_colab_link": true
    },
    "kernelspec": {
      "name": "python3",
      "display_name": "Python 3"
    },
    "language_info": {
      "name": "python"
    }
  },
  "cells": [
    {
      "cell_type": "markdown",
      "metadata": {
        "id": "view-in-github",
        "colab_type": "text"
      },
      "source": [
        "<a href=\"https://colab.research.google.com/github/KelvinY18/Data-Science-Python-Projects/blob/main/Assignment1_AdvancePandas.ipynb\" target=\"_parent\"><img src=\"https://colab.research.google.com/assets/colab-badge.svg\" alt=\"Open In Colab\"/></a>"
      ]
    },
    {
      "cell_type": "code",
      "metadata": {
        "id": "Gp99-eXMJ74G"
      },
      "source": [
        "import numpy as np\n",
        "import pandas as pd"
      ],
      "execution_count": null,
      "outputs": []
    },
    {
      "cell_type": "code",
      "metadata": {
        "colab": {
          "resources": {
            "http://localhost:8080/nbextensions/google.colab/files.js": {
              "data": "Ly8gQ29weXJpZ2h0IDIwMTcgR29vZ2xlIExMQwovLwovLyBMaWNlbnNlZCB1bmRlciB0aGUgQXBhY2hlIExpY2Vuc2UsIFZlcnNpb24gMi4wICh0aGUgIkxpY2Vuc2UiKTsKLy8geW91IG1heSBub3QgdXNlIHRoaXMgZmlsZSBleGNlcHQgaW4gY29tcGxpYW5jZSB3aXRoIHRoZSBMaWNlbnNlLgovLyBZb3UgbWF5IG9idGFpbiBhIGNvcHkgb2YgdGhlIExpY2Vuc2UgYXQKLy8KLy8gICAgICBodHRwOi8vd3d3LmFwYWNoZS5vcmcvbGljZW5zZXMvTElDRU5TRS0yLjAKLy8KLy8gVW5sZXNzIHJlcXVpcmVkIGJ5IGFwcGxpY2FibGUgbGF3IG9yIGFncmVlZCB0byBpbiB3cml0aW5nLCBzb2Z0d2FyZQovLyBkaXN0cmlidXRlZCB1bmRlciB0aGUgTGljZW5zZSBpcyBkaXN0cmlidXRlZCBvbiBhbiAiQVMgSVMiIEJBU0lTLAovLyBXSVRIT1VUIFdBUlJBTlRJRVMgT1IgQ09ORElUSU9OUyBPRiBBTlkgS0lORCwgZWl0aGVyIGV4cHJlc3Mgb3IgaW1wbGllZC4KLy8gU2VlIHRoZSBMaWNlbnNlIGZvciB0aGUgc3BlY2lmaWMgbGFuZ3VhZ2UgZ292ZXJuaW5nIHBlcm1pc3Npb25zIGFuZAovLyBsaW1pdGF0aW9ucyB1bmRlciB0aGUgTGljZW5zZS4KCi8qKgogKiBAZmlsZW92ZXJ2aWV3IEhlbHBlcnMgZm9yIGdvb2dsZS5jb2xhYiBQeXRob24gbW9kdWxlLgogKi8KKGZ1bmN0aW9uKHNjb3BlKSB7CmZ1bmN0aW9uIHNwYW4odGV4dCwgc3R5bGVBdHRyaWJ1dGVzID0ge30pIHsKICBjb25zdCBlbGVtZW50ID0gZG9jdW1lbnQuY3JlYXRlRWxlbWVudCgnc3BhbicpOwogIGVsZW1lbnQudGV4dENvbnRlbnQgPSB0ZXh0OwogIGZvciAoY29uc3Qga2V5IG9mIE9iamVjdC5rZXlzKHN0eWxlQXR0cmlidXRlcykpIHsKICAgIGVsZW1lbnQuc3R5bGVba2V5XSA9IHN0eWxlQXR0cmlidXRlc1trZXldOwogIH0KICByZXR1cm4gZWxlbWVudDsKfQoKLy8gTWF4IG51bWJlciBvZiBieXRlcyB3aGljaCB3aWxsIGJlIHVwbG9hZGVkIGF0IGEgdGltZS4KY29uc3QgTUFYX1BBWUxPQURfU0laRSA9IDEwMCAqIDEwMjQ7CgpmdW5jdGlvbiBfdXBsb2FkRmlsZXMoaW5wdXRJZCwgb3V0cHV0SWQpIHsKICBjb25zdCBzdGVwcyA9IHVwbG9hZEZpbGVzU3RlcChpbnB1dElkLCBvdXRwdXRJZCk7CiAgY29uc3Qgb3V0cHV0RWxlbWVudCA9IGRvY3VtZW50LmdldEVsZW1lbnRCeUlkKG91dHB1dElkKTsKICAvLyBDYWNoZSBzdGVwcyBvbiB0aGUgb3V0cHV0RWxlbWVudCB0byBtYWtlIGl0IGF2YWlsYWJsZSBmb3IgdGhlIG5leHQgY2FsbAogIC8vIHRvIHVwbG9hZEZpbGVzQ29udGludWUgZnJvbSBQeXRob24uCiAgb3V0cHV0RWxlbWVudC5zdGVwcyA9IHN0ZXBzOwoKICByZXR1cm4gX3VwbG9hZEZpbGVzQ29udGludWUob3V0cHV0SWQpOwp9CgovLyBUaGlzIGlzIHJvdWdobHkgYW4gYXN5bmMgZ2VuZXJhdG9yIChub3Qgc3VwcG9ydGVkIGluIHRoZSBicm93c2VyIHlldCksCi8vIHdoZXJlIHRoZXJlIGFyZSBtdWx0aXBsZSBhc3luY2hyb25vdXMgc3RlcHMgYW5kIHRoZSBQeXRob24gc2lkZSBpcyBnb2luZwovLyB0byBwb2xsIGZvciBjb21wbGV0aW9uIG9mIGVhY2ggc3RlcC4KLy8gVGhpcyB1c2VzIGEgUHJvbWlzZSB0byBibG9jayB0aGUgcHl0aG9uIHNpZGUgb24gY29tcGxldGlvbiBvZiBlYWNoIHN0ZXAsCi8vIHRoZW4gcGFzc2VzIHRoZSByZXN1bHQgb2YgdGhlIHByZXZpb3VzIHN0ZXAgYXMgdGhlIGlucHV0IHRvIHRoZSBuZXh0IHN0ZXAuCmZ1bmN0aW9uIF91cGxvYWRGaWxlc0NvbnRpbnVlKG91dHB1dElkKSB7CiAgY29uc3Qgb3V0cHV0RWxlbWVudCA9IGRvY3VtZW50LmdldEVsZW1lbnRCeUlkKG91dHB1dElkKTsKICBjb25zdCBzdGVwcyA9IG91dHB1dEVsZW1lbnQuc3RlcHM7CgogIGNvbnN0IG5leHQgPSBzdGVwcy5uZXh0KG91dHB1dEVsZW1lbnQubGFzdFByb21pc2VWYWx1ZSk7CiAgcmV0dXJuIFByb21pc2UucmVzb2x2ZShuZXh0LnZhbHVlLnByb21pc2UpLnRoZW4oKHZhbHVlKSA9PiB7CiAgICAvLyBDYWNoZSB0aGUgbGFzdCBwcm9taXNlIHZhbHVlIHRvIG1ha2UgaXQgYXZhaWxhYmxlIHRvIHRoZSBuZXh0CiAgICAvLyBzdGVwIG9mIHRoZSBnZW5lcmF0b3IuCiAgICBvdXRwdXRFbGVtZW50Lmxhc3RQcm9taXNlVmFsdWUgPSB2YWx1ZTsKICAgIHJldHVybiBuZXh0LnZhbHVlLnJlc3BvbnNlOwogIH0pOwp9CgovKioKICogR2VuZXJhdG9yIGZ1bmN0aW9uIHdoaWNoIGlzIGNhbGxlZCBiZXR3ZWVuIGVhY2ggYXN5bmMgc3RlcCBvZiB0aGUgdXBsb2FkCiAqIHByb2Nlc3MuCiAqIEBwYXJhbSB7c3RyaW5nfSBpbnB1dElkIEVsZW1lbnQgSUQgb2YgdGhlIGlucHV0IGZpbGUgcGlja2VyIGVsZW1lbnQuCiAqIEBwYXJhbSB7c3RyaW5nfSBvdXRwdXRJZCBFbGVtZW50IElEIG9mIHRoZSBvdXRwdXQgZGlzcGxheS4KICogQHJldHVybiB7IUl0ZXJhYmxlPCFPYmplY3Q+fSBJdGVyYWJsZSBvZiBuZXh0IHN0ZXBzLgogKi8KZnVuY3Rpb24qIHVwbG9hZEZpbGVzU3RlcChpbnB1dElkLCBvdXRwdXRJZCkgewogIGNvbnN0IGlucHV0RWxlbWVudCA9IGRvY3VtZW50LmdldEVsZW1lbnRCeUlkKGlucHV0SWQpOwogIGlucHV0RWxlbWVudC5kaXNhYmxlZCA9IGZhbHNlOwoKICBjb25zdCBvdXRwdXRFbGVtZW50ID0gZG9jdW1lbnQuZ2V0RWxlbWVudEJ5SWQob3V0cHV0SWQpOwogIG91dHB1dEVsZW1lbnQuaW5uZXJIVE1MID0gJyc7CgogIGNvbnN0IHBpY2tlZFByb21pc2UgPSBuZXcgUHJvbWlzZSgocmVzb2x2ZSkgPT4gewogICAgaW5wdXRFbGVtZW50LmFkZEV2ZW50TGlzdGVuZXIoJ2NoYW5nZScsIChlKSA9PiB7CiAgICAgIHJlc29sdmUoZS50YXJnZXQuZmlsZXMpOwogICAgfSk7CiAgfSk7CgogIGNvbnN0IGNhbmNlbCA9IGRvY3VtZW50LmNyZWF0ZUVsZW1lbnQoJ2J1dHRvbicpOwogIGlucHV0RWxlbWVudC5wYXJlbnRFbGVtZW50LmFwcGVuZENoaWxkKGNhbmNlbCk7CiAgY2FuY2VsLnRleHRDb250ZW50ID0gJ0NhbmNlbCB1cGxvYWQnOwogIGNvbnN0IGNhbmNlbFByb21pc2UgPSBuZXcgUHJvbWlzZSgocmVzb2x2ZSkgPT4gewogICAgY2FuY2VsLm9uY2xpY2sgPSAoKSA9PiB7CiAgICAgIHJlc29sdmUobnVsbCk7CiAgICB9OwogIH0pOwoKICAvLyBXYWl0IGZvciB0aGUgdXNlciB0byBwaWNrIHRoZSBmaWxlcy4KICBjb25zdCBmaWxlcyA9IHlpZWxkIHsKICAgIHByb21pc2U6IFByb21pc2UucmFjZShbcGlja2VkUHJvbWlzZSwgY2FuY2VsUHJvbWlzZV0pLAogICAgcmVzcG9uc2U6IHsKICAgICAgYWN0aW9uOiAnc3RhcnRpbmcnLAogICAgfQogIH07CgogIGNhbmNlbC5yZW1vdmUoKTsKCiAgLy8gRGlzYWJsZSB0aGUgaW5wdXQgZWxlbWVudCBzaW5jZSBmdXJ0aGVyIHBpY2tzIGFyZSBub3QgYWxsb3dlZC4KICBpbnB1dEVsZW1lbnQuZGlzYWJsZWQgPSB0cnVlOwoKICBpZiAoIWZpbGVzKSB7CiAgICByZXR1cm4gewogICAgICByZXNwb25zZTogewogICAgICAgIGFjdGlvbjogJ2NvbXBsZXRlJywKICAgICAgfQogICAgfTsKICB9CgogIGZvciAoY29uc3QgZmlsZSBvZiBmaWxlcykgewogICAgY29uc3QgbGkgPSBkb2N1bWVudC5jcmVhdGVFbGVtZW50KCdsaScpOwogICAgbGkuYXBwZW5kKHNwYW4oZmlsZS5uYW1lLCB7Zm9udFdlaWdodDogJ2JvbGQnfSkpOwogICAgbGkuYXBwZW5kKHNwYW4oCiAgICAgICAgYCgke2ZpbGUudHlwZSB8fCAnbi9hJ30pIC0gJHtmaWxlLnNpemV9IGJ5dGVzLCBgICsKICAgICAgICBgbGFzdCBtb2RpZmllZDogJHsKICAgICAgICAgICAgZmlsZS5sYXN0TW9kaWZpZWREYXRlID8gZmlsZS5sYXN0TW9kaWZpZWREYXRlLnRvTG9jYWxlRGF0ZVN0cmluZygpIDoKICAgICAgICAgICAgICAgICAgICAgICAgICAgICAgICAgICAgJ24vYSd9IC0gYCkpOwogICAgY29uc3QgcGVyY2VudCA9IHNwYW4oJzAlIGRvbmUnKTsKICAgIGxpLmFwcGVuZENoaWxkKHBlcmNlbnQpOwoKICAgIG91dHB1dEVsZW1lbnQuYXBwZW5kQ2hpbGQobGkpOwoKICAgIGNvbnN0IGZpbGVEYXRhUHJvbWlzZSA9IG5ldyBQcm9taXNlKChyZXNvbHZlKSA9PiB7CiAgICAgIGNvbnN0IHJlYWRlciA9IG5ldyBGaWxlUmVhZGVyKCk7CiAgICAgIHJlYWRlci5vbmxvYWQgPSAoZSkgPT4gewogICAgICAgIHJlc29sdmUoZS50YXJnZXQucmVzdWx0KTsKICAgICAgfTsKICAgICAgcmVhZGVyLnJlYWRBc0FycmF5QnVmZmVyKGZpbGUpOwogICAgfSk7CiAgICAvLyBXYWl0IGZvciB0aGUgZGF0YSB0byBiZSByZWFkeS4KICAgIGxldCBmaWxlRGF0YSA9IHlpZWxkIHsKICAgICAgcHJvbWlzZTogZmlsZURhdGFQcm9taXNlLAogICAgICByZXNwb25zZTogewogICAgICAgIGFjdGlvbjogJ2NvbnRpbnVlJywKICAgICAgfQogICAgfTsKCiAgICAvLyBVc2UgYSBjaHVua2VkIHNlbmRpbmcgdG8gYXZvaWQgbWVzc2FnZSBzaXplIGxpbWl0cy4gU2VlIGIvNjIxMTU2NjAuCiAgICBsZXQgcG9zaXRpb24gPSAwOwogICAgZG8gewogICAgICBjb25zdCBsZW5ndGggPSBNYXRoLm1pbihmaWxlRGF0YS5ieXRlTGVuZ3RoIC0gcG9zaXRpb24sIE1BWF9QQVlMT0FEX1NJWkUpOwogICAgICBjb25zdCBjaHVuayA9IG5ldyBVaW50OEFycmF5KGZpbGVEYXRhLCBwb3NpdGlvbiwgbGVuZ3RoKTsKICAgICAgcG9zaXRpb24gKz0gbGVuZ3RoOwoKICAgICAgY29uc3QgYmFzZTY0ID0gYnRvYShTdHJpbmcuZnJvbUNoYXJDb2RlLmFwcGx5KG51bGwsIGNodW5rKSk7CiAgICAgIHlpZWxkIHsKICAgICAgICByZXNwb25zZTogewogICAgICAgICAgYWN0aW9uOiAnYXBwZW5kJywKICAgICAgICAgIGZpbGU6IGZpbGUubmFtZSwKICAgICAgICAgIGRhdGE6IGJhc2U2NCwKICAgICAgICB9LAogICAgICB9OwoKICAgICAgbGV0IHBlcmNlbnREb25lID0gZmlsZURhdGEuYnl0ZUxlbmd0aCA9PT0gMCA/CiAgICAgICAgICAxMDAgOgogICAgICAgICAgTWF0aC5yb3VuZCgocG9zaXRpb24gLyBmaWxlRGF0YS5ieXRlTGVuZ3RoKSAqIDEwMCk7CiAgICAgIHBlcmNlbnQudGV4dENvbnRlbnQgPSBgJHtwZXJjZW50RG9uZX0lIGRvbmVgOwoKICAgIH0gd2hpbGUgKHBvc2l0aW9uIDwgZmlsZURhdGEuYnl0ZUxlbmd0aCk7CiAgfQoKICAvLyBBbGwgZG9uZS4KICB5aWVsZCB7CiAgICByZXNwb25zZTogewogICAgICBhY3Rpb246ICdjb21wbGV0ZScsCiAgICB9CiAgfTsKfQoKc2NvcGUuZ29vZ2xlID0gc2NvcGUuZ29vZ2xlIHx8IHt9OwpzY29wZS5nb29nbGUuY29sYWIgPSBzY29wZS5nb29nbGUuY29sYWIgfHwge307CnNjb3BlLmdvb2dsZS5jb2xhYi5fZmlsZXMgPSB7CiAgX3VwbG9hZEZpbGVzLAogIF91cGxvYWRGaWxlc0NvbnRpbnVlLAp9Owp9KShzZWxmKTsK",
              "ok": true,
              "headers": [
                [
                  "content-type",
                  "application/javascript"
                ]
              ],
              "status": 200,
              "status_text": ""
            }
          },
          "base_uri": "https://localhost:8080/",
          "height": 73
        },
        "id": "Elco73KBTnnd",
        "outputId": "999fcb8a-c8d9-4d2b-e93a-b051c3298d1c"
      },
      "source": [
        "from google.colab import files\n",
        "upload = files.upload()"
      ],
      "execution_count": null,
      "outputs": [
        {
          "output_type": "display_data",
          "data": {
            "text/html": [
              "\n",
              "     <input type=\"file\" id=\"files-5d48dcfb-c533-4855-b374-0738611e2406\" name=\"files[]\" multiple disabled\n",
              "        style=\"border:none\" />\n",
              "     <output id=\"result-5d48dcfb-c533-4855-b374-0738611e2406\">\n",
              "      Upload widget is only available when the cell has been executed in the\n",
              "      current browser session. Please rerun this cell to enable.\n",
              "      </output>\n",
              "      <script src=\"/nbextensions/google.colab/files.js\"></script> "
            ],
            "text/plain": [
              "<IPython.core.display.HTML object>"
            ]
          },
          "metadata": {
            "tags": []
          }
        },
        {
          "output_type": "stream",
          "text": [
            "Saving dataset_32_pendigits.csv to dataset_32_pendigits.csv\n"
          ],
          "name": "stdout"
        }
      ]
    },
    {
      "cell_type": "code",
      "metadata": {
        "colab": {
          "base_uri": "https://localhost:8080/",
          "height": 225
        },
        "id": "qFIIkiUsT5s2",
        "outputId": "3a63ce24-941d-4692-fe75-27bb4f0df1da"
      },
      "source": [
        "data = pd.read_csv('dataset_32_pendigits.csv')\n",
        "data.head()"
      ],
      "execution_count": null,
      "outputs": [
        {
          "output_type": "execute_result",
          "data": {
            "text/html": [
              "<div>\n",
              "<style scoped>\n",
              "    .dataframe tbody tr th:only-of-type {\n",
              "        vertical-align: middle;\n",
              "    }\n",
              "\n",
              "    .dataframe tbody tr th {\n",
              "        vertical-align: top;\n",
              "    }\n",
              "\n",
              "    .dataframe thead th {\n",
              "        text-align: right;\n",
              "    }\n",
              "</style>\n",
              "<table border=\"1\" class=\"dataframe\">\n",
              "  <thead>\n",
              "    <tr style=\"text-align: right;\">\n",
              "      <th></th>\n",
              "      <th>input1</th>\n",
              "      <th>input2</th>\n",
              "      <th>input3</th>\n",
              "      <th>input4</th>\n",
              "      <th>input5</th>\n",
              "      <th>input6</th>\n",
              "      <th>input7</th>\n",
              "      <th>input8</th>\n",
              "      <th>input9</th>\n",
              "      <th>input10</th>\n",
              "      <th>input11</th>\n",
              "      <th>input12</th>\n",
              "      <th>input13</th>\n",
              "      <th>input14</th>\n",
              "      <th>input15</th>\n",
              "      <th>input16</th>\n",
              "      <th>class</th>\n",
              "    </tr>\n",
              "  </thead>\n",
              "  <tbody>\n",
              "    <tr>\n",
              "      <th>0</th>\n",
              "      <td>47</td>\n",
              "      <td>100</td>\n",
              "      <td>27</td>\n",
              "      <td>81</td>\n",
              "      <td>57</td>\n",
              "      <td>37</td>\n",
              "      <td>26</td>\n",
              "      <td>0</td>\n",
              "      <td>0</td>\n",
              "      <td>23</td>\n",
              "      <td>56.0</td>\n",
              "      <td>53</td>\n",
              "      <td>100</td>\n",
              "      <td>90</td>\n",
              "      <td>40</td>\n",
              "      <td>98</td>\n",
              "      <td>8</td>\n",
              "    </tr>\n",
              "    <tr>\n",
              "      <th>1</th>\n",
              "      <td>0</td>\n",
              "      <td>89</td>\n",
              "      <td>27</td>\n",
              "      <td>100</td>\n",
              "      <td>42</td>\n",
              "      <td>75</td>\n",
              "      <td>29</td>\n",
              "      <td>45</td>\n",
              "      <td>15</td>\n",
              "      <td>15</td>\n",
              "      <td>37.0</td>\n",
              "      <td>0</td>\n",
              "      <td>69</td>\n",
              "      <td>2</td>\n",
              "      <td>100</td>\n",
              "      <td>6</td>\n",
              "      <td>2</td>\n",
              "    </tr>\n",
              "    <tr>\n",
              "      <th>2</th>\n",
              "      <td>0</td>\n",
              "      <td>57</td>\n",
              "      <td>31</td>\n",
              "      <td>68</td>\n",
              "      <td>72</td>\n",
              "      <td>90</td>\n",
              "      <td>100</td>\n",
              "      <td>100</td>\n",
              "      <td>76</td>\n",
              "      <td>75</td>\n",
              "      <td>50.0</td>\n",
              "      <td>51</td>\n",
              "      <td>28</td>\n",
              "      <td>25</td>\n",
              "      <td>16</td>\n",
              "      <td>0</td>\n",
              "      <td>1</td>\n",
              "    </tr>\n",
              "    <tr>\n",
              "      <th>3</th>\n",
              "      <td>0</td>\n",
              "      <td>100</td>\n",
              "      <td>7</td>\n",
              "      <td>92</td>\n",
              "      <td>5</td>\n",
              "      <td>68</td>\n",
              "      <td>19</td>\n",
              "      <td>45</td>\n",
              "      <td>86</td>\n",
              "      <td>34</td>\n",
              "      <td>100.0</td>\n",
              "      <td>45</td>\n",
              "      <td>74</td>\n",
              "      <td>23</td>\n",
              "      <td>67</td>\n",
              "      <td>0</td>\n",
              "      <td>4</td>\n",
              "    </tr>\n",
              "    <tr>\n",
              "      <th>4</th>\n",
              "      <td>0</td>\n",
              "      <td>67</td>\n",
              "      <td>49</td>\n",
              "      <td>83</td>\n",
              "      <td>100</td>\n",
              "      <td>100</td>\n",
              "      <td>81</td>\n",
              "      <td>80</td>\n",
              "      <td>60</td>\n",
              "      <td>60</td>\n",
              "      <td>40.0</td>\n",
              "      <td>40</td>\n",
              "      <td>33</td>\n",
              "      <td>20</td>\n",
              "      <td>47</td>\n",
              "      <td>0</td>\n",
              "      <td>1</td>\n",
              "    </tr>\n",
              "  </tbody>\n",
              "</table>\n",
              "</div>"
            ],
            "text/plain": [
              "   input1  input2  input3  input4  ...  input14  input15  input16  class\n",
              "0      47     100      27      81  ...       90       40       98      8\n",
              "1       0      89      27     100  ...        2      100        6      2\n",
              "2       0      57      31      68  ...       25       16        0      1\n",
              "3       0     100       7      92  ...       23       67        0      4\n",
              "4       0      67      49      83  ...       20       47        0      1\n",
              "\n",
              "[5 rows x 17 columns]"
            ]
          },
          "metadata": {
            "tags": []
          },
          "execution_count": 3
        }
      ]
    },
    {
      "cell_type": "code",
      "metadata": {
        "colab": {
          "base_uri": "https://localhost:8080/",
          "height": 225
        },
        "id": "fTKKh-a3UeBv",
        "outputId": "a4e17703-8b60-496e-bec4-accdd4b41a75"
      },
      "source": [
        "data.tail()"
      ],
      "execution_count": null,
      "outputs": [
        {
          "output_type": "execute_result",
          "data": {
            "text/html": [
              "<div>\n",
              "<style scoped>\n",
              "    .dataframe tbody tr th:only-of-type {\n",
              "        vertical-align: middle;\n",
              "    }\n",
              "\n",
              "    .dataframe tbody tr th {\n",
              "        vertical-align: top;\n",
              "    }\n",
              "\n",
              "    .dataframe thead th {\n",
              "        text-align: right;\n",
              "    }\n",
              "</style>\n",
              "<table border=\"1\" class=\"dataframe\">\n",
              "  <thead>\n",
              "    <tr style=\"text-align: right;\">\n",
              "      <th></th>\n",
              "      <th>input1</th>\n",
              "      <th>input2</th>\n",
              "      <th>input3</th>\n",
              "      <th>input4</th>\n",
              "      <th>input5</th>\n",
              "      <th>input6</th>\n",
              "      <th>input7</th>\n",
              "      <th>input8</th>\n",
              "      <th>input9</th>\n",
              "      <th>input10</th>\n",
              "      <th>input11</th>\n",
              "      <th>input12</th>\n",
              "      <th>input13</th>\n",
              "      <th>input14</th>\n",
              "      <th>input15</th>\n",
              "      <th>input16</th>\n",
              "      <th>class</th>\n",
              "    </tr>\n",
              "  </thead>\n",
              "  <tbody>\n",
              "    <tr>\n",
              "      <th>10987</th>\n",
              "      <td>36</td>\n",
              "      <td>100</td>\n",
              "      <td>24</td>\n",
              "      <td>70</td>\n",
              "      <td>0</td>\n",
              "      <td>38</td>\n",
              "      <td>49</td>\n",
              "      <td>33</td>\n",
              "      <td>95</td>\n",
              "      <td>47</td>\n",
              "      <td>87.0</td>\n",
              "      <td>55</td>\n",
              "      <td>96</td>\n",
              "      <td>21</td>\n",
              "      <td>100</td>\n",
              "      <td>0</td>\n",
              "      <td>4</td>\n",
              "    </tr>\n",
              "    <tr>\n",
              "      <th>10988</th>\n",
              "      <td>16</td>\n",
              "      <td>75</td>\n",
              "      <td>41</td>\n",
              "      <td>100</td>\n",
              "      <td>52</td>\n",
              "      <td>64</td>\n",
              "      <td>32</td>\n",
              "      <td>27</td>\n",
              "      <td>0</td>\n",
              "      <td>0</td>\n",
              "      <td>21.0</td>\n",
              "      <td>9</td>\n",
              "      <td>62</td>\n",
              "      <td>2</td>\n",
              "      <td>100</td>\n",
              "      <td>14</td>\n",
              "      <td>2</td>\n",
              "    </tr>\n",
              "    <tr>\n",
              "      <th>10989</th>\n",
              "      <td>56</td>\n",
              "      <td>100</td>\n",
              "      <td>27</td>\n",
              "      <td>79</td>\n",
              "      <td>0</td>\n",
              "      <td>39</td>\n",
              "      <td>12</td>\n",
              "      <td>0</td>\n",
              "      <td>66</td>\n",
              "      <td>15</td>\n",
              "      <td>100.0</td>\n",
              "      <td>51</td>\n",
              "      <td>93</td>\n",
              "      <td>93</td>\n",
              "      <td>38</td>\n",
              "      <td>93</td>\n",
              "      <td>0</td>\n",
              "    </tr>\n",
              "    <tr>\n",
              "      <th>10990</th>\n",
              "      <td>19</td>\n",
              "      <td>100</td>\n",
              "      <td>0</td>\n",
              "      <td>61</td>\n",
              "      <td>3</td>\n",
              "      <td>23</td>\n",
              "      <td>48</td>\n",
              "      <td>0</td>\n",
              "      <td>97</td>\n",
              "      <td>27</td>\n",
              "      <td>100.0</td>\n",
              "      <td>66</td>\n",
              "      <td>62</td>\n",
              "      <td>97</td>\n",
              "      <td>10</td>\n",
              "      <td>81</td>\n",
              "      <td>0</td>\n",
              "    </tr>\n",
              "    <tr>\n",
              "      <th>10991</th>\n",
              "      <td>38</td>\n",
              "      <td>100</td>\n",
              "      <td>37</td>\n",
              "      <td>81</td>\n",
              "      <td>12</td>\n",
              "      <td>55</td>\n",
              "      <td>0</td>\n",
              "      <td>28</td>\n",
              "      <td>52</td>\n",
              "      <td>27</td>\n",
              "      <td>100.0</td>\n",
              "      <td>42</td>\n",
              "      <td>86</td>\n",
              "      <td>26</td>\n",
              "      <td>65</td>\n",
              "      <td>0</td>\n",
              "      <td>4</td>\n",
              "    </tr>\n",
              "  </tbody>\n",
              "</table>\n",
              "</div>"
            ],
            "text/plain": [
              "       input1  input2  input3  input4  ...  input14  input15  input16  class\n",
              "10987      36     100      24      70  ...       21      100        0      4\n",
              "10988      16      75      41     100  ...        2      100       14      2\n",
              "10989      56     100      27      79  ...       93       38       93      0\n",
              "10990      19     100       0      61  ...       97       10       81      0\n",
              "10991      38     100      37      81  ...       26       65        0      4\n",
              "\n",
              "[5 rows x 17 columns]"
            ]
          },
          "metadata": {
            "tags": []
          },
          "execution_count": 4
        }
      ]
    },
    {
      "cell_type": "code",
      "metadata": {
        "colab": {
          "base_uri": "https://localhost:8080/"
        },
        "id": "ot_XfPT-UmKv",
        "outputId": "ce0f065b-a2a6-48e6-bbb3-c797e2c0dad2"
      },
      "source": [
        "data.columns"
      ],
      "execution_count": null,
      "outputs": [
        {
          "output_type": "execute_result",
          "data": {
            "text/plain": [
              "Index(['input1', 'input2', 'input3', 'input4', 'input5', 'input6', 'input7',\n",
              "       'input8', 'input9', 'input10', 'input11', 'input12', 'input13',\n",
              "       'input14', 'input15', 'input16', 'class'],\n",
              "      dtype='object')"
            ]
          },
          "metadata": {
            "tags": []
          },
          "execution_count": 5
        }
      ]
    },
    {
      "cell_type": "code",
      "metadata": {
        "colab": {
          "base_uri": "https://localhost:8080/"
        },
        "id": "4E_X3YfoU0Z8",
        "outputId": "644f64d9-add7-48d1-a75d-400e47c11d32"
      },
      "source": [
        "data.dtypes"
      ],
      "execution_count": null,
      "outputs": [
        {
          "output_type": "execute_result",
          "data": {
            "text/plain": [
              "input1       int64\n",
              "input2       int64\n",
              "input3       int64\n",
              "input4       int64\n",
              "input5       int64\n",
              "input6       int64\n",
              "input7       int64\n",
              "input8       int64\n",
              "input9       int64\n",
              "input10      int64\n",
              "input11    float64\n",
              "input12      int64\n",
              "input13      int64\n",
              "input14      int64\n",
              "input15      int64\n",
              "input16      int64\n",
              "class        int64\n",
              "dtype: object"
            ]
          },
          "metadata": {
            "tags": []
          },
          "execution_count": 6
        }
      ]
    },
    {
      "cell_type": "code",
      "metadata": {
        "colab": {
          "base_uri": "https://localhost:8080/",
          "height": 319
        },
        "id": "n8_iFlRqU5R0",
        "outputId": "6e9a9af6-c199-49e7-bda0-7da7f8763442"
      },
      "source": [
        "data.describe()"
      ],
      "execution_count": null,
      "outputs": [
        {
          "output_type": "execute_result",
          "data": {
            "text/html": [
              "<div>\n",
              "<style scoped>\n",
              "    .dataframe tbody tr th:only-of-type {\n",
              "        vertical-align: middle;\n",
              "    }\n",
              "\n",
              "    .dataframe tbody tr th {\n",
              "        vertical-align: top;\n",
              "    }\n",
              "\n",
              "    .dataframe thead th {\n",
              "        text-align: right;\n",
              "    }\n",
              "</style>\n",
              "<table border=\"1\" class=\"dataframe\">\n",
              "  <thead>\n",
              "    <tr style=\"text-align: right;\">\n",
              "      <th></th>\n",
              "      <th>input1</th>\n",
              "      <th>input2</th>\n",
              "      <th>input3</th>\n",
              "      <th>input4</th>\n",
              "      <th>input5</th>\n",
              "      <th>input6</th>\n",
              "      <th>input7</th>\n",
              "      <th>input8</th>\n",
              "      <th>input9</th>\n",
              "      <th>input10</th>\n",
              "      <th>input11</th>\n",
              "      <th>input12</th>\n",
              "      <th>input13</th>\n",
              "      <th>input14</th>\n",
              "      <th>input15</th>\n",
              "      <th>input16</th>\n",
              "      <th>class</th>\n",
              "    </tr>\n",
              "  </thead>\n",
              "  <tbody>\n",
              "    <tr>\n",
              "      <th>count</th>\n",
              "      <td>10992.000000</td>\n",
              "      <td>10992.000000</td>\n",
              "      <td>10992.000000</td>\n",
              "      <td>10992.000000</td>\n",
              "      <td>10992.000000</td>\n",
              "      <td>10992.000000</td>\n",
              "      <td>10992.000000</td>\n",
              "      <td>10992.000000</td>\n",
              "      <td>10992.000000</td>\n",
              "      <td>10992.000000</td>\n",
              "      <td>10744.000000</td>\n",
              "      <td>10992.000000</td>\n",
              "      <td>10992.000000</td>\n",
              "      <td>10992.000000</td>\n",
              "      <td>10992.000000</td>\n",
              "      <td>10992.000000</td>\n",
              "      <td>10992.000000</td>\n",
              "    </tr>\n",
              "    <tr>\n",
              "      <th>mean</th>\n",
              "      <td>38.814320</td>\n",
              "      <td>85.120269</td>\n",
              "      <td>40.605622</td>\n",
              "      <td>83.774199</td>\n",
              "      <td>49.770378</td>\n",
              "      <td>65.573144</td>\n",
              "      <td>51.220251</td>\n",
              "      <td>44.498999</td>\n",
              "      <td>56.868541</td>\n",
              "      <td>33.695961</td>\n",
              "      <td>59.769918</td>\n",
              "      <td>34.826510</td>\n",
              "      <td>55.022289</td>\n",
              "      <td>34.937045</td>\n",
              "      <td>47.287482</td>\n",
              "      <td>28.845342</td>\n",
              "      <td>4.431587</td>\n",
              "    </tr>\n",
              "    <tr>\n",
              "      <th>std</th>\n",
              "      <td>34.257783</td>\n",
              "      <td>16.218571</td>\n",
              "      <td>26.342984</td>\n",
              "      <td>19.163646</td>\n",
              "      <td>34.100515</td>\n",
              "      <td>26.996688</td>\n",
              "      <td>30.576881</td>\n",
              "      <td>29.906104</td>\n",
              "      <td>34.135530</td>\n",
              "      <td>27.251548</td>\n",
              "      <td>37.385931</td>\n",
              "      <td>27.119982</td>\n",
              "      <td>22.335539</td>\n",
              "      <td>33.155463</td>\n",
              "      <td>41.760400</td>\n",
              "      <td>35.778094</td>\n",
              "      <td>2.876947</td>\n",
              "    </tr>\n",
              "    <tr>\n",
              "      <th>min</th>\n",
              "      <td>0.000000</td>\n",
              "      <td>0.000000</td>\n",
              "      <td>0.000000</td>\n",
              "      <td>0.000000</td>\n",
              "      <td>0.000000</td>\n",
              "      <td>0.000000</td>\n",
              "      <td>0.000000</td>\n",
              "      <td>0.000000</td>\n",
              "      <td>0.000000</td>\n",
              "      <td>0.000000</td>\n",
              "      <td>0.000000</td>\n",
              "      <td>0.000000</td>\n",
              "      <td>0.000000</td>\n",
              "      <td>0.000000</td>\n",
              "      <td>0.000000</td>\n",
              "      <td>0.000000</td>\n",
              "      <td>0.000000</td>\n",
              "    </tr>\n",
              "    <tr>\n",
              "      <th>25%</th>\n",
              "      <td>6.000000</td>\n",
              "      <td>76.000000</td>\n",
              "      <td>20.000000</td>\n",
              "      <td>72.000000</td>\n",
              "      <td>18.000000</td>\n",
              "      <td>49.000000</td>\n",
              "      <td>28.000000</td>\n",
              "      <td>23.000000</td>\n",
              "      <td>29.000000</td>\n",
              "      <td>7.000000</td>\n",
              "      <td>22.000000</td>\n",
              "      <td>11.000000</td>\n",
              "      <td>42.000000</td>\n",
              "      <td>5.000000</td>\n",
              "      <td>0.000000</td>\n",
              "      <td>0.000000</td>\n",
              "      <td>2.000000</td>\n",
              "    </tr>\n",
              "    <tr>\n",
              "      <th>50%</th>\n",
              "      <td>32.000000</td>\n",
              "      <td>89.000000</td>\n",
              "      <td>40.000000</td>\n",
              "      <td>91.000000</td>\n",
              "      <td>53.000000</td>\n",
              "      <td>71.000000</td>\n",
              "      <td>53.500000</td>\n",
              "      <td>43.000000</td>\n",
              "      <td>60.000000</td>\n",
              "      <td>33.000000</td>\n",
              "      <td>72.000000</td>\n",
              "      <td>30.000000</td>\n",
              "      <td>53.000000</td>\n",
              "      <td>27.000000</td>\n",
              "      <td>40.000000</td>\n",
              "      <td>9.000000</td>\n",
              "      <td>4.000000</td>\n",
              "    </tr>\n",
              "    <tr>\n",
              "      <th>75%</th>\n",
              "      <td>65.000000</td>\n",
              "      <td>100.000000</td>\n",
              "      <td>58.000000</td>\n",
              "      <td>100.000000</td>\n",
              "      <td>78.000000</td>\n",
              "      <td>86.000000</td>\n",
              "      <td>74.000000</td>\n",
              "      <td>64.000000</td>\n",
              "      <td>89.000000</td>\n",
              "      <td>54.000000</td>\n",
              "      <td>98.000000</td>\n",
              "      <td>55.000000</td>\n",
              "      <td>68.000000</td>\n",
              "      <td>47.000000</td>\n",
              "      <td>100.000000</td>\n",
              "      <td>51.000000</td>\n",
              "      <td>7.000000</td>\n",
              "    </tr>\n",
              "    <tr>\n",
              "      <th>max</th>\n",
              "      <td>100.000000</td>\n",
              "      <td>100.000000</td>\n",
              "      <td>100.000000</td>\n",
              "      <td>100.000000</td>\n",
              "      <td>100.000000</td>\n",
              "      <td>100.000000</td>\n",
              "      <td>100.000000</td>\n",
              "      <td>100.000000</td>\n",
              "      <td>100.000000</td>\n",
              "      <td>100.000000</td>\n",
              "      <td>100.000000</td>\n",
              "      <td>100.000000</td>\n",
              "      <td>100.000000</td>\n",
              "      <td>100.000000</td>\n",
              "      <td>100.000000</td>\n",
              "      <td>100.000000</td>\n",
              "      <td>9.000000</td>\n",
              "    </tr>\n",
              "  </tbody>\n",
              "</table>\n",
              "</div>"
            ],
            "text/plain": [
              "             input1        input2  ...       input16         class\n",
              "count  10992.000000  10992.000000  ...  10992.000000  10992.000000\n",
              "mean      38.814320     85.120269  ...     28.845342      4.431587\n",
              "std       34.257783     16.218571  ...     35.778094      2.876947\n",
              "min        0.000000      0.000000  ...      0.000000      0.000000\n",
              "25%        6.000000     76.000000  ...      0.000000      2.000000\n",
              "50%       32.000000     89.000000  ...      9.000000      4.000000\n",
              "75%       65.000000    100.000000  ...     51.000000      7.000000\n",
              "max      100.000000    100.000000  ...    100.000000      9.000000\n",
              "\n",
              "[8 rows x 17 columns]"
            ]
          },
          "metadata": {
            "tags": []
          },
          "execution_count": 7
        }
      ]
    },
    {
      "cell_type": "code",
      "metadata": {
        "colab": {
          "base_uri": "https://localhost:8080/"
        },
        "id": "e-MbhagpU-Az",
        "outputId": "3e18c077-07e6-4fb5-89f6-b7ba91e11b41"
      },
      "source": [
        "data.index"
      ],
      "execution_count": null,
      "outputs": [
        {
          "output_type": "execute_result",
          "data": {
            "text/plain": [
              "RangeIndex(start=0, stop=10992, step=1)"
            ]
          },
          "metadata": {
            "tags": []
          },
          "execution_count": 8
        }
      ]
    },
    {
      "cell_type": "code",
      "metadata": {
        "colab": {
          "base_uri": "https://localhost:8080/"
        },
        "id": "nYBHXsLCAE0n",
        "outputId": "6d277fe1-188a-4ad0-9f0c-df6343be05a6"
      },
      "source": [
        "# selecting data and slicing\n",
        "\n",
        "data.input1"
      ],
      "execution_count": null,
      "outputs": [
        {
          "output_type": "execute_result",
          "data": {
            "text/plain": [
              "0        47\n",
              "1         0\n",
              "2         0\n",
              "3         0\n",
              "4         0\n",
              "         ..\n",
              "10987    36\n",
              "10988    16\n",
              "10989    56\n",
              "10990    19\n",
              "10991    38\n",
              "Name: input1, Length: 10992, dtype: int64"
            ]
          },
          "metadata": {
            "tags": []
          },
          "execution_count": 9
        }
      ]
    },
    {
      "cell_type": "code",
      "metadata": {
        "colab": {
          "base_uri": "https://localhost:8080/"
        },
        "id": "K_1cePOeAJB4",
        "outputId": "10695e46-c49d-4868-f801-e9f2cf543cc9"
      },
      "source": [
        "type(data.input1)"
      ],
      "execution_count": null,
      "outputs": [
        {
          "output_type": "execute_result",
          "data": {
            "text/plain": [
              "pandas.core.series.Series"
            ]
          },
          "metadata": {
            "tags": []
          },
          "execution_count": 10
        }
      ]
    },
    {
      "cell_type": "code",
      "metadata": {
        "colab": {
          "base_uri": "https://localhost:8080/"
        },
        "id": "nmJkugqcAbLP",
        "outputId": "7479327a-67e1-4b0c-d7e5-305205f02e16"
      },
      "source": [
        "data['input1']"
      ],
      "execution_count": null,
      "outputs": [
        {
          "output_type": "execute_result",
          "data": {
            "text/plain": [
              "0        47\n",
              "1         0\n",
              "2         0\n",
              "3         0\n",
              "4         0\n",
              "         ..\n",
              "10987    36\n",
              "10988    16\n",
              "10989    56\n",
              "10990    19\n",
              "10991    38\n",
              "Name: input1, Length: 10992, dtype: int64"
            ]
          },
          "metadata": {
            "tags": []
          },
          "execution_count": 11
        }
      ]
    },
    {
      "cell_type": "code",
      "metadata": {
        "colab": {
          "base_uri": "https://localhost:8080/"
        },
        "id": "Tc3cMu3bAiGl",
        "outputId": "62d2235f-b4eb-4cb8-e7f7-7e6d9585ba07"
      },
      "source": [
        "type(data['input1'])"
      ],
      "execution_count": null,
      "outputs": [
        {
          "output_type": "execute_result",
          "data": {
            "text/plain": [
              "pandas.core.series.Series"
            ]
          },
          "metadata": {
            "tags": []
          },
          "execution_count": 12
        }
      ]
    },
    {
      "cell_type": "code",
      "metadata": {
        "colab": {
          "base_uri": "https://localhost:8080/",
          "height": 422
        },
        "id": "Dq6C1VPJAsUV",
        "outputId": "92a40fe1-24e6-41ec-fc88-11463bf96cfe"
      },
      "source": [
        "data[['input1']]"
      ],
      "execution_count": null,
      "outputs": [
        {
          "output_type": "execute_result",
          "data": {
            "text/html": [
              "<div>\n",
              "<style scoped>\n",
              "    .dataframe tbody tr th:only-of-type {\n",
              "        vertical-align: middle;\n",
              "    }\n",
              "\n",
              "    .dataframe tbody tr th {\n",
              "        vertical-align: top;\n",
              "    }\n",
              "\n",
              "    .dataframe thead th {\n",
              "        text-align: right;\n",
              "    }\n",
              "</style>\n",
              "<table border=\"1\" class=\"dataframe\">\n",
              "  <thead>\n",
              "    <tr style=\"text-align: right;\">\n",
              "      <th></th>\n",
              "      <th>input1</th>\n",
              "    </tr>\n",
              "  </thead>\n",
              "  <tbody>\n",
              "    <tr>\n",
              "      <th>0</th>\n",
              "      <td>47</td>\n",
              "    </tr>\n",
              "    <tr>\n",
              "      <th>1</th>\n",
              "      <td>0</td>\n",
              "    </tr>\n",
              "    <tr>\n",
              "      <th>2</th>\n",
              "      <td>0</td>\n",
              "    </tr>\n",
              "    <tr>\n",
              "      <th>3</th>\n",
              "      <td>0</td>\n",
              "    </tr>\n",
              "    <tr>\n",
              "      <th>4</th>\n",
              "      <td>0</td>\n",
              "    </tr>\n",
              "    <tr>\n",
              "      <th>...</th>\n",
              "      <td>...</td>\n",
              "    </tr>\n",
              "    <tr>\n",
              "      <th>10987</th>\n",
              "      <td>36</td>\n",
              "    </tr>\n",
              "    <tr>\n",
              "      <th>10988</th>\n",
              "      <td>16</td>\n",
              "    </tr>\n",
              "    <tr>\n",
              "      <th>10989</th>\n",
              "      <td>56</td>\n",
              "    </tr>\n",
              "    <tr>\n",
              "      <th>10990</th>\n",
              "      <td>19</td>\n",
              "    </tr>\n",
              "    <tr>\n",
              "      <th>10991</th>\n",
              "      <td>38</td>\n",
              "    </tr>\n",
              "  </tbody>\n",
              "</table>\n",
              "<p>10992 rows × 1 columns</p>\n",
              "</div>"
            ],
            "text/plain": [
              "       input1\n",
              "0          47\n",
              "1           0\n",
              "2           0\n",
              "3           0\n",
              "4           0\n",
              "...       ...\n",
              "10987      36\n",
              "10988      16\n",
              "10989      56\n",
              "10990      19\n",
              "10991      38\n",
              "\n",
              "[10992 rows x 1 columns]"
            ]
          },
          "metadata": {
            "tags": []
          },
          "execution_count": 13
        }
      ]
    },
    {
      "cell_type": "code",
      "metadata": {
        "colab": {
          "base_uri": "https://localhost:8080/"
        },
        "id": "8ifiSWmMAyGI",
        "outputId": "0186346c-61c5-43bb-d28e-a6489a7df1f2"
      },
      "source": [
        "type(data[['input1']])"
      ],
      "execution_count": null,
      "outputs": [
        {
          "output_type": "execute_result",
          "data": {
            "text/plain": [
              "pandas.core.frame.DataFrame"
            ]
          },
          "metadata": {
            "tags": []
          },
          "execution_count": 14
        }
      ]
    },
    {
      "cell_type": "code",
      "metadata": {
        "colab": {
          "base_uri": "https://localhost:8080/",
          "height": 422
        },
        "id": "XN21V6qUA3y7",
        "outputId": "6256e1d2-0bbc-466c-eb0b-7ebbc3e57971"
      },
      "source": [
        "data[['input1','input2']]"
      ],
      "execution_count": null,
      "outputs": [
        {
          "output_type": "execute_result",
          "data": {
            "text/html": [
              "<div>\n",
              "<style scoped>\n",
              "    .dataframe tbody tr th:only-of-type {\n",
              "        vertical-align: middle;\n",
              "    }\n",
              "\n",
              "    .dataframe tbody tr th {\n",
              "        vertical-align: top;\n",
              "    }\n",
              "\n",
              "    .dataframe thead th {\n",
              "        text-align: right;\n",
              "    }\n",
              "</style>\n",
              "<table border=\"1\" class=\"dataframe\">\n",
              "  <thead>\n",
              "    <tr style=\"text-align: right;\">\n",
              "      <th></th>\n",
              "      <th>input1</th>\n",
              "      <th>input2</th>\n",
              "    </tr>\n",
              "  </thead>\n",
              "  <tbody>\n",
              "    <tr>\n",
              "      <th>0</th>\n",
              "      <td>47</td>\n",
              "      <td>100</td>\n",
              "    </tr>\n",
              "    <tr>\n",
              "      <th>1</th>\n",
              "      <td>0</td>\n",
              "      <td>89</td>\n",
              "    </tr>\n",
              "    <tr>\n",
              "      <th>2</th>\n",
              "      <td>0</td>\n",
              "      <td>57</td>\n",
              "    </tr>\n",
              "    <tr>\n",
              "      <th>3</th>\n",
              "      <td>0</td>\n",
              "      <td>100</td>\n",
              "    </tr>\n",
              "    <tr>\n",
              "      <th>4</th>\n",
              "      <td>0</td>\n",
              "      <td>67</td>\n",
              "    </tr>\n",
              "    <tr>\n",
              "      <th>...</th>\n",
              "      <td>...</td>\n",
              "      <td>...</td>\n",
              "    </tr>\n",
              "    <tr>\n",
              "      <th>10987</th>\n",
              "      <td>36</td>\n",
              "      <td>100</td>\n",
              "    </tr>\n",
              "    <tr>\n",
              "      <th>10988</th>\n",
              "      <td>16</td>\n",
              "      <td>75</td>\n",
              "    </tr>\n",
              "    <tr>\n",
              "      <th>10989</th>\n",
              "      <td>56</td>\n",
              "      <td>100</td>\n",
              "    </tr>\n",
              "    <tr>\n",
              "      <th>10990</th>\n",
              "      <td>19</td>\n",
              "      <td>100</td>\n",
              "    </tr>\n",
              "    <tr>\n",
              "      <th>10991</th>\n",
              "      <td>38</td>\n",
              "      <td>100</td>\n",
              "    </tr>\n",
              "  </tbody>\n",
              "</table>\n",
              "<p>10992 rows × 2 columns</p>\n",
              "</div>"
            ],
            "text/plain": [
              "       input1  input2\n",
              "0          47     100\n",
              "1           0      89\n",
              "2           0      57\n",
              "3           0     100\n",
              "4           0      67\n",
              "...       ...     ...\n",
              "10987      36     100\n",
              "10988      16      75\n",
              "10989      56     100\n",
              "10990      19     100\n",
              "10991      38     100\n",
              "\n",
              "[10992 rows x 2 columns]"
            ]
          },
          "metadata": {
            "tags": []
          },
          "execution_count": 15
        }
      ]
    },
    {
      "cell_type": "code",
      "metadata": {
        "colab": {
          "base_uri": "https://localhost:8080/",
          "height": 195
        },
        "id": "mK_0IbvsA-vN",
        "outputId": "8bed0c56-615d-4e0c-acc4-c93f065ab5d3"
      },
      "source": [
        "# [] slices the row\n",
        "\n",
        "data[:4]"
      ],
      "execution_count": null,
      "outputs": [
        {
          "output_type": "execute_result",
          "data": {
            "text/html": [
              "<div>\n",
              "<style scoped>\n",
              "    .dataframe tbody tr th:only-of-type {\n",
              "        vertical-align: middle;\n",
              "    }\n",
              "\n",
              "    .dataframe tbody tr th {\n",
              "        vertical-align: top;\n",
              "    }\n",
              "\n",
              "    .dataframe thead th {\n",
              "        text-align: right;\n",
              "    }\n",
              "</style>\n",
              "<table border=\"1\" class=\"dataframe\">\n",
              "  <thead>\n",
              "    <tr style=\"text-align: right;\">\n",
              "      <th></th>\n",
              "      <th>input1</th>\n",
              "      <th>input2</th>\n",
              "      <th>input3</th>\n",
              "      <th>input4</th>\n",
              "      <th>input5</th>\n",
              "      <th>input6</th>\n",
              "      <th>input7</th>\n",
              "      <th>input8</th>\n",
              "      <th>input9</th>\n",
              "      <th>input10</th>\n",
              "      <th>input11</th>\n",
              "      <th>input12</th>\n",
              "      <th>input13</th>\n",
              "      <th>input14</th>\n",
              "      <th>input15</th>\n",
              "      <th>input16</th>\n",
              "      <th>class</th>\n",
              "    </tr>\n",
              "  </thead>\n",
              "  <tbody>\n",
              "    <tr>\n",
              "      <th>0</th>\n",
              "      <td>47</td>\n",
              "      <td>100</td>\n",
              "      <td>27</td>\n",
              "      <td>81</td>\n",
              "      <td>57</td>\n",
              "      <td>37</td>\n",
              "      <td>26</td>\n",
              "      <td>0</td>\n",
              "      <td>0</td>\n",
              "      <td>23</td>\n",
              "      <td>56.0</td>\n",
              "      <td>53</td>\n",
              "      <td>100</td>\n",
              "      <td>90</td>\n",
              "      <td>40</td>\n",
              "      <td>98</td>\n",
              "      <td>8</td>\n",
              "    </tr>\n",
              "    <tr>\n",
              "      <th>1</th>\n",
              "      <td>0</td>\n",
              "      <td>89</td>\n",
              "      <td>27</td>\n",
              "      <td>100</td>\n",
              "      <td>42</td>\n",
              "      <td>75</td>\n",
              "      <td>29</td>\n",
              "      <td>45</td>\n",
              "      <td>15</td>\n",
              "      <td>15</td>\n",
              "      <td>37.0</td>\n",
              "      <td>0</td>\n",
              "      <td>69</td>\n",
              "      <td>2</td>\n",
              "      <td>100</td>\n",
              "      <td>6</td>\n",
              "      <td>2</td>\n",
              "    </tr>\n",
              "    <tr>\n",
              "      <th>2</th>\n",
              "      <td>0</td>\n",
              "      <td>57</td>\n",
              "      <td>31</td>\n",
              "      <td>68</td>\n",
              "      <td>72</td>\n",
              "      <td>90</td>\n",
              "      <td>100</td>\n",
              "      <td>100</td>\n",
              "      <td>76</td>\n",
              "      <td>75</td>\n",
              "      <td>50.0</td>\n",
              "      <td>51</td>\n",
              "      <td>28</td>\n",
              "      <td>25</td>\n",
              "      <td>16</td>\n",
              "      <td>0</td>\n",
              "      <td>1</td>\n",
              "    </tr>\n",
              "    <tr>\n",
              "      <th>3</th>\n",
              "      <td>0</td>\n",
              "      <td>100</td>\n",
              "      <td>7</td>\n",
              "      <td>92</td>\n",
              "      <td>5</td>\n",
              "      <td>68</td>\n",
              "      <td>19</td>\n",
              "      <td>45</td>\n",
              "      <td>86</td>\n",
              "      <td>34</td>\n",
              "      <td>100.0</td>\n",
              "      <td>45</td>\n",
              "      <td>74</td>\n",
              "      <td>23</td>\n",
              "      <td>67</td>\n",
              "      <td>0</td>\n",
              "      <td>4</td>\n",
              "    </tr>\n",
              "  </tbody>\n",
              "</table>\n",
              "</div>"
            ],
            "text/plain": [
              "   input1  input2  input3  input4  ...  input14  input15  input16  class\n",
              "0      47     100      27      81  ...       90       40       98      8\n",
              "1       0      89      27     100  ...        2      100        6      2\n",
              "2       0      57      31      68  ...       25       16        0      1\n",
              "3       0     100       7      92  ...       23       67        0      4\n",
              "\n",
              "[4 rows x 17 columns]"
            ]
          },
          "metadata": {
            "tags": []
          },
          "execution_count": 16
        }
      ]
    },
    {
      "cell_type": "code",
      "metadata": {
        "colab": {
          "base_uri": "https://localhost:8080/",
          "height": 288
        },
        "id": "No_m22zrBHol",
        "outputId": "dc9140b2-e1d6-47c1-b7b2-46a1b5cfe339"
      },
      "source": [
        "data[7:14]"
      ],
      "execution_count": null,
      "outputs": [
        {
          "output_type": "execute_result",
          "data": {
            "text/html": [
              "<div>\n",
              "<style scoped>\n",
              "    .dataframe tbody tr th:only-of-type {\n",
              "        vertical-align: middle;\n",
              "    }\n",
              "\n",
              "    .dataframe tbody tr th {\n",
              "        vertical-align: top;\n",
              "    }\n",
              "\n",
              "    .dataframe thead th {\n",
              "        text-align: right;\n",
              "    }\n",
              "</style>\n",
              "<table border=\"1\" class=\"dataframe\">\n",
              "  <thead>\n",
              "    <tr style=\"text-align: right;\">\n",
              "      <th></th>\n",
              "      <th>input1</th>\n",
              "      <th>input2</th>\n",
              "      <th>input3</th>\n",
              "      <th>input4</th>\n",
              "      <th>input5</th>\n",
              "      <th>input6</th>\n",
              "      <th>input7</th>\n",
              "      <th>input8</th>\n",
              "      <th>input9</th>\n",
              "      <th>input10</th>\n",
              "      <th>input11</th>\n",
              "      <th>input12</th>\n",
              "      <th>input13</th>\n",
              "      <th>input14</th>\n",
              "      <th>input15</th>\n",
              "      <th>input16</th>\n",
              "      <th>class</th>\n",
              "    </tr>\n",
              "  </thead>\n",
              "  <tbody>\n",
              "    <tr>\n",
              "      <th>7</th>\n",
              "      <td>0</td>\n",
              "      <td>39</td>\n",
              "      <td>2</td>\n",
              "      <td>62</td>\n",
              "      <td>11</td>\n",
              "      <td>5</td>\n",
              "      <td>63</td>\n",
              "      <td>0</td>\n",
              "      <td>100</td>\n",
              "      <td>43</td>\n",
              "      <td>89.0</td>\n",
              "      <td>99</td>\n",
              "      <td>36</td>\n",
              "      <td>100</td>\n",
              "      <td>0</td>\n",
              "      <td>57</td>\n",
              "      <td>0</td>\n",
              "    </tr>\n",
              "    <tr>\n",
              "      <th>8</th>\n",
              "      <td>13</td>\n",
              "      <td>89</td>\n",
              "      <td>12</td>\n",
              "      <td>50</td>\n",
              "      <td>72</td>\n",
              "      <td>38</td>\n",
              "      <td>56</td>\n",
              "      <td>0</td>\n",
              "      <td>4</td>\n",
              "      <td>17</td>\n",
              "      <td>0.0</td>\n",
              "      <td>61</td>\n",
              "      <td>32</td>\n",
              "      <td>94</td>\n",
              "      <td>100</td>\n",
              "      <td>100</td>\n",
              "      <td>5</td>\n",
              "    </tr>\n",
              "    <tr>\n",
              "      <th>9</th>\n",
              "      <td>57</td>\n",
              "      <td>100</td>\n",
              "      <td>22</td>\n",
              "      <td>72</td>\n",
              "      <td>0</td>\n",
              "      <td>31</td>\n",
              "      <td>25</td>\n",
              "      <td>0</td>\n",
              "      <td>75</td>\n",
              "      <td>13</td>\n",
              "      <td>100.0</td>\n",
              "      <td>50</td>\n",
              "      <td>75</td>\n",
              "      <td>87</td>\n",
              "      <td>26</td>\n",
              "      <td>85</td>\n",
              "      <td>0</td>\n",
              "    </tr>\n",
              "    <tr>\n",
              "      <th>10</th>\n",
              "      <td>74</td>\n",
              "      <td>87</td>\n",
              "      <td>31</td>\n",
              "      <td>100</td>\n",
              "      <td>0</td>\n",
              "      <td>69</td>\n",
              "      <td>62</td>\n",
              "      <td>64</td>\n",
              "      <td>100</td>\n",
              "      <td>79</td>\n",
              "      <td>100.0</td>\n",
              "      <td>38</td>\n",
              "      <td>84</td>\n",
              "      <td>0</td>\n",
              "      <td>18</td>\n",
              "      <td>1</td>\n",
              "      <td>9</td>\n",
              "    </tr>\n",
              "    <tr>\n",
              "      <th>11</th>\n",
              "      <td>48</td>\n",
              "      <td>96</td>\n",
              "      <td>62</td>\n",
              "      <td>65</td>\n",
              "      <td>88</td>\n",
              "      <td>27</td>\n",
              "      <td>21</td>\n",
              "      <td>0</td>\n",
              "      <td>21</td>\n",
              "      <td>33</td>\n",
              "      <td>79.0</td>\n",
              "      <td>67</td>\n",
              "      <td>100</td>\n",
              "      <td>100</td>\n",
              "      <td>0</td>\n",
              "      <td>85</td>\n",
              "      <td>8</td>\n",
              "    </tr>\n",
              "    <tr>\n",
              "      <th>12</th>\n",
              "      <td>100</td>\n",
              "      <td>100</td>\n",
              "      <td>72</td>\n",
              "      <td>99</td>\n",
              "      <td>36</td>\n",
              "      <td>78</td>\n",
              "      <td>34</td>\n",
              "      <td>54</td>\n",
              "      <td>79</td>\n",
              "      <td>47</td>\n",
              "      <td>64.0</td>\n",
              "      <td>13</td>\n",
              "      <td>19</td>\n",
              "      <td>0</td>\n",
              "      <td>0</td>\n",
              "      <td>2</td>\n",
              "      <td>5</td>\n",
              "    </tr>\n",
              "    <tr>\n",
              "      <th>13</th>\n",
              "      <td>91</td>\n",
              "      <td>74</td>\n",
              "      <td>54</td>\n",
              "      <td>100</td>\n",
              "      <td>0</td>\n",
              "      <td>87</td>\n",
              "      <td>23</td>\n",
              "      <td>59</td>\n",
              "      <td>81</td>\n",
              "      <td>67</td>\n",
              "      <td>100.0</td>\n",
              "      <td>39</td>\n",
              "      <td>79</td>\n",
              "      <td>4</td>\n",
              "      <td>21</td>\n",
              "      <td>0</td>\n",
              "      <td>9</td>\n",
              "    </tr>\n",
              "  </tbody>\n",
              "</table>\n",
              "</div>"
            ],
            "text/plain": [
              "    input1  input2  input3  input4  ...  input14  input15  input16  class\n",
              "7        0      39       2      62  ...      100        0       57      0\n",
              "8       13      89      12      50  ...       94      100      100      5\n",
              "9       57     100      22      72  ...       87       26       85      0\n",
              "10      74      87      31     100  ...        0       18        1      9\n",
              "11      48      96      62      65  ...      100        0       85      8\n",
              "12     100     100      72      99  ...        0        0        2      5\n",
              "13      91      74      54     100  ...        4       21        0      9\n",
              "\n",
              "[7 rows x 17 columns]"
            ]
          },
          "metadata": {
            "tags": []
          },
          "execution_count": 17
        }
      ]
    },
    {
      "cell_type": "code",
      "metadata": {
        "colab": {
          "base_uri": "https://localhost:8080/"
        },
        "id": "ITIdWJstBOXJ",
        "outputId": "975e4dc5-5dcc-44e5-a15d-212dc4b271b1"
      },
      "source": [
        "# selection by labels\n",
        "\n",
        "data.loc[1]"
      ],
      "execution_count": null,
      "outputs": [
        {
          "output_type": "execute_result",
          "data": {
            "text/plain": [
              "input1       0.0\n",
              "input2      89.0\n",
              "input3      27.0\n",
              "input4     100.0\n",
              "input5      42.0\n",
              "input6      75.0\n",
              "input7      29.0\n",
              "input8      45.0\n",
              "input9      15.0\n",
              "input10     15.0\n",
              "input11     37.0\n",
              "input12      0.0\n",
              "input13     69.0\n",
              "input14      2.0\n",
              "input15    100.0\n",
              "input16      6.0\n",
              "class        2.0\n",
              "Name: 1, dtype: float64"
            ]
          },
          "metadata": {
            "tags": []
          },
          "execution_count": 18
        }
      ]
    },
    {
      "cell_type": "code",
      "metadata": {
        "colab": {
          "base_uri": "https://localhost:8080/",
          "height": 101
        },
        "id": "aGIPuMh2BPDO",
        "outputId": "2eb940c5-b889-4f15-fefa-9761185a6e21"
      },
      "source": [
        "data.loc[[1]]"
      ],
      "execution_count": null,
      "outputs": [
        {
          "output_type": "execute_result",
          "data": {
            "text/html": [
              "<div>\n",
              "<style scoped>\n",
              "    .dataframe tbody tr th:only-of-type {\n",
              "        vertical-align: middle;\n",
              "    }\n",
              "\n",
              "    .dataframe tbody tr th {\n",
              "        vertical-align: top;\n",
              "    }\n",
              "\n",
              "    .dataframe thead th {\n",
              "        text-align: right;\n",
              "    }\n",
              "</style>\n",
              "<table border=\"1\" class=\"dataframe\">\n",
              "  <thead>\n",
              "    <tr style=\"text-align: right;\">\n",
              "      <th></th>\n",
              "      <th>input1</th>\n",
              "      <th>input2</th>\n",
              "      <th>input3</th>\n",
              "      <th>input4</th>\n",
              "      <th>input5</th>\n",
              "      <th>input6</th>\n",
              "      <th>input7</th>\n",
              "      <th>input8</th>\n",
              "      <th>input9</th>\n",
              "      <th>input10</th>\n",
              "      <th>input11</th>\n",
              "      <th>input12</th>\n",
              "      <th>input13</th>\n",
              "      <th>input14</th>\n",
              "      <th>input15</th>\n",
              "      <th>input16</th>\n",
              "      <th>class</th>\n",
              "    </tr>\n",
              "  </thead>\n",
              "  <tbody>\n",
              "    <tr>\n",
              "      <th>1</th>\n",
              "      <td>0</td>\n",
              "      <td>89</td>\n",
              "      <td>27</td>\n",
              "      <td>100</td>\n",
              "      <td>42</td>\n",
              "      <td>75</td>\n",
              "      <td>29</td>\n",
              "      <td>45</td>\n",
              "      <td>15</td>\n",
              "      <td>15</td>\n",
              "      <td>37.0</td>\n",
              "      <td>0</td>\n",
              "      <td>69</td>\n",
              "      <td>2</td>\n",
              "      <td>100</td>\n",
              "      <td>6</td>\n",
              "      <td>2</td>\n",
              "    </tr>\n",
              "  </tbody>\n",
              "</table>\n",
              "</div>"
            ],
            "text/plain": [
              "   input1  input2  input3  input4  ...  input14  input15  input16  class\n",
              "1       0      89      27     100  ...        2      100        6      2\n",
              "\n",
              "[1 rows x 17 columns]"
            ]
          },
          "metadata": {
            "tags": []
          },
          "execution_count": 19
        }
      ]
    },
    {
      "cell_type": "code",
      "metadata": {
        "colab": {
          "base_uri": "https://localhost:8080/",
          "height": 195
        },
        "id": "qSI8AO6TBqan",
        "outputId": "b151892a-eba5-4512-d384-a76d98bb7a9d"
      },
      "source": [
        "data.loc[:3]"
      ],
      "execution_count": null,
      "outputs": [
        {
          "output_type": "execute_result",
          "data": {
            "text/html": [
              "<div>\n",
              "<style scoped>\n",
              "    .dataframe tbody tr th:only-of-type {\n",
              "        vertical-align: middle;\n",
              "    }\n",
              "\n",
              "    .dataframe tbody tr th {\n",
              "        vertical-align: top;\n",
              "    }\n",
              "\n",
              "    .dataframe thead th {\n",
              "        text-align: right;\n",
              "    }\n",
              "</style>\n",
              "<table border=\"1\" class=\"dataframe\">\n",
              "  <thead>\n",
              "    <tr style=\"text-align: right;\">\n",
              "      <th></th>\n",
              "      <th>input1</th>\n",
              "      <th>input2</th>\n",
              "      <th>input3</th>\n",
              "      <th>input4</th>\n",
              "      <th>input5</th>\n",
              "      <th>input6</th>\n",
              "      <th>input7</th>\n",
              "      <th>input8</th>\n",
              "      <th>input9</th>\n",
              "      <th>input10</th>\n",
              "      <th>input11</th>\n",
              "      <th>input12</th>\n",
              "      <th>input13</th>\n",
              "      <th>input14</th>\n",
              "      <th>input15</th>\n",
              "      <th>input16</th>\n",
              "      <th>class</th>\n",
              "    </tr>\n",
              "  </thead>\n",
              "  <tbody>\n",
              "    <tr>\n",
              "      <th>0</th>\n",
              "      <td>47</td>\n",
              "      <td>100</td>\n",
              "      <td>27</td>\n",
              "      <td>81</td>\n",
              "      <td>57</td>\n",
              "      <td>37</td>\n",
              "      <td>26</td>\n",
              "      <td>0</td>\n",
              "      <td>0</td>\n",
              "      <td>23</td>\n",
              "      <td>56.0</td>\n",
              "      <td>53</td>\n",
              "      <td>100</td>\n",
              "      <td>90</td>\n",
              "      <td>40</td>\n",
              "      <td>98</td>\n",
              "      <td>8</td>\n",
              "    </tr>\n",
              "    <tr>\n",
              "      <th>1</th>\n",
              "      <td>0</td>\n",
              "      <td>89</td>\n",
              "      <td>27</td>\n",
              "      <td>100</td>\n",
              "      <td>42</td>\n",
              "      <td>75</td>\n",
              "      <td>29</td>\n",
              "      <td>45</td>\n",
              "      <td>15</td>\n",
              "      <td>15</td>\n",
              "      <td>37.0</td>\n",
              "      <td>0</td>\n",
              "      <td>69</td>\n",
              "      <td>2</td>\n",
              "      <td>100</td>\n",
              "      <td>6</td>\n",
              "      <td>2</td>\n",
              "    </tr>\n",
              "    <tr>\n",
              "      <th>2</th>\n",
              "      <td>0</td>\n",
              "      <td>57</td>\n",
              "      <td>31</td>\n",
              "      <td>68</td>\n",
              "      <td>72</td>\n",
              "      <td>90</td>\n",
              "      <td>100</td>\n",
              "      <td>100</td>\n",
              "      <td>76</td>\n",
              "      <td>75</td>\n",
              "      <td>50.0</td>\n",
              "      <td>51</td>\n",
              "      <td>28</td>\n",
              "      <td>25</td>\n",
              "      <td>16</td>\n",
              "      <td>0</td>\n",
              "      <td>1</td>\n",
              "    </tr>\n",
              "    <tr>\n",
              "      <th>3</th>\n",
              "      <td>0</td>\n",
              "      <td>100</td>\n",
              "      <td>7</td>\n",
              "      <td>92</td>\n",
              "      <td>5</td>\n",
              "      <td>68</td>\n",
              "      <td>19</td>\n",
              "      <td>45</td>\n",
              "      <td>86</td>\n",
              "      <td>34</td>\n",
              "      <td>100.0</td>\n",
              "      <td>45</td>\n",
              "      <td>74</td>\n",
              "      <td>23</td>\n",
              "      <td>67</td>\n",
              "      <td>0</td>\n",
              "      <td>4</td>\n",
              "    </tr>\n",
              "  </tbody>\n",
              "</table>\n",
              "</div>"
            ],
            "text/plain": [
              "   input1  input2  input3  input4  ...  input14  input15  input16  class\n",
              "0      47     100      27      81  ...       90       40       98      8\n",
              "1       0      89      27     100  ...        2      100        6      2\n",
              "2       0      57      31      68  ...       25       16        0      1\n",
              "3       0     100       7      92  ...       23       67        0      4\n",
              "\n",
              "[4 rows x 17 columns]"
            ]
          },
          "metadata": {
            "tags": []
          },
          "execution_count": 20
        }
      ]
    },
    {
      "cell_type": "code",
      "metadata": {
        "colab": {
          "base_uri": "https://localhost:8080/",
          "height": 175
        },
        "id": "W-vuta7WBcAg",
        "outputId": "590f1e7e-2fc0-4513-db88-151de56ccc5a"
      },
      "source": [
        "data.loc[:3,['input1','input2','input3','input4']]"
      ],
      "execution_count": null,
      "outputs": [
        {
          "output_type": "execute_result",
          "data": {
            "text/html": [
              "<div>\n",
              "<style scoped>\n",
              "    .dataframe tbody tr th:only-of-type {\n",
              "        vertical-align: middle;\n",
              "    }\n",
              "\n",
              "    .dataframe tbody tr th {\n",
              "        vertical-align: top;\n",
              "    }\n",
              "\n",
              "    .dataframe thead th {\n",
              "        text-align: right;\n",
              "    }\n",
              "</style>\n",
              "<table border=\"1\" class=\"dataframe\">\n",
              "  <thead>\n",
              "    <tr style=\"text-align: right;\">\n",
              "      <th></th>\n",
              "      <th>input1</th>\n",
              "      <th>input2</th>\n",
              "      <th>input3</th>\n",
              "      <th>input4</th>\n",
              "    </tr>\n",
              "  </thead>\n",
              "  <tbody>\n",
              "    <tr>\n",
              "      <th>0</th>\n",
              "      <td>47</td>\n",
              "      <td>100</td>\n",
              "      <td>27</td>\n",
              "      <td>81</td>\n",
              "    </tr>\n",
              "    <tr>\n",
              "      <th>1</th>\n",
              "      <td>0</td>\n",
              "      <td>89</td>\n",
              "      <td>27</td>\n",
              "      <td>100</td>\n",
              "    </tr>\n",
              "    <tr>\n",
              "      <th>2</th>\n",
              "      <td>0</td>\n",
              "      <td>57</td>\n",
              "      <td>31</td>\n",
              "      <td>68</td>\n",
              "    </tr>\n",
              "    <tr>\n",
              "      <th>3</th>\n",
              "      <td>0</td>\n",
              "      <td>100</td>\n",
              "      <td>7</td>\n",
              "      <td>92</td>\n",
              "    </tr>\n",
              "  </tbody>\n",
              "</table>\n",
              "</div>"
            ],
            "text/plain": [
              "   input1  input2  input3  input4\n",
              "0      47     100      27      81\n",
              "1       0      89      27     100\n",
              "2       0      57      31      68\n",
              "3       0     100       7      92"
            ]
          },
          "metadata": {
            "tags": []
          },
          "execution_count": 21
        }
      ]
    },
    {
      "cell_type": "code",
      "metadata": {
        "colab": {
          "base_uri": "https://localhost:8080/"
        },
        "id": "aQ-FEV3SBPgV",
        "outputId": "c32298c4-73e9-46b1-f38a-e3e7a103e60b"
      },
      "source": [
        "# selection by position  # iloc\n",
        "\n",
        "data.iloc[1]"
      ],
      "execution_count": null,
      "outputs": [
        {
          "output_type": "execute_result",
          "data": {
            "text/plain": [
              "input1       0.0\n",
              "input2      89.0\n",
              "input3      27.0\n",
              "input4     100.0\n",
              "input5      42.0\n",
              "input6      75.0\n",
              "input7      29.0\n",
              "input8      45.0\n",
              "input9      15.0\n",
              "input10     15.0\n",
              "input11     37.0\n",
              "input12      0.0\n",
              "input13     69.0\n",
              "input14      2.0\n",
              "input15    100.0\n",
              "input16      6.0\n",
              "class        2.0\n",
              "Name: 1, dtype: float64"
            ]
          },
          "metadata": {
            "tags": []
          },
          "execution_count": 22
        }
      ]
    },
    {
      "cell_type": "code",
      "metadata": {
        "colab": {
          "base_uri": "https://localhost:8080/",
          "height": 101
        },
        "id": "BKRp-lBuB-M1",
        "outputId": "52768dc4-1507-4c77-a898-d037715a3ab8"
      },
      "source": [
        "data.iloc[[1]]"
      ],
      "execution_count": null,
      "outputs": [
        {
          "output_type": "execute_result",
          "data": {
            "text/html": [
              "<div>\n",
              "<style scoped>\n",
              "    .dataframe tbody tr th:only-of-type {\n",
              "        vertical-align: middle;\n",
              "    }\n",
              "\n",
              "    .dataframe tbody tr th {\n",
              "        vertical-align: top;\n",
              "    }\n",
              "\n",
              "    .dataframe thead th {\n",
              "        text-align: right;\n",
              "    }\n",
              "</style>\n",
              "<table border=\"1\" class=\"dataframe\">\n",
              "  <thead>\n",
              "    <tr style=\"text-align: right;\">\n",
              "      <th></th>\n",
              "      <th>input1</th>\n",
              "      <th>input2</th>\n",
              "      <th>input3</th>\n",
              "      <th>input4</th>\n",
              "      <th>input5</th>\n",
              "      <th>input6</th>\n",
              "      <th>input7</th>\n",
              "      <th>input8</th>\n",
              "      <th>input9</th>\n",
              "      <th>input10</th>\n",
              "      <th>input11</th>\n",
              "      <th>input12</th>\n",
              "      <th>input13</th>\n",
              "      <th>input14</th>\n",
              "      <th>input15</th>\n",
              "      <th>input16</th>\n",
              "      <th>class</th>\n",
              "    </tr>\n",
              "  </thead>\n",
              "  <tbody>\n",
              "    <tr>\n",
              "      <th>1</th>\n",
              "      <td>0</td>\n",
              "      <td>89</td>\n",
              "      <td>27</td>\n",
              "      <td>100</td>\n",
              "      <td>42</td>\n",
              "      <td>75</td>\n",
              "      <td>29</td>\n",
              "      <td>45</td>\n",
              "      <td>15</td>\n",
              "      <td>15</td>\n",
              "      <td>37.0</td>\n",
              "      <td>0</td>\n",
              "      <td>69</td>\n",
              "      <td>2</td>\n",
              "      <td>100</td>\n",
              "      <td>6</td>\n",
              "      <td>2</td>\n",
              "    </tr>\n",
              "  </tbody>\n",
              "</table>\n",
              "</div>"
            ],
            "text/plain": [
              "   input1  input2  input3  input4  ...  input14  input15  input16  class\n",
              "1       0      89      27     100  ...        2      100        6      2\n",
              "\n",
              "[1 rows x 17 columns]"
            ]
          },
          "metadata": {
            "tags": []
          },
          "execution_count": 23
        }
      ]
    },
    {
      "cell_type": "code",
      "metadata": {
        "colab": {
          "base_uri": "https://localhost:8080/",
          "height": 175
        },
        "id": "D3tJCw_uB_CL",
        "outputId": "c967cd5e-c414-4d61-cce1-7f30362d7b73"
      },
      "source": [
        "data.iloc[:4,:4]"
      ],
      "execution_count": null,
      "outputs": [
        {
          "output_type": "execute_result",
          "data": {
            "text/html": [
              "<div>\n",
              "<style scoped>\n",
              "    .dataframe tbody tr th:only-of-type {\n",
              "        vertical-align: middle;\n",
              "    }\n",
              "\n",
              "    .dataframe tbody tr th {\n",
              "        vertical-align: top;\n",
              "    }\n",
              "\n",
              "    .dataframe thead th {\n",
              "        text-align: right;\n",
              "    }\n",
              "</style>\n",
              "<table border=\"1\" class=\"dataframe\">\n",
              "  <thead>\n",
              "    <tr style=\"text-align: right;\">\n",
              "      <th></th>\n",
              "      <th>input1</th>\n",
              "      <th>input2</th>\n",
              "      <th>input3</th>\n",
              "      <th>input4</th>\n",
              "    </tr>\n",
              "  </thead>\n",
              "  <tbody>\n",
              "    <tr>\n",
              "      <th>0</th>\n",
              "      <td>47</td>\n",
              "      <td>100</td>\n",
              "      <td>27</td>\n",
              "      <td>81</td>\n",
              "    </tr>\n",
              "    <tr>\n",
              "      <th>1</th>\n",
              "      <td>0</td>\n",
              "      <td>89</td>\n",
              "      <td>27</td>\n",
              "      <td>100</td>\n",
              "    </tr>\n",
              "    <tr>\n",
              "      <th>2</th>\n",
              "      <td>0</td>\n",
              "      <td>57</td>\n",
              "      <td>31</td>\n",
              "      <td>68</td>\n",
              "    </tr>\n",
              "    <tr>\n",
              "      <th>3</th>\n",
              "      <td>0</td>\n",
              "      <td>100</td>\n",
              "      <td>7</td>\n",
              "      <td>92</td>\n",
              "    </tr>\n",
              "  </tbody>\n",
              "</table>\n",
              "</div>"
            ],
            "text/plain": [
              "   input1  input2  input3  input4\n",
              "0      47     100      27      81\n",
              "1       0      89      27     100\n",
              "2       0      57      31      68\n",
              "3       0     100       7      92"
            ]
          },
          "metadata": {
            "tags": []
          },
          "execution_count": 24
        }
      ]
    },
    {
      "cell_type": "code",
      "metadata": {
        "colab": {
          "base_uri": "https://localhost:8080/",
          "height": 225
        },
        "id": "cdgwT0o6B_WI",
        "outputId": "f688b0d2-9057-437d-d01e-e9f0b1cbc5bf"
      },
      "source": [
        "# filtering and selection data\n",
        "\n",
        "data.head()"
      ],
      "execution_count": null,
      "outputs": [
        {
          "output_type": "execute_result",
          "data": {
            "text/html": [
              "<div>\n",
              "<style scoped>\n",
              "    .dataframe tbody tr th:only-of-type {\n",
              "        vertical-align: middle;\n",
              "    }\n",
              "\n",
              "    .dataframe tbody tr th {\n",
              "        vertical-align: top;\n",
              "    }\n",
              "\n",
              "    .dataframe thead th {\n",
              "        text-align: right;\n",
              "    }\n",
              "</style>\n",
              "<table border=\"1\" class=\"dataframe\">\n",
              "  <thead>\n",
              "    <tr style=\"text-align: right;\">\n",
              "      <th></th>\n",
              "      <th>input1</th>\n",
              "      <th>input2</th>\n",
              "      <th>input3</th>\n",
              "      <th>input4</th>\n",
              "      <th>input5</th>\n",
              "      <th>input6</th>\n",
              "      <th>input7</th>\n",
              "      <th>input8</th>\n",
              "      <th>input9</th>\n",
              "      <th>input10</th>\n",
              "      <th>input11</th>\n",
              "      <th>input12</th>\n",
              "      <th>input13</th>\n",
              "      <th>input14</th>\n",
              "      <th>input15</th>\n",
              "      <th>input16</th>\n",
              "      <th>class</th>\n",
              "    </tr>\n",
              "  </thead>\n",
              "  <tbody>\n",
              "    <tr>\n",
              "      <th>0</th>\n",
              "      <td>47</td>\n",
              "      <td>100</td>\n",
              "      <td>27</td>\n",
              "      <td>81</td>\n",
              "      <td>57</td>\n",
              "      <td>37</td>\n",
              "      <td>26</td>\n",
              "      <td>0</td>\n",
              "      <td>0</td>\n",
              "      <td>23</td>\n",
              "      <td>56.0</td>\n",
              "      <td>53</td>\n",
              "      <td>100</td>\n",
              "      <td>90</td>\n",
              "      <td>40</td>\n",
              "      <td>98</td>\n",
              "      <td>8</td>\n",
              "    </tr>\n",
              "    <tr>\n",
              "      <th>1</th>\n",
              "      <td>0</td>\n",
              "      <td>89</td>\n",
              "      <td>27</td>\n",
              "      <td>100</td>\n",
              "      <td>42</td>\n",
              "      <td>75</td>\n",
              "      <td>29</td>\n",
              "      <td>45</td>\n",
              "      <td>15</td>\n",
              "      <td>15</td>\n",
              "      <td>37.0</td>\n",
              "      <td>0</td>\n",
              "      <td>69</td>\n",
              "      <td>2</td>\n",
              "      <td>100</td>\n",
              "      <td>6</td>\n",
              "      <td>2</td>\n",
              "    </tr>\n",
              "    <tr>\n",
              "      <th>2</th>\n",
              "      <td>0</td>\n",
              "      <td>57</td>\n",
              "      <td>31</td>\n",
              "      <td>68</td>\n",
              "      <td>72</td>\n",
              "      <td>90</td>\n",
              "      <td>100</td>\n",
              "      <td>100</td>\n",
              "      <td>76</td>\n",
              "      <td>75</td>\n",
              "      <td>50.0</td>\n",
              "      <td>51</td>\n",
              "      <td>28</td>\n",
              "      <td>25</td>\n",
              "      <td>16</td>\n",
              "      <td>0</td>\n",
              "      <td>1</td>\n",
              "    </tr>\n",
              "    <tr>\n",
              "      <th>3</th>\n",
              "      <td>0</td>\n",
              "      <td>100</td>\n",
              "      <td>7</td>\n",
              "      <td>92</td>\n",
              "      <td>5</td>\n",
              "      <td>68</td>\n",
              "      <td>19</td>\n",
              "      <td>45</td>\n",
              "      <td>86</td>\n",
              "      <td>34</td>\n",
              "      <td>100.0</td>\n",
              "      <td>45</td>\n",
              "      <td>74</td>\n",
              "      <td>23</td>\n",
              "      <td>67</td>\n",
              "      <td>0</td>\n",
              "      <td>4</td>\n",
              "    </tr>\n",
              "    <tr>\n",
              "      <th>4</th>\n",
              "      <td>0</td>\n",
              "      <td>67</td>\n",
              "      <td>49</td>\n",
              "      <td>83</td>\n",
              "      <td>100</td>\n",
              "      <td>100</td>\n",
              "      <td>81</td>\n",
              "      <td>80</td>\n",
              "      <td>60</td>\n",
              "      <td>60</td>\n",
              "      <td>40.0</td>\n",
              "      <td>40</td>\n",
              "      <td>33</td>\n",
              "      <td>20</td>\n",
              "      <td>47</td>\n",
              "      <td>0</td>\n",
              "      <td>1</td>\n",
              "    </tr>\n",
              "  </tbody>\n",
              "</table>\n",
              "</div>"
            ],
            "text/plain": [
              "   input1  input2  input3  input4  ...  input14  input15  input16  class\n",
              "0      47     100      27      81  ...       90       40       98      8\n",
              "1       0      89      27     100  ...        2      100        6      2\n",
              "2       0      57      31      68  ...       25       16        0      1\n",
              "3       0     100       7      92  ...       23       67        0      4\n",
              "4       0      67      49      83  ...       20       47        0      1\n",
              "\n",
              "[5 rows x 17 columns]"
            ]
          },
          "metadata": {
            "tags": []
          },
          "execution_count": 25
        }
      ]
    },
    {
      "cell_type": "code",
      "metadata": {
        "colab": {
          "base_uri": "https://localhost:8080/"
        },
        "id": "PNIPmBuVDQTB",
        "outputId": "c6aedd2d-b255-48b3-942e-00e8c81540b2"
      },
      "source": [
        "data['input2'] < 50"
      ],
      "execution_count": null,
      "outputs": [
        {
          "output_type": "execute_result",
          "data": {
            "text/plain": [
              "0        False\n",
              "1        False\n",
              "2        False\n",
              "3        False\n",
              "4        False\n",
              "         ...  \n",
              "10987    False\n",
              "10988    False\n",
              "10989    False\n",
              "10990    False\n",
              "10991    False\n",
              "Name: input2, Length: 10992, dtype: bool"
            ]
          },
          "metadata": {
            "tags": []
          },
          "execution_count": 26
        }
      ]
    },
    {
      "cell_type": "code",
      "metadata": {
        "colab": {
          "base_uri": "https://localhost:8080/",
          "height": 442
        },
        "id": "8bwRCD0wDXHv",
        "outputId": "f19cce62-dfa4-48ed-bb30-1c37f2b97df9"
      },
      "source": [
        "data[data['input2'] < 50]"
      ],
      "execution_count": null,
      "outputs": [
        {
          "output_type": "execute_result",
          "data": {
            "text/html": [
              "<div>\n",
              "<style scoped>\n",
              "    .dataframe tbody tr th:only-of-type {\n",
              "        vertical-align: middle;\n",
              "    }\n",
              "\n",
              "    .dataframe tbody tr th {\n",
              "        vertical-align: top;\n",
              "    }\n",
              "\n",
              "    .dataframe thead th {\n",
              "        text-align: right;\n",
              "    }\n",
              "</style>\n",
              "<table border=\"1\" class=\"dataframe\">\n",
              "  <thead>\n",
              "    <tr style=\"text-align: right;\">\n",
              "      <th></th>\n",
              "      <th>input1</th>\n",
              "      <th>input2</th>\n",
              "      <th>input3</th>\n",
              "      <th>input4</th>\n",
              "      <th>input5</th>\n",
              "      <th>input6</th>\n",
              "      <th>input7</th>\n",
              "      <th>input8</th>\n",
              "      <th>input9</th>\n",
              "      <th>input10</th>\n",
              "      <th>input11</th>\n",
              "      <th>input12</th>\n",
              "      <th>input13</th>\n",
              "      <th>input14</th>\n",
              "      <th>input15</th>\n",
              "      <th>input16</th>\n",
              "      <th>class</th>\n",
              "    </tr>\n",
              "  </thead>\n",
              "  <tbody>\n",
              "    <tr>\n",
              "      <th>7</th>\n",
              "      <td>0</td>\n",
              "      <td>39</td>\n",
              "      <td>2</td>\n",
              "      <td>62</td>\n",
              "      <td>11</td>\n",
              "      <td>5</td>\n",
              "      <td>63</td>\n",
              "      <td>0</td>\n",
              "      <td>100</td>\n",
              "      <td>43</td>\n",
              "      <td>89.0</td>\n",
              "      <td>99</td>\n",
              "      <td>36</td>\n",
              "      <td>100</td>\n",
              "      <td>0</td>\n",
              "      <td>57</td>\n",
              "      <td>0</td>\n",
              "    </tr>\n",
              "    <tr>\n",
              "      <th>21</th>\n",
              "      <td>0</td>\n",
              "      <td>46</td>\n",
              "      <td>49</td>\n",
              "      <td>64</td>\n",
              "      <td>78</td>\n",
              "      <td>87</td>\n",
              "      <td>100</td>\n",
              "      <td>100</td>\n",
              "      <td>91</td>\n",
              "      <td>75</td>\n",
              "      <td>85.0</td>\n",
              "      <td>49</td>\n",
              "      <td>75</td>\n",
              "      <td>24</td>\n",
              "      <td>89</td>\n",
              "      <td>0</td>\n",
              "      <td>1</td>\n",
              "    </tr>\n",
              "    <tr>\n",
              "      <th>34</th>\n",
              "      <td>0</td>\n",
              "      <td>0</td>\n",
              "      <td>31</td>\n",
              "      <td>15</td>\n",
              "      <td>63</td>\n",
              "      <td>30</td>\n",
              "      <td>88</td>\n",
              "      <td>52</td>\n",
              "      <td>100</td>\n",
              "      <td>79</td>\n",
              "      <td>82.0</td>\n",
              "      <td>100</td>\n",
              "      <td>56</td>\n",
              "      <td>82</td>\n",
              "      <td>79</td>\n",
              "      <td>64</td>\n",
              "      <td>9</td>\n",
              "    </tr>\n",
              "    <tr>\n",
              "      <th>137</th>\n",
              "      <td>0</td>\n",
              "      <td>42</td>\n",
              "      <td>30</td>\n",
              "      <td>56</td>\n",
              "      <td>59</td>\n",
              "      <td>72</td>\n",
              "      <td>86</td>\n",
              "      <td>94</td>\n",
              "      <td>100</td>\n",
              "      <td>100</td>\n",
              "      <td>80.0</td>\n",
              "      <td>68</td>\n",
              "      <td>62</td>\n",
              "      <td>35</td>\n",
              "      <td>53</td>\n",
              "      <td>0</td>\n",
              "      <td>1</td>\n",
              "    </tr>\n",
              "    <tr>\n",
              "      <th>146</th>\n",
              "      <td>0</td>\n",
              "      <td>42</td>\n",
              "      <td>34</td>\n",
              "      <td>57</td>\n",
              "      <td>64</td>\n",
              "      <td>79</td>\n",
              "      <td>95</td>\n",
              "      <td>100</td>\n",
              "      <td>100</td>\n",
              "      <td>85</td>\n",
              "      <td>81.0</td>\n",
              "      <td>57</td>\n",
              "      <td>62</td>\n",
              "      <td>28</td>\n",
              "      <td>45</td>\n",
              "      <td>0</td>\n",
              "      <td>1</td>\n",
              "    </tr>\n",
              "    <tr>\n",
              "      <th>...</th>\n",
              "      <td>...</td>\n",
              "      <td>...</td>\n",
              "      <td>...</td>\n",
              "      <td>...</td>\n",
              "      <td>...</td>\n",
              "      <td>...</td>\n",
              "      <td>...</td>\n",
              "      <td>...</td>\n",
              "      <td>...</td>\n",
              "      <td>...</td>\n",
              "      <td>...</td>\n",
              "      <td>...</td>\n",
              "      <td>...</td>\n",
              "      <td>...</td>\n",
              "      <td>...</td>\n",
              "      <td>...</td>\n",
              "      <td>...</td>\n",
              "    </tr>\n",
              "    <tr>\n",
              "      <th>10805</th>\n",
              "      <td>0</td>\n",
              "      <td>43</td>\n",
              "      <td>32</td>\n",
              "      <td>58</td>\n",
              "      <td>67</td>\n",
              "      <td>79</td>\n",
              "      <td>100</td>\n",
              "      <td>100</td>\n",
              "      <td>89</td>\n",
              "      <td>76</td>\n",
              "      <td>76.0</td>\n",
              "      <td>51</td>\n",
              "      <td>63</td>\n",
              "      <td>25</td>\n",
              "      <td>59</td>\n",
              "      <td>0</td>\n",
              "      <td>1</td>\n",
              "    </tr>\n",
              "    <tr>\n",
              "      <th>10866</th>\n",
              "      <td>0</td>\n",
              "      <td>42</td>\n",
              "      <td>40</td>\n",
              "      <td>60</td>\n",
              "      <td>74</td>\n",
              "      <td>81</td>\n",
              "      <td>100</td>\n",
              "      <td>100</td>\n",
              "      <td>90</td>\n",
              "      <td>74</td>\n",
              "      <td>78.0</td>\n",
              "      <td>48</td>\n",
              "      <td>66</td>\n",
              "      <td>23</td>\n",
              "      <td>65</td>\n",
              "      <td>0</td>\n",
              "      <td>1</td>\n",
              "    </tr>\n",
              "    <tr>\n",
              "      <th>10879</th>\n",
              "      <td>0</td>\n",
              "      <td>45</td>\n",
              "      <td>42</td>\n",
              "      <td>70</td>\n",
              "      <td>66</td>\n",
              "      <td>100</td>\n",
              "      <td>60</td>\n",
              "      <td>62</td>\n",
              "      <td>47</td>\n",
              "      <td>25</td>\n",
              "      <td>1.0</td>\n",
              "      <td>5</td>\n",
              "      <td>43</td>\n",
              "      <td>0</td>\n",
              "      <td>100</td>\n",
              "      <td>4</td>\n",
              "      <td>1</td>\n",
              "    </tr>\n",
              "    <tr>\n",
              "      <th>10880</th>\n",
              "      <td>0</td>\n",
              "      <td>3</td>\n",
              "      <td>29</td>\n",
              "      <td>24</td>\n",
              "      <td>57</td>\n",
              "      <td>50</td>\n",
              "      <td>83</td>\n",
              "      <td>77</td>\n",
              "      <td>100</td>\n",
              "      <td>100</td>\n",
              "      <td>80.0</td>\n",
              "      <td>69</td>\n",
              "      <td>64</td>\n",
              "      <td>35</td>\n",
              "      <td>51</td>\n",
              "      <td>0</td>\n",
              "      <td>1</td>\n",
              "    </tr>\n",
              "    <tr>\n",
              "      <th>10933</th>\n",
              "      <td>0</td>\n",
              "      <td>15</td>\n",
              "      <td>29</td>\n",
              "      <td>40</td>\n",
              "      <td>59</td>\n",
              "      <td>68</td>\n",
              "      <td>85</td>\n",
              "      <td>97</td>\n",
              "      <td>100</td>\n",
              "      <td>100</td>\n",
              "      <td>79.0</td>\n",
              "      <td>67</td>\n",
              "      <td>60</td>\n",
              "      <td>34</td>\n",
              "      <td>46</td>\n",
              "      <td>0</td>\n",
              "      <td>1</td>\n",
              "    </tr>\n",
              "  </tbody>\n",
              "</table>\n",
              "<p>379 rows × 17 columns</p>\n",
              "</div>"
            ],
            "text/plain": [
              "       input1  input2  input3  input4  ...  input14  input15  input16  class\n",
              "7           0      39       2      62  ...      100        0       57      0\n",
              "21          0      46      49      64  ...       24       89        0      1\n",
              "34          0       0      31      15  ...       82       79       64      9\n",
              "137         0      42      30      56  ...       35       53        0      1\n",
              "146         0      42      34      57  ...       28       45        0      1\n",
              "...       ...     ...     ...     ...  ...      ...      ...      ...    ...\n",
              "10805       0      43      32      58  ...       25       59        0      1\n",
              "10866       0      42      40      60  ...       23       65        0      1\n",
              "10879       0      45      42      70  ...        0      100        4      1\n",
              "10880       0       3      29      24  ...       35       51        0      1\n",
              "10933       0      15      29      40  ...       34       46        0      1\n",
              "\n",
              "[379 rows x 17 columns]"
            ]
          },
          "metadata": {
            "tags": []
          },
          "execution_count": 27
        }
      ]
    },
    {
      "cell_type": "code",
      "metadata": {
        "colab": {
          "base_uri": "https://localhost:8080/"
        },
        "id": "vPDVYHNIDhhF",
        "outputId": "adbed72a-4d0b-4a4a-b357-db58e9380943"
      },
      "source": [
        "# missing values\n",
        "\n",
        "data.isnull().sum()"
      ],
      "execution_count": null,
      "outputs": [
        {
          "output_type": "execute_result",
          "data": {
            "text/plain": [
              "input1       0\n",
              "input2       0\n",
              "input3       0\n",
              "input4       0\n",
              "input5       0\n",
              "input6       0\n",
              "input7       0\n",
              "input8       0\n",
              "input9       0\n",
              "input10      0\n",
              "input11    248\n",
              "input12      0\n",
              "input13      0\n",
              "input14      0\n",
              "input15      0\n",
              "input16      0\n",
              "class        0\n",
              "dtype: int64"
            ]
          },
          "metadata": {
            "tags": []
          },
          "execution_count": 28
        }
      ]
    },
    {
      "cell_type": "code",
      "metadata": {
        "colab": {
          "base_uri": "https://localhost:8080/",
          "height": 442
        },
        "id": "uCxcN2F-Dh0U",
        "outputId": "286d9034-b3dc-42dd-ef09-848582dadb1d"
      },
      "source": [
        "data[data['input11'].isnull()]"
      ],
      "execution_count": null,
      "outputs": [
        {
          "output_type": "execute_result",
          "data": {
            "text/html": [
              "<div>\n",
              "<style scoped>\n",
              "    .dataframe tbody tr th:only-of-type {\n",
              "        vertical-align: middle;\n",
              "    }\n",
              "\n",
              "    .dataframe tbody tr th {\n",
              "        vertical-align: top;\n",
              "    }\n",
              "\n",
              "    .dataframe thead th {\n",
              "        text-align: right;\n",
              "    }\n",
              "</style>\n",
              "<table border=\"1\" class=\"dataframe\">\n",
              "  <thead>\n",
              "    <tr style=\"text-align: right;\">\n",
              "      <th></th>\n",
              "      <th>input1</th>\n",
              "      <th>input2</th>\n",
              "      <th>input3</th>\n",
              "      <th>input4</th>\n",
              "      <th>input5</th>\n",
              "      <th>input6</th>\n",
              "      <th>input7</th>\n",
              "      <th>input8</th>\n",
              "      <th>input9</th>\n",
              "      <th>input10</th>\n",
              "      <th>input11</th>\n",
              "      <th>input12</th>\n",
              "      <th>input13</th>\n",
              "      <th>input14</th>\n",
              "      <th>input15</th>\n",
              "      <th>input16</th>\n",
              "      <th>class</th>\n",
              "    </tr>\n",
              "  </thead>\n",
              "  <tbody>\n",
              "    <tr>\n",
              "      <th>58</th>\n",
              "      <td>18</td>\n",
              "      <td>73</td>\n",
              "      <td>0</td>\n",
              "      <td>73</td>\n",
              "      <td>10</td>\n",
              "      <td>24</td>\n",
              "      <td>54</td>\n",
              "      <td>0</td>\n",
              "      <td>100</td>\n",
              "      <td>22</td>\n",
              "      <td>NaN</td>\n",
              "      <td>71</td>\n",
              "      <td>52</td>\n",
              "      <td>100</td>\n",
              "      <td>5</td>\n",
              "      <td>84</td>\n",
              "      <td>0</td>\n",
              "    </tr>\n",
              "    <tr>\n",
              "      <th>87</th>\n",
              "      <td>47</td>\n",
              "      <td>93</td>\n",
              "      <td>1</td>\n",
              "      <td>67</td>\n",
              "      <td>0</td>\n",
              "      <td>16</td>\n",
              "      <td>53</td>\n",
              "      <td>0</td>\n",
              "      <td>100</td>\n",
              "      <td>32</td>\n",
              "      <td>NaN</td>\n",
              "      <td>81</td>\n",
              "      <td>42</td>\n",
              "      <td>100</td>\n",
              "      <td>7</td>\n",
              "      <td>62</td>\n",
              "      <td>0</td>\n",
              "    </tr>\n",
              "    <tr>\n",
              "      <th>122</th>\n",
              "      <td>45</td>\n",
              "      <td>100</td>\n",
              "      <td>10</td>\n",
              "      <td>67</td>\n",
              "      <td>7</td>\n",
              "      <td>16</td>\n",
              "      <td>56</td>\n",
              "      <td>0</td>\n",
              "      <td>100</td>\n",
              "      <td>31</td>\n",
              "      <td>NaN</td>\n",
              "      <td>79</td>\n",
              "      <td>38</td>\n",
              "      <td>95</td>\n",
              "      <td>0</td>\n",
              "      <td>61</td>\n",
              "      <td>0</td>\n",
              "    </tr>\n",
              "    <tr>\n",
              "      <th>164</th>\n",
              "      <td>21</td>\n",
              "      <td>75</td>\n",
              "      <td>40</td>\n",
              "      <td>100</td>\n",
              "      <td>85</td>\n",
              "      <td>94</td>\n",
              "      <td>67</td>\n",
              "      <td>63</td>\n",
              "      <td>100</td>\n",
              "      <td>43</td>\n",
              "      <td>NaN</td>\n",
              "      <td>11</td>\n",
              "      <td>47</td>\n",
              "      <td>0</td>\n",
              "      <td>0</td>\n",
              "      <td>13</td>\n",
              "      <td>3</td>\n",
              "    </tr>\n",
              "    <tr>\n",
              "      <th>193</th>\n",
              "      <td>30</td>\n",
              "      <td>100</td>\n",
              "      <td>4</td>\n",
              "      <td>67</td>\n",
              "      <td>0</td>\n",
              "      <td>24</td>\n",
              "      <td>30</td>\n",
              "      <td>0</td>\n",
              "      <td>66</td>\n",
              "      <td>11</td>\n",
              "      <td>NaN</td>\n",
              "      <td>41</td>\n",
              "      <td>100</td>\n",
              "      <td>82</td>\n",
              "      <td>64</td>\n",
              "      <td>93</td>\n",
              "      <td>0</td>\n",
              "    </tr>\n",
              "    <tr>\n",
              "      <th>...</th>\n",
              "      <td>...</td>\n",
              "      <td>...</td>\n",
              "      <td>...</td>\n",
              "      <td>...</td>\n",
              "      <td>...</td>\n",
              "      <td>...</td>\n",
              "      <td>...</td>\n",
              "      <td>...</td>\n",
              "      <td>...</td>\n",
              "      <td>...</td>\n",
              "      <td>...</td>\n",
              "      <td>...</td>\n",
              "      <td>...</td>\n",
              "      <td>...</td>\n",
              "      <td>...</td>\n",
              "      <td>...</td>\n",
              "      <td>...</td>\n",
              "    </tr>\n",
              "    <tr>\n",
              "      <th>10717</th>\n",
              "      <td>56</td>\n",
              "      <td>100</td>\n",
              "      <td>38</td>\n",
              "      <td>69</td>\n",
              "      <td>0</td>\n",
              "      <td>41</td>\n",
              "      <td>44</td>\n",
              "      <td>38</td>\n",
              "      <td>100</td>\n",
              "      <td>40</td>\n",
              "      <td>NaN</td>\n",
              "      <td>68</td>\n",
              "      <td>80</td>\n",
              "      <td>34</td>\n",
              "      <td>74</td>\n",
              "      <td>0</td>\n",
              "      <td>4</td>\n",
              "    </tr>\n",
              "    <tr>\n",
              "      <th>10870</th>\n",
              "      <td>80</td>\n",
              "      <td>100</td>\n",
              "      <td>100</td>\n",
              "      <td>97</td>\n",
              "      <td>48</td>\n",
              "      <td>68</td>\n",
              "      <td>7</td>\n",
              "      <td>38</td>\n",
              "      <td>0</td>\n",
              "      <td>7</td>\n",
              "      <td>NaN</td>\n",
              "      <td>0</td>\n",
              "      <td>98</td>\n",
              "      <td>22</td>\n",
              "      <td>9</td>\n",
              "      <td>12</td>\n",
              "      <td>6</td>\n",
              "    </tr>\n",
              "    <tr>\n",
              "      <th>10889</th>\n",
              "      <td>47</td>\n",
              "      <td>100</td>\n",
              "      <td>35</td>\n",
              "      <td>95</td>\n",
              "      <td>0</td>\n",
              "      <td>66</td>\n",
              "      <td>31</td>\n",
              "      <td>43</td>\n",
              "      <td>100</td>\n",
              "      <td>48</td>\n",
              "      <td>NaN</td>\n",
              "      <td>66</td>\n",
              "      <td>82</td>\n",
              "      <td>34</td>\n",
              "      <td>79</td>\n",
              "      <td>0</td>\n",
              "      <td>4</td>\n",
              "    </tr>\n",
              "    <tr>\n",
              "      <th>10908</th>\n",
              "      <td>100</td>\n",
              "      <td>72</td>\n",
              "      <td>77</td>\n",
              "      <td>100</td>\n",
              "      <td>20</td>\n",
              "      <td>74</td>\n",
              "      <td>71</td>\n",
              "      <td>56</td>\n",
              "      <td>94</td>\n",
              "      <td>81</td>\n",
              "      <td>NaN</td>\n",
              "      <td>39</td>\n",
              "      <td>65</td>\n",
              "      <td>0</td>\n",
              "      <td>0</td>\n",
              "      <td>0</td>\n",
              "      <td>9</td>\n",
              "    </tr>\n",
              "    <tr>\n",
              "      <th>10947</th>\n",
              "      <td>6</td>\n",
              "      <td>83</td>\n",
              "      <td>99</td>\n",
              "      <td>86</td>\n",
              "      <td>80</td>\n",
              "      <td>100</td>\n",
              "      <td>0</td>\n",
              "      <td>80</td>\n",
              "      <td>100</td>\n",
              "      <td>81</td>\n",
              "      <td>NaN</td>\n",
              "      <td>57</td>\n",
              "      <td>71</td>\n",
              "      <td>28</td>\n",
              "      <td>54</td>\n",
              "      <td>0</td>\n",
              "      <td>9</td>\n",
              "    </tr>\n",
              "  </tbody>\n",
              "</table>\n",
              "<p>248 rows × 17 columns</p>\n",
              "</div>"
            ],
            "text/plain": [
              "       input1  input2  input3  input4  ...  input14  input15  input16  class\n",
              "58         18      73       0      73  ...      100        5       84      0\n",
              "87         47      93       1      67  ...      100        7       62      0\n",
              "122        45     100      10      67  ...       95        0       61      0\n",
              "164        21      75      40     100  ...        0        0       13      3\n",
              "193        30     100       4      67  ...       82       64       93      0\n",
              "...       ...     ...     ...     ...  ...      ...      ...      ...    ...\n",
              "10717      56     100      38      69  ...       34       74        0      4\n",
              "10870      80     100     100      97  ...       22        9       12      6\n",
              "10889      47     100      35      95  ...       34       79        0      4\n",
              "10908     100      72      77     100  ...        0        0        0      9\n",
              "10947       6      83      99      86  ...       28       54        0      9\n",
              "\n",
              "[248 rows x 17 columns]"
            ]
          },
          "metadata": {
            "tags": []
          },
          "execution_count": 29
        }
      ]
    },
    {
      "cell_type": "code",
      "metadata": {
        "id": "f53dAV4ADiJt"
      },
      "source": [
        "data['input11'] = data['input11'].fillna(0)"
      ],
      "execution_count": null,
      "outputs": []
    },
    {
      "cell_type": "code",
      "metadata": {
        "colab": {
          "base_uri": "https://localhost:8080/",
          "height": 69
        },
        "id": "wdSSGiIjDiba",
        "outputId": "492a228d-0141-4778-dff3-fca8066d4b30"
      },
      "source": [
        "data[data['input11'].isnull()]"
      ],
      "execution_count": null,
      "outputs": [
        {
          "output_type": "execute_result",
          "data": {
            "text/html": [
              "<div>\n",
              "<style scoped>\n",
              "    .dataframe tbody tr th:only-of-type {\n",
              "        vertical-align: middle;\n",
              "    }\n",
              "\n",
              "    .dataframe tbody tr th {\n",
              "        vertical-align: top;\n",
              "    }\n",
              "\n",
              "    .dataframe thead th {\n",
              "        text-align: right;\n",
              "    }\n",
              "</style>\n",
              "<table border=\"1\" class=\"dataframe\">\n",
              "  <thead>\n",
              "    <tr style=\"text-align: right;\">\n",
              "      <th></th>\n",
              "      <th>input1</th>\n",
              "      <th>input2</th>\n",
              "      <th>input3</th>\n",
              "      <th>input4</th>\n",
              "      <th>input5</th>\n",
              "      <th>input6</th>\n",
              "      <th>input7</th>\n",
              "      <th>input8</th>\n",
              "      <th>input9</th>\n",
              "      <th>input10</th>\n",
              "      <th>input11</th>\n",
              "      <th>input12</th>\n",
              "      <th>input13</th>\n",
              "      <th>input14</th>\n",
              "      <th>input15</th>\n",
              "      <th>input16</th>\n",
              "      <th>class</th>\n",
              "    </tr>\n",
              "  </thead>\n",
              "  <tbody>\n",
              "  </tbody>\n",
              "</table>\n",
              "</div>"
            ],
            "text/plain": [
              "Empty DataFrame\n",
              "Columns: [input1, input2, input3, input4, input5, input6, input7, input8, input9, input10, input11, input12, input13, input14, input15, input16, class]\n",
              "Index: []"
            ]
          },
          "metadata": {
            "tags": []
          },
          "execution_count": 31
        }
      ]
    },
    {
      "cell_type": "code",
      "metadata": {
        "id": "SbYiOfiCDi20"
      },
      "source": [
        "data = pd.read_csv('dataset_32_pendigits.csv')"
      ],
      "execution_count": null,
      "outputs": []
    },
    {
      "cell_type": "code",
      "metadata": {
        "id": "KkCJEcpeFIVA"
      },
      "source": [
        "someVari = data['input11']"
      ],
      "execution_count": null,
      "outputs": []
    },
    {
      "cell_type": "code",
      "metadata": {
        "colab": {
          "base_uri": "https://localhost:8080/"
        },
        "id": "FqRzJ8zwFIsg",
        "outputId": "1a329538-a5c4-471c-fa60-e47d82499001"
      },
      "source": [
        "someVari.fillna('mean')"
      ],
      "execution_count": null,
      "outputs": [
        {
          "output_type": "execute_result",
          "data": {
            "text/plain": [
              "0         56\n",
              "1         37\n",
              "2         50\n",
              "3        100\n",
              "4         40\n",
              "        ... \n",
              "10987     87\n",
              "10988     21\n",
              "10989    100\n",
              "10990    100\n",
              "10991    100\n",
              "Name: input11, Length: 10992, dtype: object"
            ]
          },
          "metadata": {
            "tags": []
          },
          "execution_count": 34
        }
      ]
    },
    {
      "cell_type": "code",
      "metadata": {
        "colab": {
          "base_uri": "https://localhost:8080/"
        },
        "id": "b5UnjIdxFJDH",
        "outputId": "f41eae4a-2f97-43c3-a6f5-eec8a734b311"
      },
      "source": [
        "# mathematical operations\n",
        "\n",
        "data['input1'].mean(),data['input1'].sum(),data['input1'].var()"
      ],
      "execution_count": null,
      "outputs": [
        {
          "output_type": "execute_result",
          "data": {
            "text/plain": [
              "(38.814319505094616, 426647, 1173.5956715594791)"
            ]
          },
          "metadata": {
            "tags": []
          },
          "execution_count": 35
        }
      ]
    },
    {
      "cell_type": "code",
      "metadata": {
        "id": "vZpW3HwpFJeA"
      },
      "source": [
        "sampDatasetOf1 = pd.DataFrame(np.ones(10),columns = ['column1'])"
      ],
      "execution_count": null,
      "outputs": []
    },
    {
      "cell_type": "code",
      "metadata": {
        "colab": {
          "base_uri": "https://localhost:8080/",
          "height": 362
        },
        "id": "vj1MpS6aF4MM",
        "outputId": "90ac2f37-b3b1-4dc9-8a67-1120bec4b55a"
      },
      "source": [
        "np.cumsum(sampDatasetOf1)"
      ],
      "execution_count": null,
      "outputs": [
        {
          "output_type": "execute_result",
          "data": {
            "text/html": [
              "<div>\n",
              "<style scoped>\n",
              "    .dataframe tbody tr th:only-of-type {\n",
              "        vertical-align: middle;\n",
              "    }\n",
              "\n",
              "    .dataframe tbody tr th {\n",
              "        vertical-align: top;\n",
              "    }\n",
              "\n",
              "    .dataframe thead th {\n",
              "        text-align: right;\n",
              "    }\n",
              "</style>\n",
              "<table border=\"1\" class=\"dataframe\">\n",
              "  <thead>\n",
              "    <tr style=\"text-align: right;\">\n",
              "      <th></th>\n",
              "      <th>column1</th>\n",
              "    </tr>\n",
              "  </thead>\n",
              "  <tbody>\n",
              "    <tr>\n",
              "      <th>0</th>\n",
              "      <td>1.0</td>\n",
              "    </tr>\n",
              "    <tr>\n",
              "      <th>1</th>\n",
              "      <td>2.0</td>\n",
              "    </tr>\n",
              "    <tr>\n",
              "      <th>2</th>\n",
              "      <td>3.0</td>\n",
              "    </tr>\n",
              "    <tr>\n",
              "      <th>3</th>\n",
              "      <td>4.0</td>\n",
              "    </tr>\n",
              "    <tr>\n",
              "      <th>4</th>\n",
              "      <td>5.0</td>\n",
              "    </tr>\n",
              "    <tr>\n",
              "      <th>5</th>\n",
              "      <td>6.0</td>\n",
              "    </tr>\n",
              "    <tr>\n",
              "      <th>6</th>\n",
              "      <td>7.0</td>\n",
              "    </tr>\n",
              "    <tr>\n",
              "      <th>7</th>\n",
              "      <td>8.0</td>\n",
              "    </tr>\n",
              "    <tr>\n",
              "      <th>8</th>\n",
              "      <td>9.0</td>\n",
              "    </tr>\n",
              "    <tr>\n",
              "      <th>9</th>\n",
              "      <td>10.0</td>\n",
              "    </tr>\n",
              "  </tbody>\n",
              "</table>\n",
              "</div>"
            ],
            "text/plain": [
              "   column1\n",
              "0      1.0\n",
              "1      2.0\n",
              "2      3.0\n",
              "3      4.0\n",
              "4      5.0\n",
              "5      6.0\n",
              "6      7.0\n",
              "7      8.0\n",
              "8      9.0\n",
              "9     10.0"
            ]
          },
          "metadata": {
            "tags": []
          },
          "execution_count": 37
        }
      ]
    },
    {
      "cell_type": "code",
      "metadata": {
        "colab": {
          "base_uri": "https://localhost:8080/"
        },
        "id": "WDBl_r0NFJ3c",
        "outputId": "7a360789-2867-4589-a377-d07ff038cd41"
      },
      "source": [
        "np.cumsum(sampDatasetOf1['column1'])"
      ],
      "execution_count": null,
      "outputs": [
        {
          "output_type": "execute_result",
          "data": {
            "text/plain": [
              "0     1.0\n",
              "1     2.0\n",
              "2     3.0\n",
              "3     4.0\n",
              "4     5.0\n",
              "5     6.0\n",
              "6     7.0\n",
              "7     8.0\n",
              "8     9.0\n",
              "9    10.0\n",
              "Name: column1, dtype: float64"
            ]
          },
          "metadata": {
            "tags": []
          },
          "execution_count": 38
        }
      ]
    },
    {
      "cell_type": "code",
      "metadata": {
        "id": "LbY7iTe_GPnH"
      },
      "source": [
        "# map, apply, applymap in pandas\n",
        "# it works on a series and supports functions, dictionary or series, and do the operation elementwise in the series\n",
        "\n",
        "seriesObj = data['input1']\n",
        "pandaDFseriesObj = data['input1']"
      ],
      "execution_count": null,
      "outputs": []
    },
    {
      "cell_type": "code",
      "metadata": {
        "colab": {
          "base_uri": "https://localhost:8080/"
        },
        "id": "_F8O_xMrGQEz",
        "outputId": "b066fa9d-e02c-41d3-e19e-2fa72f94fd9a"
      },
      "source": [
        "seriesObj.map(str)"
      ],
      "execution_count": null,
      "outputs": [
        {
          "output_type": "execute_result",
          "data": {
            "text/plain": [
              "0        47\n",
              "1         0\n",
              "2         0\n",
              "3         0\n",
              "4         0\n",
              "         ..\n",
              "10987    36\n",
              "10988    16\n",
              "10989    56\n",
              "10990    19\n",
              "10991    38\n",
              "Name: input1, Length: 10992, dtype: object"
            ]
          },
          "metadata": {
            "tags": []
          },
          "execution_count": 40
        }
      ]
    },
    {
      "cell_type": "code",
      "metadata": {
        "colab": {
          "base_uri": "https://localhost:8080/"
        },
        "id": "0z5KVL8JGQlo",
        "outputId": "2336fd08-6944-4127-c91b-1aa1a2f2cc10"
      },
      "source": [
        "seriesObj.map(str).dtype"
      ],
      "execution_count": null,
      "outputs": [
        {
          "output_type": "execute_result",
          "data": {
            "text/plain": [
              "dtype('O')"
            ]
          },
          "metadata": {
            "tags": []
          },
          "execution_count": 41
        }
      ]
    },
    {
      "cell_type": "code",
      "metadata": {
        "colab": {
          "base_uri": "https://localhost:8080/",
          "height": 35
        },
        "id": "EmZ_UeyYGRE3",
        "outputId": "14b7f76b-a52b-4bbe-8326-37608a8c2137"
      },
      "source": [
        "seriesObj.map(str)[0]"
      ],
      "execution_count": null,
      "outputs": [
        {
          "output_type": "execute_result",
          "data": {
            "application/vnd.google.colaboratory.intrinsic+json": {
              "type": "string"
            },
            "text/plain": [
              "'47'"
            ]
          },
          "metadata": {
            "tags": []
          },
          "execution_count": 42
        }
      ]
    },
    {
      "cell_type": "code",
      "metadata": {
        "id": "8PkyPd3JGRih"
      },
      "source": [
        "dictCheck = {'a':10,'b':20,'c':30}"
      ],
      "execution_count": null,
      "outputs": []
    },
    {
      "cell_type": "code",
      "metadata": {
        "id": "drtWMD74HU5s"
      },
      "source": [
        "sampNumpy = np.array(['a','b','c','a','b','c'])"
      ],
      "execution_count": null,
      "outputs": []
    },
    {
      "cell_type": "code",
      "metadata": {
        "id": "MNVrsdGpHVRl"
      },
      "source": [
        "dataFSamp = pd.DataFrame(sampNumpy,columns = ['ColumnName'])"
      ],
      "execution_count": null,
      "outputs": []
    },
    {
      "cell_type": "code",
      "metadata": {
        "colab": {
          "base_uri": "https://localhost:8080/",
          "height": 236
        },
        "id": "zgxQCtoxHVgj",
        "outputId": "e3b1ee98-e46d-4440-8ef1-915da22b94ad"
      },
      "source": [
        "dataFSamp"
      ],
      "execution_count": null,
      "outputs": [
        {
          "output_type": "execute_result",
          "data": {
            "text/html": [
              "<div>\n",
              "<style scoped>\n",
              "    .dataframe tbody tr th:only-of-type {\n",
              "        vertical-align: middle;\n",
              "    }\n",
              "\n",
              "    .dataframe tbody tr th {\n",
              "        vertical-align: top;\n",
              "    }\n",
              "\n",
              "    .dataframe thead th {\n",
              "        text-align: right;\n",
              "    }\n",
              "</style>\n",
              "<table border=\"1\" class=\"dataframe\">\n",
              "  <thead>\n",
              "    <tr style=\"text-align: right;\">\n",
              "      <th></th>\n",
              "      <th>ColumnName</th>\n",
              "    </tr>\n",
              "  </thead>\n",
              "  <tbody>\n",
              "    <tr>\n",
              "      <th>0</th>\n",
              "      <td>a</td>\n",
              "    </tr>\n",
              "    <tr>\n",
              "      <th>1</th>\n",
              "      <td>b</td>\n",
              "    </tr>\n",
              "    <tr>\n",
              "      <th>2</th>\n",
              "      <td>c</td>\n",
              "    </tr>\n",
              "    <tr>\n",
              "      <th>3</th>\n",
              "      <td>a</td>\n",
              "    </tr>\n",
              "    <tr>\n",
              "      <th>4</th>\n",
              "      <td>b</td>\n",
              "    </tr>\n",
              "    <tr>\n",
              "      <th>5</th>\n",
              "      <td>c</td>\n",
              "    </tr>\n",
              "  </tbody>\n",
              "</table>\n",
              "</div>"
            ],
            "text/plain": [
              "  ColumnName\n",
              "0          a\n",
              "1          b\n",
              "2          c\n",
              "3          a\n",
              "4          b\n",
              "5          c"
            ]
          },
          "metadata": {
            "tags": []
          },
          "execution_count": 46
        }
      ]
    },
    {
      "cell_type": "code",
      "metadata": {
        "colab": {
          "base_uri": "https://localhost:8080/"
        },
        "id": "VmQ6PgMeHV0B",
        "outputId": "0fb61046-a3d3-4f45-de26-6bc2ad0e09dc"
      },
      "source": [
        "dataFSamp['ColumnName'].map(dictCheck)"
      ],
      "execution_count": null,
      "outputs": [
        {
          "output_type": "execute_result",
          "data": {
            "text/plain": [
              "0    10\n",
              "1    20\n",
              "2    30\n",
              "3    10\n",
              "4    20\n",
              "5    30\n",
              "Name: ColumnName, dtype: int64"
            ]
          },
          "metadata": {
            "tags": []
          },
          "execution_count": 47
        }
      ]
    },
    {
      "cell_type": "code",
      "metadata": {
        "id": "him9kTI-HWFn"
      },
      "source": [
        "def checkFunct(x):\n",
        "  return dictCheck[x]"
      ],
      "execution_count": null,
      "outputs": []
    },
    {
      "cell_type": "code",
      "metadata": {
        "colab": {
          "base_uri": "https://localhost:8080/"
        },
        "id": "LqdymFaFIihy",
        "outputId": "622eb1a5-8167-4ec0-e95c-e6422fa89dd0"
      },
      "source": [
        "dataFSamp['ColumnName'].map(checkFunct)"
      ],
      "execution_count": null,
      "outputs": [
        {
          "output_type": "execute_result",
          "data": {
            "text/plain": [
              "0    10\n",
              "1    20\n",
              "2    30\n",
              "3    10\n",
              "4    20\n",
              "5    30\n",
              "Name: ColumnName, dtype: int64"
            ]
          },
          "metadata": {
            "tags": []
          },
          "execution_count": 49
        }
      ]
    },
    {
      "cell_type": "code",
      "metadata": {
        "colab": {
          "base_uri": "https://localhost:8080/"
        },
        "id": "cw2vE0BtIjHF",
        "outputId": "b38e06ca-4ab1-4b58-9d37-45f3937f91e4"
      },
      "source": [
        "# apply\n",
        "# applies function along any axis of the DataFrame, and also can be applied in series\n",
        "\n",
        "seriesObj.dtype"
      ],
      "execution_count": null,
      "outputs": [
        {
          "output_type": "execute_result",
          "data": {
            "text/plain": [
              "dtype('int64')"
            ]
          },
          "metadata": {
            "tags": []
          },
          "execution_count": 50
        }
      ]
    },
    {
      "cell_type": "code",
      "metadata": {
        "colab": {
          "base_uri": "https://localhost:8080/"
        },
        "id": "vmSU6pASIjn7",
        "outputId": "180aa667-2312-49fe-cc3a-f7ee7f499fda"
      },
      "source": [
        "type(seriesObj)"
      ],
      "execution_count": null,
      "outputs": [
        {
          "output_type": "execute_result",
          "data": {
            "text/plain": [
              "pandas.core.series.Series"
            ]
          },
          "metadata": {
            "tags": []
          },
          "execution_count": 51
        }
      ]
    },
    {
      "cell_type": "code",
      "metadata": {
        "colab": {
          "base_uri": "https://localhost:8080/"
        },
        "id": "IsIjYMWaIkJL",
        "outputId": "4c1381c1-35bb-4c7e-ee55-bf76a2767919"
      },
      "source": [
        "data.apply(sum,axis = 1)"
      ],
      "execution_count": null,
      "outputs": [
        {
          "output_type": "execute_result",
          "data": {
            "text/plain": [
              "0        843.0\n",
              "1        653.0\n",
              "2        840.0\n",
              "3        769.0\n",
              "4        861.0\n",
              "         ...  \n",
              "10987    855.0\n",
              "10988    617.0\n",
              "10989    862.0\n",
              "10990    794.0\n",
              "10991    753.0\n",
              "Length: 10992, dtype: float64"
            ]
          },
          "metadata": {
            "tags": []
          },
          "execution_count": 52
        }
      ]
    },
    {
      "cell_type": "code",
      "metadata": {
        "colab": {
          "base_uri": "https://localhost:8080/"
        },
        "id": "FyQcFVToIkol",
        "outputId": "0909fc76-ce51-429c-d4fc-e8c58b15cf30"
      },
      "source": [
        "data.apply(sum)"
      ],
      "execution_count": null,
      "outputs": [
        {
          "output_type": "execute_result",
          "data": {
            "text/plain": [
              "input1     426647.0\n",
              "input2     935642.0\n",
              "input3     446337.0\n",
              "input4     920846.0\n",
              "input5     547076.0\n",
              "input6     720780.0\n",
              "input7     563013.0\n",
              "input8     489133.0\n",
              "input9     625099.0\n",
              "input10    370386.0\n",
              "input11         NaN\n",
              "input12    382813.0\n",
              "input13    604805.0\n",
              "input14    384028.0\n",
              "input15    519784.0\n",
              "input16    317068.0\n",
              "class       48712.0\n",
              "dtype: float64"
            ]
          },
          "metadata": {
            "tags": []
          },
          "execution_count": 53
        }
      ]
    },
    {
      "cell_type": "code",
      "metadata": {
        "colab": {
          "base_uri": "https://localhost:8080/"
        },
        "id": "jVbCC7ogJa7n",
        "outputId": "253ad70e-1aeb-4edc-b231-839cf79df697"
      },
      "source": [
        "data.apply(sum,axis = 0)"
      ],
      "execution_count": null,
      "outputs": [
        {
          "output_type": "execute_result",
          "data": {
            "text/plain": [
              "input1     426647.0\n",
              "input2     935642.0\n",
              "input3     446337.0\n",
              "input4     920846.0\n",
              "input5     547076.0\n",
              "input6     720780.0\n",
              "input7     563013.0\n",
              "input8     489133.0\n",
              "input9     625099.0\n",
              "input10    370386.0\n",
              "input11         NaN\n",
              "input12    382813.0\n",
              "input13    604805.0\n",
              "input14    384028.0\n",
              "input15    519784.0\n",
              "input16    317068.0\n",
              "class       48712.0\n",
              "dtype: float64"
            ]
          },
          "metadata": {
            "tags": []
          },
          "execution_count": 54
        }
      ]
    },
    {
      "cell_type": "code",
      "metadata": {
        "colab": {
          "base_uri": "https://localhost:8080/"
        },
        "id": "V2-9e8EdJhfs",
        "outputId": "da8d58d6-c615-46d1-ad2e-0001bab15431"
      },
      "source": [
        "dataFSamp['ColumnName'].apply(checkFunct)"
      ],
      "execution_count": null,
      "outputs": [
        {
          "output_type": "execute_result",
          "data": {
            "text/plain": [
              "0    10\n",
              "1    20\n",
              "2    30\n",
              "3    10\n",
              "4    20\n",
              "5    30\n",
              "Name: ColumnName, dtype: int64"
            ]
          },
          "metadata": {
            "tags": []
          },
          "execution_count": 55
        }
      ]
    },
    {
      "cell_type": "code",
      "metadata": {
        "id": "5Kfl_-uhJbIw"
      },
      "source": [
        "# apply with LAMBDA\n",
        "# a way to define functions without actually defining them\n",
        "\n",
        "def checkFunc(x):\n",
        "  if x < 10:\n",
        "    return 'G10'\n",
        "  elif x < 50:\n",
        "    return 'G50'\n",
        "  elif x < 90:\n",
        "    return 'G90'\n",
        "  else:\n",
        "    return 'NO'"
      ],
      "execution_count": null,
      "outputs": []
    },
    {
      "cell_type": "code",
      "metadata": {
        "colab": {
          "base_uri": "https://localhost:8080/"
        },
        "id": "oBDCYOk3JbSE",
        "outputId": "0b6f5198-9d81-4f83-a9b2-e80d427db155"
      },
      "source": [
        "data['input4'].apply(lambda x : checkFunc(x))"
      ],
      "execution_count": null,
      "outputs": [
        {
          "output_type": "execute_result",
          "data": {
            "text/plain": [
              "0        G90\n",
              "1         NO\n",
              "2        G90\n",
              "3         NO\n",
              "4        G90\n",
              "        ... \n",
              "10987    G90\n",
              "10988     NO\n",
              "10989    G90\n",
              "10990    G90\n",
              "10991    G90\n",
              "Name: input4, Length: 10992, dtype: object"
            ]
          },
          "metadata": {
            "tags": []
          },
          "execution_count": 57
        }
      ]
    },
    {
      "cell_type": "code",
      "metadata": {
        "colab": {
          "base_uri": "https://localhost:8080/"
        },
        "id": "tVgEsc2oJbat",
        "outputId": "c9305fd8-729d-4493-d057-e62ebfcff128"
      },
      "source": [
        "data['input4'].map(checkFunc)"
      ],
      "execution_count": null,
      "outputs": [
        {
          "output_type": "execute_result",
          "data": {
            "text/plain": [
              "0        G90\n",
              "1         NO\n",
              "2        G90\n",
              "3         NO\n",
              "4        G90\n",
              "        ... \n",
              "10987    G90\n",
              "10988     NO\n",
              "10989    G90\n",
              "10990    G90\n",
              "10991    G90\n",
              "Name: input4, Length: 10992, dtype: object"
            ]
          },
          "metadata": {
            "tags": []
          },
          "execution_count": 58
        }
      ]
    },
    {
      "cell_type": "code",
      "metadata": {
        "colab": {
          "base_uri": "https://localhost:8080/"
        },
        "id": "YysjZrJ8Jbmu",
        "outputId": "5c4ca36c-b96f-4404-e304-e46764291b59"
      },
      "source": [
        "data['input4'].apply(checkFunc)"
      ],
      "execution_count": null,
      "outputs": [
        {
          "output_type": "execute_result",
          "data": {
            "text/plain": [
              "0        G90\n",
              "1         NO\n",
              "2        G90\n",
              "3         NO\n",
              "4        G90\n",
              "        ... \n",
              "10987    G90\n",
              "10988     NO\n",
              "10989    G90\n",
              "10990    G90\n",
              "10991    G90\n",
              "Name: input4, Length: 10992, dtype: object"
            ]
          },
          "metadata": {
            "tags": []
          },
          "execution_count": 59
        }
      ]
    },
    {
      "cell_type": "code",
      "metadata": {
        "colab": {
          "base_uri": "https://localhost:8080/"
        },
        "id": "YX5HOrshJbw0",
        "outputId": "515110ae-5ca7-4c0e-d3be-44bf3f30c693"
      },
      "source": [
        "import datetime\n",
        "a = datetime.datetime.now()\n",
        "data['input4'].apply(checkFunc)\n",
        "b = datetime.datetime.now()\n",
        "print(b-a)"
      ],
      "execution_count": null,
      "outputs": [
        {
          "output_type": "stream",
          "text": [
            "0:00:00.005834\n"
          ],
          "name": "stdout"
        }
      ]
    },
    {
      "cell_type": "code",
      "metadata": {
        "colab": {
          "base_uri": "https://localhost:8080/"
        },
        "id": "2-FEaLWWMGKU",
        "outputId": "25c05596-61a7-4461-cf09-fffaded1cf95"
      },
      "source": [
        "import datetime\n",
        "a = datetime.datetime.now()\n",
        "data['input4'].map(checkFunc)\n",
        "b = datetime.datetime.now()\n",
        "print(b-a)"
      ],
      "execution_count": null,
      "outputs": [
        {
          "output_type": "stream",
          "text": [
            "0:00:00.006075\n"
          ],
          "name": "stdout"
        }
      ]
    },
    {
      "cell_type": "code",
      "metadata": {
        "colab": {
          "base_uri": "https://localhost:8080/"
        },
        "id": "fsTiYCrQMGmk",
        "outputId": "bb92ed87-1984-48b2-f45b-b658e137b8dd"
      },
      "source": [
        "import datetime\n",
        "a = datetime.datetime.now()\n",
        "data['input4'].apply(lambda x : checkFunc(x))\n",
        "b = datetime.datetime.now()\n",
        "print(b-a)"
      ],
      "execution_count": null,
      "outputs": [
        {
          "output_type": "stream",
          "text": [
            "0:00:00.022008\n"
          ],
          "name": "stdout"
        }
      ]
    },
    {
      "cell_type": "code",
      "metadata": {
        "id": "Mbao7Y3PMG2_",
        "colab": {
          "base_uri": "https://localhost:8080/",
          "height": 225
        },
        "outputId": "e410e196-17a0-4732-c117-b4f510a9f1d9"
      },
      "source": [
        "# ApplyMap: applies a function that accepts and returns a scalar to every elements of a dataframe\n",
        "\n",
        "data.applymap(checkFunc).head()"
      ],
      "execution_count": null,
      "outputs": [
        {
          "output_type": "execute_result",
          "data": {
            "text/html": [
              "<div>\n",
              "<style scoped>\n",
              "    .dataframe tbody tr th:only-of-type {\n",
              "        vertical-align: middle;\n",
              "    }\n",
              "\n",
              "    .dataframe tbody tr th {\n",
              "        vertical-align: top;\n",
              "    }\n",
              "\n",
              "    .dataframe thead th {\n",
              "        text-align: right;\n",
              "    }\n",
              "</style>\n",
              "<table border=\"1\" class=\"dataframe\">\n",
              "  <thead>\n",
              "    <tr style=\"text-align: right;\">\n",
              "      <th></th>\n",
              "      <th>input1</th>\n",
              "      <th>input2</th>\n",
              "      <th>input3</th>\n",
              "      <th>input4</th>\n",
              "      <th>input5</th>\n",
              "      <th>input6</th>\n",
              "      <th>input7</th>\n",
              "      <th>input8</th>\n",
              "      <th>input9</th>\n",
              "      <th>input10</th>\n",
              "      <th>input11</th>\n",
              "      <th>input12</th>\n",
              "      <th>input13</th>\n",
              "      <th>input14</th>\n",
              "      <th>input15</th>\n",
              "      <th>input16</th>\n",
              "      <th>class</th>\n",
              "    </tr>\n",
              "  </thead>\n",
              "  <tbody>\n",
              "    <tr>\n",
              "      <th>0</th>\n",
              "      <td>G50</td>\n",
              "      <td>NO</td>\n",
              "      <td>G50</td>\n",
              "      <td>G90</td>\n",
              "      <td>G90</td>\n",
              "      <td>G50</td>\n",
              "      <td>G50</td>\n",
              "      <td>G10</td>\n",
              "      <td>G10</td>\n",
              "      <td>G50</td>\n",
              "      <td>G90</td>\n",
              "      <td>G90</td>\n",
              "      <td>NO</td>\n",
              "      <td>NO</td>\n",
              "      <td>G50</td>\n",
              "      <td>NO</td>\n",
              "      <td>G10</td>\n",
              "    </tr>\n",
              "    <tr>\n",
              "      <th>1</th>\n",
              "      <td>G10</td>\n",
              "      <td>G90</td>\n",
              "      <td>G50</td>\n",
              "      <td>NO</td>\n",
              "      <td>G50</td>\n",
              "      <td>G90</td>\n",
              "      <td>G50</td>\n",
              "      <td>G50</td>\n",
              "      <td>G50</td>\n",
              "      <td>G50</td>\n",
              "      <td>G50</td>\n",
              "      <td>G10</td>\n",
              "      <td>G90</td>\n",
              "      <td>G10</td>\n",
              "      <td>NO</td>\n",
              "      <td>G10</td>\n",
              "      <td>G10</td>\n",
              "    </tr>\n",
              "    <tr>\n",
              "      <th>2</th>\n",
              "      <td>G10</td>\n",
              "      <td>G90</td>\n",
              "      <td>G50</td>\n",
              "      <td>G90</td>\n",
              "      <td>G90</td>\n",
              "      <td>NO</td>\n",
              "      <td>NO</td>\n",
              "      <td>NO</td>\n",
              "      <td>G90</td>\n",
              "      <td>G90</td>\n",
              "      <td>G90</td>\n",
              "      <td>G90</td>\n",
              "      <td>G50</td>\n",
              "      <td>G50</td>\n",
              "      <td>G50</td>\n",
              "      <td>G10</td>\n",
              "      <td>G10</td>\n",
              "    </tr>\n",
              "    <tr>\n",
              "      <th>3</th>\n",
              "      <td>G10</td>\n",
              "      <td>NO</td>\n",
              "      <td>G10</td>\n",
              "      <td>NO</td>\n",
              "      <td>G10</td>\n",
              "      <td>G90</td>\n",
              "      <td>G50</td>\n",
              "      <td>G50</td>\n",
              "      <td>G90</td>\n",
              "      <td>G50</td>\n",
              "      <td>NO</td>\n",
              "      <td>G50</td>\n",
              "      <td>G90</td>\n",
              "      <td>G50</td>\n",
              "      <td>G90</td>\n",
              "      <td>G10</td>\n",
              "      <td>G10</td>\n",
              "    </tr>\n",
              "    <tr>\n",
              "      <th>4</th>\n",
              "      <td>G10</td>\n",
              "      <td>G90</td>\n",
              "      <td>G50</td>\n",
              "      <td>G90</td>\n",
              "      <td>NO</td>\n",
              "      <td>NO</td>\n",
              "      <td>G90</td>\n",
              "      <td>G90</td>\n",
              "      <td>G90</td>\n",
              "      <td>G90</td>\n",
              "      <td>G50</td>\n",
              "      <td>G50</td>\n",
              "      <td>G50</td>\n",
              "      <td>G50</td>\n",
              "      <td>G50</td>\n",
              "      <td>G10</td>\n",
              "      <td>G10</td>\n",
              "    </tr>\n",
              "  </tbody>\n",
              "</table>\n",
              "</div>"
            ],
            "text/plain": [
              "  input1 input2 input3 input4 input5  ... input13 input14 input15 input16 class\n",
              "0    G50     NO    G50    G90    G90  ...      NO      NO     G50      NO   G10\n",
              "1    G10    G90    G50     NO    G50  ...     G90     G10      NO     G10   G10\n",
              "2    G10    G90    G50    G90    G90  ...     G50     G50     G50     G10   G10\n",
              "3    G10     NO    G10     NO    G10  ...     G90     G50     G90     G10   G10\n",
              "4    G10    G90    G50    G90     NO  ...     G50     G50     G50     G10   G10\n",
              "\n",
              "[5 rows x 17 columns]"
            ]
          },
          "metadata": {
            "tags": []
          },
          "execution_count": 63
        }
      ]
    },
    {
      "cell_type": "code",
      "metadata": {
        "id": "l8JyUF1AkcRb"
      },
      "source": [
        "def someFunc(x,y):\n",
        "  try:\n",
        "    return (x/y)\n",
        "  except:\n",
        "    return 0"
      ],
      "execution_count": null,
      "outputs": []
    },
    {
      "cell_type": "code",
      "metadata": {
        "colab": {
          "base_uri": "https://localhost:8080/",
          "height": 225
        },
        "id": "lVVI-bbOkcfi",
        "outputId": "3ce570e5-5ba7-4891-b50c-8a5f7b512fe8"
      },
      "source": [
        "data.head()"
      ],
      "execution_count": null,
      "outputs": [
        {
          "output_type": "execute_result",
          "data": {
            "text/html": [
              "<div>\n",
              "<style scoped>\n",
              "    .dataframe tbody tr th:only-of-type {\n",
              "        vertical-align: middle;\n",
              "    }\n",
              "\n",
              "    .dataframe tbody tr th {\n",
              "        vertical-align: top;\n",
              "    }\n",
              "\n",
              "    .dataframe thead th {\n",
              "        text-align: right;\n",
              "    }\n",
              "</style>\n",
              "<table border=\"1\" class=\"dataframe\">\n",
              "  <thead>\n",
              "    <tr style=\"text-align: right;\">\n",
              "      <th></th>\n",
              "      <th>input1</th>\n",
              "      <th>input2</th>\n",
              "      <th>input3</th>\n",
              "      <th>input4</th>\n",
              "      <th>input5</th>\n",
              "      <th>input6</th>\n",
              "      <th>input7</th>\n",
              "      <th>input8</th>\n",
              "      <th>input9</th>\n",
              "      <th>input10</th>\n",
              "      <th>input11</th>\n",
              "      <th>input12</th>\n",
              "      <th>input13</th>\n",
              "      <th>input14</th>\n",
              "      <th>input15</th>\n",
              "      <th>input16</th>\n",
              "      <th>class</th>\n",
              "    </tr>\n",
              "  </thead>\n",
              "  <tbody>\n",
              "    <tr>\n",
              "      <th>0</th>\n",
              "      <td>47</td>\n",
              "      <td>100</td>\n",
              "      <td>27</td>\n",
              "      <td>81</td>\n",
              "      <td>57</td>\n",
              "      <td>37</td>\n",
              "      <td>26</td>\n",
              "      <td>0</td>\n",
              "      <td>0</td>\n",
              "      <td>23</td>\n",
              "      <td>56.0</td>\n",
              "      <td>53</td>\n",
              "      <td>100</td>\n",
              "      <td>90</td>\n",
              "      <td>40</td>\n",
              "      <td>98</td>\n",
              "      <td>8</td>\n",
              "    </tr>\n",
              "    <tr>\n",
              "      <th>1</th>\n",
              "      <td>0</td>\n",
              "      <td>89</td>\n",
              "      <td>27</td>\n",
              "      <td>100</td>\n",
              "      <td>42</td>\n",
              "      <td>75</td>\n",
              "      <td>29</td>\n",
              "      <td>45</td>\n",
              "      <td>15</td>\n",
              "      <td>15</td>\n",
              "      <td>37.0</td>\n",
              "      <td>0</td>\n",
              "      <td>69</td>\n",
              "      <td>2</td>\n",
              "      <td>100</td>\n",
              "      <td>6</td>\n",
              "      <td>2</td>\n",
              "    </tr>\n",
              "    <tr>\n",
              "      <th>2</th>\n",
              "      <td>0</td>\n",
              "      <td>57</td>\n",
              "      <td>31</td>\n",
              "      <td>68</td>\n",
              "      <td>72</td>\n",
              "      <td>90</td>\n",
              "      <td>100</td>\n",
              "      <td>100</td>\n",
              "      <td>76</td>\n",
              "      <td>75</td>\n",
              "      <td>50.0</td>\n",
              "      <td>51</td>\n",
              "      <td>28</td>\n",
              "      <td>25</td>\n",
              "      <td>16</td>\n",
              "      <td>0</td>\n",
              "      <td>1</td>\n",
              "    </tr>\n",
              "    <tr>\n",
              "      <th>3</th>\n",
              "      <td>0</td>\n",
              "      <td>100</td>\n",
              "      <td>7</td>\n",
              "      <td>92</td>\n",
              "      <td>5</td>\n",
              "      <td>68</td>\n",
              "      <td>19</td>\n",
              "      <td>45</td>\n",
              "      <td>86</td>\n",
              "      <td>34</td>\n",
              "      <td>100.0</td>\n",
              "      <td>45</td>\n",
              "      <td>74</td>\n",
              "      <td>23</td>\n",
              "      <td>67</td>\n",
              "      <td>0</td>\n",
              "      <td>4</td>\n",
              "    </tr>\n",
              "    <tr>\n",
              "      <th>4</th>\n",
              "      <td>0</td>\n",
              "      <td>67</td>\n",
              "      <td>49</td>\n",
              "      <td>83</td>\n",
              "      <td>100</td>\n",
              "      <td>100</td>\n",
              "      <td>81</td>\n",
              "      <td>80</td>\n",
              "      <td>60</td>\n",
              "      <td>60</td>\n",
              "      <td>40.0</td>\n",
              "      <td>40</td>\n",
              "      <td>33</td>\n",
              "      <td>20</td>\n",
              "      <td>47</td>\n",
              "      <td>0</td>\n",
              "      <td>1</td>\n",
              "    </tr>\n",
              "  </tbody>\n",
              "</table>\n",
              "</div>"
            ],
            "text/plain": [
              "   input1  input2  input3  input4  ...  input14  input15  input16  class\n",
              "0      47     100      27      81  ...       90       40       98      8\n",
              "1       0      89      27     100  ...        2      100        6      2\n",
              "2       0      57      31      68  ...       25       16        0      1\n",
              "3       0     100       7      92  ...       23       67        0      4\n",
              "4       0      67      49      83  ...       20       47        0      1\n",
              "\n",
              "[5 rows x 17 columns]"
            ]
          },
          "metadata": {
            "tags": []
          },
          "execution_count": 67
        }
      ]
    },
    {
      "cell_type": "code",
      "metadata": {
        "colab": {
          "base_uri": "https://localhost:8080/"
        },
        "id": "t26rGOkckcso",
        "outputId": "c2ae3826-d175-4b27-e034-51e9e083ba63"
      },
      "source": [
        "data[[\"input3\",\"input4\"]].apply(lambda x : someFunc(*x), axis=1)"
      ],
      "execution_count": null,
      "outputs": [
        {
          "output_type": "execute_result",
          "data": {
            "text/plain": [
              "0        0.333333\n",
              "1        0.270000\n",
              "2        0.455882\n",
              "3        0.076087\n",
              "4        0.590361\n",
              "           ...   \n",
              "10987    0.342857\n",
              "10988    0.410000\n",
              "10989    0.341772\n",
              "10990    0.000000\n",
              "10991    0.456790\n",
              "Length: 10992, dtype: float64"
            ]
          },
          "metadata": {
            "tags": []
          },
          "execution_count": 68
        }
      ]
    },
    {
      "cell_type": "code",
      "metadata": {
        "id": "T-kaxy0lMHFj"
      },
      "source": [
        "# Merge(join), Concat / append in pandas\n",
        "\n",
        "table1 = pd.DataFrame(data={'column1':[1,2,3,4],'column2':[5,6,7,8]})\n",
        "table2 = pd.DataFrame(data={'column1':[9,10,11,12],'column2':[13,14,15,16]})\n",
        "table3 = pd.DataFrame(data={'column3':[1,1,2,2],'column4':[5,6,7,8]})"
      ],
      "execution_count": null,
      "outputs": []
    },
    {
      "cell_type": "code",
      "metadata": {
        "id": "HG-lcNbxMHTP",
        "colab": {
          "base_uri": "https://localhost:8080/",
          "height": 299
        },
        "outputId": "b194d961-ffb7-4ff1-c585-734a2c4bbffc"
      },
      "source": [
        "pd.concat([table1,table2])"
      ],
      "execution_count": null,
      "outputs": [
        {
          "output_type": "execute_result",
          "data": {
            "text/html": [
              "<div>\n",
              "<style scoped>\n",
              "    .dataframe tbody tr th:only-of-type {\n",
              "        vertical-align: middle;\n",
              "    }\n",
              "\n",
              "    .dataframe tbody tr th {\n",
              "        vertical-align: top;\n",
              "    }\n",
              "\n",
              "    .dataframe thead th {\n",
              "        text-align: right;\n",
              "    }\n",
              "</style>\n",
              "<table border=\"1\" class=\"dataframe\">\n",
              "  <thead>\n",
              "    <tr style=\"text-align: right;\">\n",
              "      <th></th>\n",
              "      <th>column1</th>\n",
              "      <th>column2</th>\n",
              "    </tr>\n",
              "  </thead>\n",
              "  <tbody>\n",
              "    <tr>\n",
              "      <th>0</th>\n",
              "      <td>1</td>\n",
              "      <td>5</td>\n",
              "    </tr>\n",
              "    <tr>\n",
              "      <th>1</th>\n",
              "      <td>2</td>\n",
              "      <td>6</td>\n",
              "    </tr>\n",
              "    <tr>\n",
              "      <th>2</th>\n",
              "      <td>3</td>\n",
              "      <td>7</td>\n",
              "    </tr>\n",
              "    <tr>\n",
              "      <th>3</th>\n",
              "      <td>4</td>\n",
              "      <td>8</td>\n",
              "    </tr>\n",
              "    <tr>\n",
              "      <th>0</th>\n",
              "      <td>9</td>\n",
              "      <td>13</td>\n",
              "    </tr>\n",
              "    <tr>\n",
              "      <th>1</th>\n",
              "      <td>10</td>\n",
              "      <td>14</td>\n",
              "    </tr>\n",
              "    <tr>\n",
              "      <th>2</th>\n",
              "      <td>11</td>\n",
              "      <td>15</td>\n",
              "    </tr>\n",
              "    <tr>\n",
              "      <th>3</th>\n",
              "      <td>12</td>\n",
              "      <td>16</td>\n",
              "    </tr>\n",
              "  </tbody>\n",
              "</table>\n",
              "</div>"
            ],
            "text/plain": [
              "   column1  column2\n",
              "0        1        5\n",
              "1        2        6\n",
              "2        3        7\n",
              "3        4        8\n",
              "0        9       13\n",
              "1       10       14\n",
              "2       11       15\n",
              "3       12       16"
            ]
          },
          "metadata": {
            "tags": []
          },
          "execution_count": 80
        }
      ]
    },
    {
      "cell_type": "code",
      "metadata": {
        "colab": {
          "base_uri": "https://localhost:8080/",
          "height": 299
        },
        "id": "jG3jRTeOpWkm",
        "outputId": "1993c991-e5d8-4382-bbd0-c2ac70a4f006"
      },
      "source": [
        "table1.append(table2)"
      ],
      "execution_count": null,
      "outputs": [
        {
          "output_type": "execute_result",
          "data": {
            "text/html": [
              "<div>\n",
              "<style scoped>\n",
              "    .dataframe tbody tr th:only-of-type {\n",
              "        vertical-align: middle;\n",
              "    }\n",
              "\n",
              "    .dataframe tbody tr th {\n",
              "        vertical-align: top;\n",
              "    }\n",
              "\n",
              "    .dataframe thead th {\n",
              "        text-align: right;\n",
              "    }\n",
              "</style>\n",
              "<table border=\"1\" class=\"dataframe\">\n",
              "  <thead>\n",
              "    <tr style=\"text-align: right;\">\n",
              "      <th></th>\n",
              "      <th>column1</th>\n",
              "      <th>column2</th>\n",
              "    </tr>\n",
              "  </thead>\n",
              "  <tbody>\n",
              "    <tr>\n",
              "      <th>0</th>\n",
              "      <td>1</td>\n",
              "      <td>5</td>\n",
              "    </tr>\n",
              "    <tr>\n",
              "      <th>1</th>\n",
              "      <td>2</td>\n",
              "      <td>6</td>\n",
              "    </tr>\n",
              "    <tr>\n",
              "      <th>2</th>\n",
              "      <td>3</td>\n",
              "      <td>7</td>\n",
              "    </tr>\n",
              "    <tr>\n",
              "      <th>3</th>\n",
              "      <td>4</td>\n",
              "      <td>8</td>\n",
              "    </tr>\n",
              "    <tr>\n",
              "      <th>0</th>\n",
              "      <td>9</td>\n",
              "      <td>13</td>\n",
              "    </tr>\n",
              "    <tr>\n",
              "      <th>1</th>\n",
              "      <td>10</td>\n",
              "      <td>14</td>\n",
              "    </tr>\n",
              "    <tr>\n",
              "      <th>2</th>\n",
              "      <td>11</td>\n",
              "      <td>15</td>\n",
              "    </tr>\n",
              "    <tr>\n",
              "      <th>3</th>\n",
              "      <td>12</td>\n",
              "      <td>16</td>\n",
              "    </tr>\n",
              "  </tbody>\n",
              "</table>\n",
              "</div>"
            ],
            "text/plain": [
              "   column1  column2\n",
              "0        1        5\n",
              "1        2        6\n",
              "2        3        7\n",
              "3        4        8\n",
              "0        9       13\n",
              "1       10       14\n",
              "2       11       15\n",
              "3       12       16"
            ]
          },
          "metadata": {
            "tags": []
          },
          "execution_count": 81
        }
      ]
    },
    {
      "cell_type": "code",
      "metadata": {
        "colab": {
          "base_uri": "https://localhost:8080/",
          "height": 299
        },
        "id": "YvaoOqdPtvst",
        "outputId": "c35da057-4c8b-47fc-d0c7-436ab9348b6c"
      },
      "source": [
        "pd.concat([table1,table3])"
      ],
      "execution_count": null,
      "outputs": [
        {
          "output_type": "execute_result",
          "data": {
            "text/html": [
              "<div>\n",
              "<style scoped>\n",
              "    .dataframe tbody tr th:only-of-type {\n",
              "        vertical-align: middle;\n",
              "    }\n",
              "\n",
              "    .dataframe tbody tr th {\n",
              "        vertical-align: top;\n",
              "    }\n",
              "\n",
              "    .dataframe thead th {\n",
              "        text-align: right;\n",
              "    }\n",
              "</style>\n",
              "<table border=\"1\" class=\"dataframe\">\n",
              "  <thead>\n",
              "    <tr style=\"text-align: right;\">\n",
              "      <th></th>\n",
              "      <th>column1</th>\n",
              "      <th>column2</th>\n",
              "      <th>column3</th>\n",
              "      <th>column4</th>\n",
              "    </tr>\n",
              "  </thead>\n",
              "  <tbody>\n",
              "    <tr>\n",
              "      <th>0</th>\n",
              "      <td>1.0</td>\n",
              "      <td>5.0</td>\n",
              "      <td>NaN</td>\n",
              "      <td>NaN</td>\n",
              "    </tr>\n",
              "    <tr>\n",
              "      <th>1</th>\n",
              "      <td>2.0</td>\n",
              "      <td>6.0</td>\n",
              "      <td>NaN</td>\n",
              "      <td>NaN</td>\n",
              "    </tr>\n",
              "    <tr>\n",
              "      <th>2</th>\n",
              "      <td>3.0</td>\n",
              "      <td>7.0</td>\n",
              "      <td>NaN</td>\n",
              "      <td>NaN</td>\n",
              "    </tr>\n",
              "    <tr>\n",
              "      <th>3</th>\n",
              "      <td>4.0</td>\n",
              "      <td>8.0</td>\n",
              "      <td>NaN</td>\n",
              "      <td>NaN</td>\n",
              "    </tr>\n",
              "    <tr>\n",
              "      <th>0</th>\n",
              "      <td>NaN</td>\n",
              "      <td>NaN</td>\n",
              "      <td>1.0</td>\n",
              "      <td>5.0</td>\n",
              "    </tr>\n",
              "    <tr>\n",
              "      <th>1</th>\n",
              "      <td>NaN</td>\n",
              "      <td>NaN</td>\n",
              "      <td>1.0</td>\n",
              "      <td>6.0</td>\n",
              "    </tr>\n",
              "    <tr>\n",
              "      <th>2</th>\n",
              "      <td>NaN</td>\n",
              "      <td>NaN</td>\n",
              "      <td>2.0</td>\n",
              "      <td>7.0</td>\n",
              "    </tr>\n",
              "    <tr>\n",
              "      <th>3</th>\n",
              "      <td>NaN</td>\n",
              "      <td>NaN</td>\n",
              "      <td>2.0</td>\n",
              "      <td>8.0</td>\n",
              "    </tr>\n",
              "  </tbody>\n",
              "</table>\n",
              "</div>"
            ],
            "text/plain": [
              "   column1  column2  column3  column4\n",
              "0      1.0      5.0      NaN      NaN\n",
              "1      2.0      6.0      NaN      NaN\n",
              "2      3.0      7.0      NaN      NaN\n",
              "3      4.0      8.0      NaN      NaN\n",
              "0      NaN      NaN      1.0      5.0\n",
              "1      NaN      NaN      1.0      6.0\n",
              "2      NaN      NaN      2.0      7.0\n",
              "3      NaN      NaN      2.0      8.0"
            ]
          },
          "metadata": {
            "tags": []
          },
          "execution_count": 86
        }
      ]
    },
    {
      "cell_type": "code",
      "metadata": {
        "colab": {
          "base_uri": "https://localhost:8080/",
          "height": 175
        },
        "id": "UE_Dj_0ltwEh",
        "outputId": "c82ee688-c95e-43cc-da5e-b5b2be2c7a78"
      },
      "source": [
        "pd.concat([table1,table3],axis=1)"
      ],
      "execution_count": null,
      "outputs": [
        {
          "output_type": "execute_result",
          "data": {
            "text/html": [
              "<div>\n",
              "<style scoped>\n",
              "    .dataframe tbody tr th:only-of-type {\n",
              "        vertical-align: middle;\n",
              "    }\n",
              "\n",
              "    .dataframe tbody tr th {\n",
              "        vertical-align: top;\n",
              "    }\n",
              "\n",
              "    .dataframe thead th {\n",
              "        text-align: right;\n",
              "    }\n",
              "</style>\n",
              "<table border=\"1\" class=\"dataframe\">\n",
              "  <thead>\n",
              "    <tr style=\"text-align: right;\">\n",
              "      <th></th>\n",
              "      <th>column1</th>\n",
              "      <th>column2</th>\n",
              "      <th>column3</th>\n",
              "      <th>column4</th>\n",
              "    </tr>\n",
              "  </thead>\n",
              "  <tbody>\n",
              "    <tr>\n",
              "      <th>0</th>\n",
              "      <td>1</td>\n",
              "      <td>5</td>\n",
              "      <td>1</td>\n",
              "      <td>5</td>\n",
              "    </tr>\n",
              "    <tr>\n",
              "      <th>1</th>\n",
              "      <td>2</td>\n",
              "      <td>6</td>\n",
              "      <td>1</td>\n",
              "      <td>6</td>\n",
              "    </tr>\n",
              "    <tr>\n",
              "      <th>2</th>\n",
              "      <td>3</td>\n",
              "      <td>7</td>\n",
              "      <td>2</td>\n",
              "      <td>7</td>\n",
              "    </tr>\n",
              "    <tr>\n",
              "      <th>3</th>\n",
              "      <td>4</td>\n",
              "      <td>8</td>\n",
              "      <td>2</td>\n",
              "      <td>8</td>\n",
              "    </tr>\n",
              "  </tbody>\n",
              "</table>\n",
              "</div>"
            ],
            "text/plain": [
              "   column1  column2  column3  column4\n",
              "0        1        5        1        5\n",
              "1        2        6        1        6\n",
              "2        3        7        2        7\n",
              "3        4        8        2        8"
            ]
          },
          "metadata": {
            "tags": []
          },
          "execution_count": 87
        }
      ]
    },
    {
      "cell_type": "code",
      "metadata": {
        "colab": {
          "base_uri": "https://localhost:8080/",
          "height": 236
        },
        "id": "yy6ZeaxltwUE",
        "outputId": "f332e7cd-61ee-4673-8add-28269994d624"
      },
      "source": [
        "# Merge\n",
        "\n",
        "pd.merge(table1,table3,left_on=[\"column1\"],right_on=[\"column3\"],how=\"left\")"
      ],
      "execution_count": null,
      "outputs": [
        {
          "output_type": "execute_result",
          "data": {
            "text/html": [
              "<div>\n",
              "<style scoped>\n",
              "    .dataframe tbody tr th:only-of-type {\n",
              "        vertical-align: middle;\n",
              "    }\n",
              "\n",
              "    .dataframe tbody tr th {\n",
              "        vertical-align: top;\n",
              "    }\n",
              "\n",
              "    .dataframe thead th {\n",
              "        text-align: right;\n",
              "    }\n",
              "</style>\n",
              "<table border=\"1\" class=\"dataframe\">\n",
              "  <thead>\n",
              "    <tr style=\"text-align: right;\">\n",
              "      <th></th>\n",
              "      <th>column1</th>\n",
              "      <th>column2</th>\n",
              "      <th>column3</th>\n",
              "      <th>column4</th>\n",
              "    </tr>\n",
              "  </thead>\n",
              "  <tbody>\n",
              "    <tr>\n",
              "      <th>0</th>\n",
              "      <td>1</td>\n",
              "      <td>5</td>\n",
              "      <td>1.0</td>\n",
              "      <td>5.0</td>\n",
              "    </tr>\n",
              "    <tr>\n",
              "      <th>1</th>\n",
              "      <td>1</td>\n",
              "      <td>5</td>\n",
              "      <td>1.0</td>\n",
              "      <td>6.0</td>\n",
              "    </tr>\n",
              "    <tr>\n",
              "      <th>2</th>\n",
              "      <td>2</td>\n",
              "      <td>6</td>\n",
              "      <td>2.0</td>\n",
              "      <td>7.0</td>\n",
              "    </tr>\n",
              "    <tr>\n",
              "      <th>3</th>\n",
              "      <td>2</td>\n",
              "      <td>6</td>\n",
              "      <td>2.0</td>\n",
              "      <td>8.0</td>\n",
              "    </tr>\n",
              "    <tr>\n",
              "      <th>4</th>\n",
              "      <td>3</td>\n",
              "      <td>7</td>\n",
              "      <td>NaN</td>\n",
              "      <td>NaN</td>\n",
              "    </tr>\n",
              "    <tr>\n",
              "      <th>5</th>\n",
              "      <td>4</td>\n",
              "      <td>8</td>\n",
              "      <td>NaN</td>\n",
              "      <td>NaN</td>\n",
              "    </tr>\n",
              "  </tbody>\n",
              "</table>\n",
              "</div>"
            ],
            "text/plain": [
              "   column1  column2  column3  column4\n",
              "0        1        5      1.0      5.0\n",
              "1        1        5      1.0      6.0\n",
              "2        2        6      2.0      7.0\n",
              "3        2        6      2.0      8.0\n",
              "4        3        7      NaN      NaN\n",
              "5        4        8      NaN      NaN"
            ]
          },
          "metadata": {
            "tags": []
          },
          "execution_count": 88
        }
      ]
    },
    {
      "cell_type": "code",
      "metadata": {
        "colab": {
          "base_uri": "https://localhost:8080/",
          "height": 175
        },
        "id": "QpF-RYGltwiH",
        "outputId": "4fdc7956-64ed-46c1-fece-fae0707eed53"
      },
      "source": [
        "pd.merge(table1,table3,left_on=[\"column1\"],right_on=[\"column3\"],how=\"inner\")"
      ],
      "execution_count": null,
      "outputs": [
        {
          "output_type": "execute_result",
          "data": {
            "text/html": [
              "<div>\n",
              "<style scoped>\n",
              "    .dataframe tbody tr th:only-of-type {\n",
              "        vertical-align: middle;\n",
              "    }\n",
              "\n",
              "    .dataframe tbody tr th {\n",
              "        vertical-align: top;\n",
              "    }\n",
              "\n",
              "    .dataframe thead th {\n",
              "        text-align: right;\n",
              "    }\n",
              "</style>\n",
              "<table border=\"1\" class=\"dataframe\">\n",
              "  <thead>\n",
              "    <tr style=\"text-align: right;\">\n",
              "      <th></th>\n",
              "      <th>column1</th>\n",
              "      <th>column2</th>\n",
              "      <th>column3</th>\n",
              "      <th>column4</th>\n",
              "    </tr>\n",
              "  </thead>\n",
              "  <tbody>\n",
              "    <tr>\n",
              "      <th>0</th>\n",
              "      <td>1</td>\n",
              "      <td>5</td>\n",
              "      <td>1</td>\n",
              "      <td>5</td>\n",
              "    </tr>\n",
              "    <tr>\n",
              "      <th>1</th>\n",
              "      <td>1</td>\n",
              "      <td>5</td>\n",
              "      <td>1</td>\n",
              "      <td>6</td>\n",
              "    </tr>\n",
              "    <tr>\n",
              "      <th>2</th>\n",
              "      <td>2</td>\n",
              "      <td>6</td>\n",
              "      <td>2</td>\n",
              "      <td>7</td>\n",
              "    </tr>\n",
              "    <tr>\n",
              "      <th>3</th>\n",
              "      <td>2</td>\n",
              "      <td>6</td>\n",
              "      <td>2</td>\n",
              "      <td>8</td>\n",
              "    </tr>\n",
              "  </tbody>\n",
              "</table>\n",
              "</div>"
            ],
            "text/plain": [
              "   column1  column2  column3  column4\n",
              "0        1        5        1        5\n",
              "1        1        5        1        6\n",
              "2        2        6        2        7\n",
              "3        2        6        2        8"
            ]
          },
          "metadata": {
            "tags": []
          },
          "execution_count": 89
        }
      ]
    },
    {
      "cell_type": "code",
      "metadata": {
        "colab": {
          "resources": {
            "http://localhost:8080/nbextensions/google.colab/files.js": {
              "data": "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",
              "ok": true,
              "headers": [
                [
                  "content-type",
                  "application/javascript"
                ]
              ],
              "status": 200,
              "status_text": ""
            }
          },
          "base_uri": "https://localhost:8080/",
          "height": 73
        },
        "id": "0vuRy61EtwwG",
        "outputId": "9897b34a-8bac-4fa4-b749-f167693b5088"
      },
      "source": [
        "# Learning by example\n",
        "\n",
        "from google.colab import files\n",
        "upload = files.upload()"
      ],
      "execution_count": null,
      "outputs": [
        {
          "output_type": "display_data",
          "data": {
            "text/html": [
              "\n",
              "     <input type=\"file\" id=\"files-7b5e03bb-bc5c-489d-8ed6-3c54507e1306\" name=\"files[]\" multiple disabled\n",
              "        style=\"border:none\" />\n",
              "     <output id=\"result-7b5e03bb-bc5c-489d-8ed6-3c54507e1306\">\n",
              "      Upload widget is only available when the cell has been executed in the\n",
              "      current browser session. Please rerun this cell to enable.\n",
              "      </output>\n",
              "      <script src=\"/nbextensions/google.colab/files.js\"></script> "
            ],
            "text/plain": [
              "<IPython.core.display.HTML object>"
            ]
          },
          "metadata": {
            "tags": []
          }
        },
        {
          "output_type": "stream",
          "text": [
            "Saving Sample - Superstore.xls to Sample - Superstore.xls\n"
          ],
          "name": "stdout"
        }
      ]
    },
    {
      "cell_type": "code",
      "metadata": {
        "colab": {
          "base_uri": "https://localhost:8080/",
          "height": 270
        },
        "id": "VKcN5IwIu8Uf",
        "outputId": "bfe19748-a945-49e0-e1dd-22bfb5b26ffb"
      },
      "source": [
        "salesData = pd.read_excel('Sample - Superstore.xls')\n",
        "salesData.head(2)"
      ],
      "execution_count": null,
      "outputs": [
        {
          "output_type": "execute_result",
          "data": {
            "text/html": [
              "<div>\n",
              "<style scoped>\n",
              "    .dataframe tbody tr th:only-of-type {\n",
              "        vertical-align: middle;\n",
              "    }\n",
              "\n",
              "    .dataframe tbody tr th {\n",
              "        vertical-align: top;\n",
              "    }\n",
              "\n",
              "    .dataframe thead th {\n",
              "        text-align: right;\n",
              "    }\n",
              "</style>\n",
              "<table border=\"1\" class=\"dataframe\">\n",
              "  <thead>\n",
              "    <tr style=\"text-align: right;\">\n",
              "      <th></th>\n",
              "      <th>Row ID</th>\n",
              "      <th>Order ID</th>\n",
              "      <th>Order Date</th>\n",
              "      <th>Ship Date</th>\n",
              "      <th>Ship Mode</th>\n",
              "      <th>Customer ID</th>\n",
              "      <th>Customer Name</th>\n",
              "      <th>Segment</th>\n",
              "      <th>Country</th>\n",
              "      <th>City</th>\n",
              "      <th>State</th>\n",
              "      <th>Postal Code</th>\n",
              "      <th>Region</th>\n",
              "      <th>Product ID</th>\n",
              "      <th>Category</th>\n",
              "      <th>Sub-Category</th>\n",
              "      <th>Product Name</th>\n",
              "      <th>Sales</th>\n",
              "      <th>Quantity</th>\n",
              "      <th>Discount</th>\n",
              "      <th>Profit</th>\n",
              "    </tr>\n",
              "  </thead>\n",
              "  <tbody>\n",
              "    <tr>\n",
              "      <th>0</th>\n",
              "      <td>1</td>\n",
              "      <td>CA-2016-152156</td>\n",
              "      <td>2016-11-08</td>\n",
              "      <td>2016-11-11</td>\n",
              "      <td>Second Class</td>\n",
              "      <td>CG-12520</td>\n",
              "      <td>Claire Gute</td>\n",
              "      <td>Consumer</td>\n",
              "      <td>United States</td>\n",
              "      <td>Henderson</td>\n",
              "      <td>Kentucky</td>\n",
              "      <td>42420</td>\n",
              "      <td>South</td>\n",
              "      <td>FUR-BO-10001798</td>\n",
              "      <td>Furniture</td>\n",
              "      <td>Bookcases</td>\n",
              "      <td>Bush Somerset Collection Bookcase</td>\n",
              "      <td>261.96</td>\n",
              "      <td>2</td>\n",
              "      <td>0.0</td>\n",
              "      <td>41.9136</td>\n",
              "    </tr>\n",
              "    <tr>\n",
              "      <th>1</th>\n",
              "      <td>2</td>\n",
              "      <td>CA-2016-152156</td>\n",
              "      <td>2016-11-08</td>\n",
              "      <td>2016-11-11</td>\n",
              "      <td>Second Class</td>\n",
              "      <td>CG-12520</td>\n",
              "      <td>Claire Gute</td>\n",
              "      <td>Consumer</td>\n",
              "      <td>United States</td>\n",
              "      <td>Henderson</td>\n",
              "      <td>Kentucky</td>\n",
              "      <td>42420</td>\n",
              "      <td>South</td>\n",
              "      <td>FUR-CH-10000454</td>\n",
              "      <td>Furniture</td>\n",
              "      <td>Chairs</td>\n",
              "      <td>Hon Deluxe Fabric Upholstered Stacking Chairs,...</td>\n",
              "      <td>731.94</td>\n",
              "      <td>3</td>\n",
              "      <td>0.0</td>\n",
              "      <td>219.5820</td>\n",
              "    </tr>\n",
              "  </tbody>\n",
              "</table>\n",
              "</div>"
            ],
            "text/plain": [
              "   Row ID        Order ID Order Date  ... Quantity Discount    Profit\n",
              "0       1  CA-2016-152156 2016-11-08  ...        2      0.0   41.9136\n",
              "1       2  CA-2016-152156 2016-11-08  ...        3      0.0  219.5820\n",
              "\n",
              "[2 rows x 21 columns]"
            ]
          },
          "metadata": {
            "tags": []
          },
          "execution_count": 92
        }
      ]
    },
    {
      "cell_type": "code",
      "metadata": {
        "colab": {
          "base_uri": "https://localhost:8080/"
        },
        "id": "7N34ob0fvKzp",
        "outputId": "f14009b9-ae18-4264-df8d-f48087240fa9"
      },
      "source": [
        "salesData.columns"
      ],
      "execution_count": null,
      "outputs": [
        {
          "output_type": "execute_result",
          "data": {
            "text/plain": [
              "Index(['Row ID', 'Order ID', 'Order Date', 'Ship Date', 'Ship Mode',\n",
              "       'Customer ID', 'Customer Name', 'Segment', 'Country', 'City', 'State',\n",
              "       'Postal Code', 'Region', 'Product ID', 'Category', 'Sub-Category',\n",
              "       'Product Name', 'Sales', 'Quantity', 'Discount', 'Profit'],\n",
              "      dtype='object')"
            ]
          },
          "metadata": {
            "tags": []
          },
          "execution_count": 93
        }
      ]
    },
    {
      "cell_type": "code",
      "metadata": {
        "colab": {
          "base_uri": "https://localhost:8080/"
        },
        "id": "mGj49P6AvLFq",
        "outputId": "68a5f6f1-8820-46b4-c54c-d6e2978fec2e"
      },
      "source": [
        "salesData.shape"
      ],
      "execution_count": null,
      "outputs": [
        {
          "output_type": "execute_result",
          "data": {
            "text/plain": [
              "(9994, 21)"
            ]
          },
          "metadata": {
            "tags": []
          },
          "execution_count": 94
        }
      ]
    },
    {
      "cell_type": "code",
      "metadata": {
        "colab": {
          "base_uri": "https://localhost:8080/",
          "height": 299
        },
        "id": "_LlksAiRvLTD",
        "outputId": "10842200-e3f4-4ab4-ad89-6b96976bf446"
      },
      "source": [
        "salesData.describe()"
      ],
      "execution_count": null,
      "outputs": [
        {
          "output_type": "execute_result",
          "data": {
            "text/html": [
              "<div>\n",
              "<style scoped>\n",
              "    .dataframe tbody tr th:only-of-type {\n",
              "        vertical-align: middle;\n",
              "    }\n",
              "\n",
              "    .dataframe tbody tr th {\n",
              "        vertical-align: top;\n",
              "    }\n",
              "\n",
              "    .dataframe thead th {\n",
              "        text-align: right;\n",
              "    }\n",
              "</style>\n",
              "<table border=\"1\" class=\"dataframe\">\n",
              "  <thead>\n",
              "    <tr style=\"text-align: right;\">\n",
              "      <th></th>\n",
              "      <th>Row ID</th>\n",
              "      <th>Postal Code</th>\n",
              "      <th>Sales</th>\n",
              "      <th>Quantity</th>\n",
              "      <th>Discount</th>\n",
              "      <th>Profit</th>\n",
              "    </tr>\n",
              "  </thead>\n",
              "  <tbody>\n",
              "    <tr>\n",
              "      <th>count</th>\n",
              "      <td>9994.000000</td>\n",
              "      <td>9994.000000</td>\n",
              "      <td>9994.000000</td>\n",
              "      <td>9994.000000</td>\n",
              "      <td>9994.000000</td>\n",
              "      <td>9994.000000</td>\n",
              "    </tr>\n",
              "    <tr>\n",
              "      <th>mean</th>\n",
              "      <td>4997.500000</td>\n",
              "      <td>55190.379428</td>\n",
              "      <td>229.858001</td>\n",
              "      <td>3.789574</td>\n",
              "      <td>0.156203</td>\n",
              "      <td>28.656896</td>\n",
              "    </tr>\n",
              "    <tr>\n",
              "      <th>std</th>\n",
              "      <td>2885.163629</td>\n",
              "      <td>32063.693350</td>\n",
              "      <td>623.245101</td>\n",
              "      <td>2.225110</td>\n",
              "      <td>0.206452</td>\n",
              "      <td>234.260108</td>\n",
              "    </tr>\n",
              "    <tr>\n",
              "      <th>min</th>\n",
              "      <td>1.000000</td>\n",
              "      <td>1040.000000</td>\n",
              "      <td>0.444000</td>\n",
              "      <td>1.000000</td>\n",
              "      <td>0.000000</td>\n",
              "      <td>-6599.978000</td>\n",
              "    </tr>\n",
              "    <tr>\n",
              "      <th>25%</th>\n",
              "      <td>2499.250000</td>\n",
              "      <td>23223.000000</td>\n",
              "      <td>17.280000</td>\n",
              "      <td>2.000000</td>\n",
              "      <td>0.000000</td>\n",
              "      <td>1.728750</td>\n",
              "    </tr>\n",
              "    <tr>\n",
              "      <th>50%</th>\n",
              "      <td>4997.500000</td>\n",
              "      <td>56430.500000</td>\n",
              "      <td>54.490000</td>\n",
              "      <td>3.000000</td>\n",
              "      <td>0.200000</td>\n",
              "      <td>8.666500</td>\n",
              "    </tr>\n",
              "    <tr>\n",
              "      <th>75%</th>\n",
              "      <td>7495.750000</td>\n",
              "      <td>90008.000000</td>\n",
              "      <td>209.940000</td>\n",
              "      <td>5.000000</td>\n",
              "      <td>0.200000</td>\n",
              "      <td>29.364000</td>\n",
              "    </tr>\n",
              "    <tr>\n",
              "      <th>max</th>\n",
              "      <td>9994.000000</td>\n",
              "      <td>99301.000000</td>\n",
              "      <td>22638.480000</td>\n",
              "      <td>14.000000</td>\n",
              "      <td>0.800000</td>\n",
              "      <td>8399.976000</td>\n",
              "    </tr>\n",
              "  </tbody>\n",
              "</table>\n",
              "</div>"
            ],
            "text/plain": [
              "            Row ID   Postal Code  ...     Discount       Profit\n",
              "count  9994.000000   9994.000000  ...  9994.000000  9994.000000\n",
              "mean   4997.500000  55190.379428  ...     0.156203    28.656896\n",
              "std    2885.163629  32063.693350  ...     0.206452   234.260108\n",
              "min       1.000000   1040.000000  ...     0.000000 -6599.978000\n",
              "25%    2499.250000  23223.000000  ...     0.000000     1.728750\n",
              "50%    4997.500000  56430.500000  ...     0.200000     8.666500\n",
              "75%    7495.750000  90008.000000  ...     0.200000    29.364000\n",
              "max    9994.000000  99301.000000  ...     0.800000  8399.976000\n",
              "\n",
              "[8 rows x 6 columns]"
            ]
          },
          "metadata": {
            "tags": []
          },
          "execution_count": 95
        }
      ]
    },
    {
      "cell_type": "code",
      "metadata": {
        "colab": {
          "base_uri": "https://localhost:8080/"
        },
        "id": "uods00M-vLjC",
        "outputId": "ff76885e-74ca-4107-ba1f-d5f00a8b6a2a"
      },
      "source": [
        "# total of unique products that we got\n",
        "\n",
        "np.unique(salesData['Product ID'])"
      ],
      "execution_count": null,
      "outputs": [
        {
          "output_type": "execute_result",
          "data": {
            "text/plain": [
              "array(['FUR-BO-10000112', 'FUR-BO-10000330', 'FUR-BO-10000362', ...,\n",
              "       'TEC-PH-10004924', 'TEC-PH-10004959', 'TEC-PH-10004977'],\n",
              "      dtype=object)"
            ]
          },
          "metadata": {
            "tags": []
          },
          "execution_count": 100
        }
      ]
    },
    {
      "cell_type": "code",
      "metadata": {
        "colab": {
          "base_uri": "https://localhost:8080/"
        },
        "id": "px1HcvvhvL0a",
        "outputId": "1fb6fe13-eaa7-4537-c173-aa1318a3032c"
      },
      "source": [
        "len(pd.unique(salesData['Product ID']))"
      ],
      "execution_count": null,
      "outputs": [
        {
          "output_type": "execute_result",
          "data": {
            "text/plain": [
              "1862"
            ]
          },
          "metadata": {
            "tags": []
          },
          "execution_count": 101
        }
      ]
    },
    {
      "cell_type": "code",
      "metadata": {
        "colab": {
          "base_uri": "https://localhost:8080/"
        },
        "id": "-320Q8wUwS0t",
        "outputId": "e8dd029c-f6c1-47c4-81db-f0f425e8a15b"
      },
      "source": [
        "salesData.dtypes"
      ],
      "execution_count": null,
      "outputs": [
        {
          "output_type": "execute_result",
          "data": {
            "text/plain": [
              "Row ID                    int64\n",
              "Order ID                 object\n",
              "Order Date       datetime64[ns]\n",
              "Ship Date        datetime64[ns]\n",
              "Ship Mode                object\n",
              "Customer ID              object\n",
              "Customer Name            object\n",
              "Segment                  object\n",
              "Country                  object\n",
              "City                     object\n",
              "State                    object\n",
              "Postal Code               int64\n",
              "Region                   object\n",
              "Product ID               object\n",
              "Category                 object\n",
              "Sub-Category             object\n",
              "Product Name             object\n",
              "Sales                   float64\n",
              "Quantity                  int64\n",
              "Discount                float64\n",
              "Profit                  float64\n",
              "dtype: object"
            ]
          },
          "metadata": {
            "tags": []
          },
          "execution_count": 98
        }
      ]
    },
    {
      "cell_type": "code",
      "metadata": {
        "colab": {
          "base_uri": "https://localhost:8080/"
        },
        "id": "G5T5WTHKwTCh",
        "outputId": "e4187bfa-45ac-4ad1-ca85-47890ebbfb85"
      },
      "source": [
        "for col in salesData.columns:   # unique value for each column\n",
        "  print(col,'-',len(np.unique(salesData[col])))"
      ],
      "execution_count": null,
      "outputs": [
        {
          "output_type": "stream",
          "text": [
            "Row ID - 9994\n",
            "Order ID - 5009\n",
            "Order Date - 1237\n",
            "Ship Date - 1334\n",
            "Ship Mode - 4\n",
            "Customer ID - 793\n",
            "Customer Name - 793\n",
            "Segment - 3\n",
            "Country - 1\n",
            "City - 531\n",
            "State - 49\n",
            "Postal Code - 631\n",
            "Region - 4\n",
            "Product ID - 1862\n",
            "Category - 3\n",
            "Sub-Category - 17\n",
            "Product Name - 1850\n",
            "Sales - 6144\n",
            "Quantity - 14\n",
            "Discount - 12\n",
            "Profit - 7545\n"
          ],
          "name": "stdout"
        }
      ]
    },
    {
      "cell_type": "code",
      "metadata": {
        "colab": {
          "base_uri": "https://localhost:8080/",
          "height": 170
        },
        "id": "aDMoFL6QwTPI",
        "outputId": "ab48d53e-f1aa-4d79-ce47-1dc5f61afe89"
      },
      "source": [
        "salesData.head(1)"
      ],
      "execution_count": null,
      "outputs": [
        {
          "output_type": "execute_result",
          "data": {
            "text/html": [
              "<div>\n",
              "<style scoped>\n",
              "    .dataframe tbody tr th:only-of-type {\n",
              "        vertical-align: middle;\n",
              "    }\n",
              "\n",
              "    .dataframe tbody tr th {\n",
              "        vertical-align: top;\n",
              "    }\n",
              "\n",
              "    .dataframe thead th {\n",
              "        text-align: right;\n",
              "    }\n",
              "</style>\n",
              "<table border=\"1\" class=\"dataframe\">\n",
              "  <thead>\n",
              "    <tr style=\"text-align: right;\">\n",
              "      <th></th>\n",
              "      <th>Row ID</th>\n",
              "      <th>Order ID</th>\n",
              "      <th>Order Date</th>\n",
              "      <th>Ship Date</th>\n",
              "      <th>Ship Mode</th>\n",
              "      <th>Customer ID</th>\n",
              "      <th>Customer Name</th>\n",
              "      <th>Segment</th>\n",
              "      <th>Country</th>\n",
              "      <th>City</th>\n",
              "      <th>State</th>\n",
              "      <th>Postal Code</th>\n",
              "      <th>Region</th>\n",
              "      <th>Product ID</th>\n",
              "      <th>Category</th>\n",
              "      <th>Sub-Category</th>\n",
              "      <th>Product Name</th>\n",
              "      <th>Sales</th>\n",
              "      <th>Quantity</th>\n",
              "      <th>Discount</th>\n",
              "      <th>Profit</th>\n",
              "    </tr>\n",
              "  </thead>\n",
              "  <tbody>\n",
              "    <tr>\n",
              "      <th>0</th>\n",
              "      <td>1</td>\n",
              "      <td>CA-2016-152156</td>\n",
              "      <td>2016-11-08</td>\n",
              "      <td>2016-11-11</td>\n",
              "      <td>Second Class</td>\n",
              "      <td>CG-12520</td>\n",
              "      <td>Claire Gute</td>\n",
              "      <td>Consumer</td>\n",
              "      <td>United States</td>\n",
              "      <td>Henderson</td>\n",
              "      <td>Kentucky</td>\n",
              "      <td>42420</td>\n",
              "      <td>South</td>\n",
              "      <td>FUR-BO-10001798</td>\n",
              "      <td>Furniture</td>\n",
              "      <td>Bookcases</td>\n",
              "      <td>Bush Somerset Collection Bookcase</td>\n",
              "      <td>261.96</td>\n",
              "      <td>2</td>\n",
              "      <td>0.0</td>\n",
              "      <td>41.9136</td>\n",
              "    </tr>\n",
              "  </tbody>\n",
              "</table>\n",
              "</div>"
            ],
            "text/plain": [
              "   Row ID        Order ID Order Date  ... Quantity Discount   Profit\n",
              "0       1  CA-2016-152156 2016-11-08  ...        2      0.0  41.9136\n",
              "\n",
              "[1 rows x 21 columns]"
            ]
          },
          "metadata": {
            "tags": []
          },
          "execution_count": 104
        }
      ]
    },
    {
      "cell_type": "code",
      "metadata": {
        "colab": {
          "base_uri": "https://localhost:8080/"
        },
        "id": "NvWnQYUzwTt5",
        "outputId": "846ba5b2-311c-4e50-ba83-6b50182b3025"
      },
      "source": [
        "salesData.columns"
      ],
      "execution_count": null,
      "outputs": [
        {
          "output_type": "execute_result",
          "data": {
            "text/plain": [
              "Index(['Row ID', 'Order ID', 'Order Date', 'Ship Date', 'Ship Mode',\n",
              "       'Customer ID', 'Customer Name', 'Segment', 'Country', 'City', 'State',\n",
              "       'Postal Code', 'Region', 'Product ID', 'Category', 'Sub-Category',\n",
              "       'Product Name', 'Sales', 'Quantity', 'Discount', 'Profit'],\n",
              "      dtype='object')"
            ]
          },
          "metadata": {
            "tags": []
          },
          "execution_count": 105
        }
      ]
    },
    {
      "cell_type": "code",
      "metadata": {
        "id": "H8tZWYz2wUEW"
      },
      "source": [
        "# Pivot Tables\n",
        "\n",
        "savemeanInfo = pd.pivot_table(salesData,index='Sub-Category', values=['Sales','Profit'],aggfunc='mean').reset_index()"
      ],
      "execution_count": null,
      "outputs": []
    },
    {
      "cell_type": "code",
      "metadata": {
        "id": "uCz9FtnJxRxW"
      },
      "source": [
        "saveVarInfo = pd.pivot_table(salesData,index='Sub-Category', values=['Sales','Profit'],aggfunc='var').reset_index()"
      ],
      "execution_count": null,
      "outputs": []
    },
    {
      "cell_type": "code",
      "metadata": {
        "id": "yETnqAqUxSIX"
      },
      "source": [
        "savemeanInfo.columns=['Sub-Category','MeanProfitVar','meanSalesVar']\n",
        "saveVarInfo.columns=['Sub-Category','MeanProfitVar','meanSalesVar']"
      ],
      "execution_count": null,
      "outputs": []
    },
    {
      "cell_type": "code",
      "metadata": {
        "colab": {
          "base_uri": "https://localhost:8080/",
          "height": 205
        },
        "id": "U5HTuIpixSym",
        "outputId": "475e7847-1005-41bd-9b6c-4bc8aa135638"
      },
      "source": [
        "savemeanInfo.head()"
      ],
      "execution_count": null,
      "outputs": [
        {
          "output_type": "execute_result",
          "data": {
            "text/html": [
              "<div>\n",
              "<style scoped>\n",
              "    .dataframe tbody tr th:only-of-type {\n",
              "        vertical-align: middle;\n",
              "    }\n",
              "\n",
              "    .dataframe tbody tr th {\n",
              "        vertical-align: top;\n",
              "    }\n",
              "\n",
              "    .dataframe thead th {\n",
              "        text-align: right;\n",
              "    }\n",
              "</style>\n",
              "<table border=\"1\" class=\"dataframe\">\n",
              "  <thead>\n",
              "    <tr style=\"text-align: right;\">\n",
              "      <th></th>\n",
              "      <th>Sub-Category</th>\n",
              "      <th>MeanProfitVar</th>\n",
              "      <th>meanSalesVar</th>\n",
              "    </tr>\n",
              "  </thead>\n",
              "  <tbody>\n",
              "    <tr>\n",
              "      <th>0</th>\n",
              "      <td>Accessories</td>\n",
              "      <td>54.111788</td>\n",
              "      <td>215.974604</td>\n",
              "    </tr>\n",
              "    <tr>\n",
              "      <th>1</th>\n",
              "      <td>Appliances</td>\n",
              "      <td>38.922758</td>\n",
              "      <td>230.755710</td>\n",
              "    </tr>\n",
              "    <tr>\n",
              "      <th>2</th>\n",
              "      <td>Art</td>\n",
              "      <td>8.200737</td>\n",
              "      <td>34.068834</td>\n",
              "    </tr>\n",
              "    <tr>\n",
              "      <th>3</th>\n",
              "      <td>Binders</td>\n",
              "      <td>19.843574</td>\n",
              "      <td>133.560560</td>\n",
              "    </tr>\n",
              "    <tr>\n",
              "      <th>4</th>\n",
              "      <td>Bookcases</td>\n",
              "      <td>-15.230509</td>\n",
              "      <td>503.859633</td>\n",
              "    </tr>\n",
              "  </tbody>\n",
              "</table>\n",
              "</div>"
            ],
            "text/plain": [
              "  Sub-Category  MeanProfitVar  meanSalesVar\n",
              "0  Accessories      54.111788    215.974604\n",
              "1   Appliances      38.922758    230.755710\n",
              "2          Art       8.200737     34.068834\n",
              "3      Binders      19.843574    133.560560\n",
              "4    Bookcases     -15.230509    503.859633"
            ]
          },
          "metadata": {
            "tags": []
          },
          "execution_count": 109
        }
      ]
    },
    {
      "cell_type": "code",
      "metadata": {
        "colab": {
          "base_uri": "https://localhost:8080/",
          "height": 205
        },
        "id": "Bt8CftcXxTAJ",
        "outputId": "0569f060-c35b-4eff-862a-42696b393547"
      },
      "source": [
        "saveVarInfo.head()"
      ],
      "execution_count": null,
      "outputs": [
        {
          "output_type": "execute_result",
          "data": {
            "text/html": [
              "<div>\n",
              "<style scoped>\n",
              "    .dataframe tbody tr th:only-of-type {\n",
              "        vertical-align: middle;\n",
              "    }\n",
              "\n",
              "    .dataframe tbody tr th {\n",
              "        vertical-align: top;\n",
              "    }\n",
              "\n",
              "    .dataframe thead th {\n",
              "        text-align: right;\n",
              "    }\n",
              "</style>\n",
              "<table border=\"1\" class=\"dataframe\">\n",
              "  <thead>\n",
              "    <tr style=\"text-align: right;\">\n",
              "      <th></th>\n",
              "      <th>Sub-Category</th>\n",
              "      <th>MeanProfitVar</th>\n",
              "      <th>meanSalesVar</th>\n",
              "    </tr>\n",
              "  </thead>\n",
              "  <tbody>\n",
              "    <tr>\n",
              "      <th>0</th>\n",
              "      <td>Accessories</td>\n",
              "      <td>11268.980678</td>\n",
              "      <td>112201.561297</td>\n",
              "    </tr>\n",
              "    <tr>\n",
              "      <th>1</th>\n",
              "      <td>Appliances</td>\n",
              "      <td>21998.569064</td>\n",
              "      <td>151281.824990</td>\n",
              "    </tr>\n",
              "    <tr>\n",
              "      <th>2</th>\n",
              "      <td>Art</td>\n",
              "      <td>179.138522</td>\n",
              "      <td>3614.710848</td>\n",
              "    </tr>\n",
              "    <tr>\n",
              "      <th>3</th>\n",
              "      <td>Binders</td>\n",
              "      <td>93756.463673</td>\n",
              "      <td>317251.900262</td>\n",
              "    </tr>\n",
              "    <tr>\n",
              "      <th>4</th>\n",
              "      <td>Bookcases</td>\n",
              "      <td>33136.458879</td>\n",
              "      <td>407999.675401</td>\n",
              "    </tr>\n",
              "  </tbody>\n",
              "</table>\n",
              "</div>"
            ],
            "text/plain": [
              "  Sub-Category  MeanProfitVar   meanSalesVar\n",
              "0  Accessories   11268.980678  112201.561297\n",
              "1   Appliances   21998.569064  151281.824990\n",
              "2          Art     179.138522    3614.710848\n",
              "3      Binders   93756.463673  317251.900262\n",
              "4    Bookcases   33136.458879  407999.675401"
            ]
          },
          "metadata": {
            "tags": []
          },
          "execution_count": 110
        }
      ]
    },
    {
      "cell_type": "code",
      "metadata": {
        "colab": {
          "base_uri": "https://localhost:8080/",
          "height": 170
        },
        "id": "r9adz5YOxTMH",
        "outputId": "5576112c-7484-4fc2-c759-c07ceb79dabb"
      },
      "source": [
        "salesData.head(1)"
      ],
      "execution_count": null,
      "outputs": [
        {
          "output_type": "execute_result",
          "data": {
            "text/html": [
              "<div>\n",
              "<style scoped>\n",
              "    .dataframe tbody tr th:only-of-type {\n",
              "        vertical-align: middle;\n",
              "    }\n",
              "\n",
              "    .dataframe tbody tr th {\n",
              "        vertical-align: top;\n",
              "    }\n",
              "\n",
              "    .dataframe thead th {\n",
              "        text-align: right;\n",
              "    }\n",
              "</style>\n",
              "<table border=\"1\" class=\"dataframe\">\n",
              "  <thead>\n",
              "    <tr style=\"text-align: right;\">\n",
              "      <th></th>\n",
              "      <th>Row ID</th>\n",
              "      <th>Order ID</th>\n",
              "      <th>Order Date</th>\n",
              "      <th>Ship Date</th>\n",
              "      <th>Ship Mode</th>\n",
              "      <th>Customer ID</th>\n",
              "      <th>Customer Name</th>\n",
              "      <th>Segment</th>\n",
              "      <th>Country</th>\n",
              "      <th>City</th>\n",
              "      <th>State</th>\n",
              "      <th>Postal Code</th>\n",
              "      <th>Region</th>\n",
              "      <th>Product ID</th>\n",
              "      <th>Category</th>\n",
              "      <th>Sub-Category</th>\n",
              "      <th>Product Name</th>\n",
              "      <th>Sales</th>\n",
              "      <th>Quantity</th>\n",
              "      <th>Discount</th>\n",
              "      <th>Profit</th>\n",
              "    </tr>\n",
              "  </thead>\n",
              "  <tbody>\n",
              "    <tr>\n",
              "      <th>0</th>\n",
              "      <td>1</td>\n",
              "      <td>CA-2016-152156</td>\n",
              "      <td>2016-11-08</td>\n",
              "      <td>2016-11-11</td>\n",
              "      <td>Second Class</td>\n",
              "      <td>CG-12520</td>\n",
              "      <td>Claire Gute</td>\n",
              "      <td>Consumer</td>\n",
              "      <td>United States</td>\n",
              "      <td>Henderson</td>\n",
              "      <td>Kentucky</td>\n",
              "      <td>42420</td>\n",
              "      <td>South</td>\n",
              "      <td>FUR-BO-10001798</td>\n",
              "      <td>Furniture</td>\n",
              "      <td>Bookcases</td>\n",
              "      <td>Bush Somerset Collection Bookcase</td>\n",
              "      <td>261.96</td>\n",
              "      <td>2</td>\n",
              "      <td>0.0</td>\n",
              "      <td>41.9136</td>\n",
              "    </tr>\n",
              "  </tbody>\n",
              "</table>\n",
              "</div>"
            ],
            "text/plain": [
              "   Row ID        Order ID Order Date  ... Quantity Discount   Profit\n",
              "0       1  CA-2016-152156 2016-11-08  ...        2      0.0  41.9136\n",
              "\n",
              "[1 rows x 21 columns]"
            ]
          },
          "metadata": {
            "tags": []
          },
          "execution_count": 111
        }
      ]
    },
    {
      "cell_type": "code",
      "metadata": {
        "colab": {
          "base_uri": "https://localhost:8080/"
        },
        "id": "8wClAx-FyP6Y",
        "outputId": "90f25784-79e4-489e-b407-fd3e0f200095"
      },
      "source": [
        "salesData.columns"
      ],
      "execution_count": null,
      "outputs": [
        {
          "output_type": "execute_result",
          "data": {
            "text/plain": [
              "Index(['Row ID', 'Order ID', 'Order Date', 'Ship Date', 'Ship Mode',\n",
              "       'Customer ID', 'Customer Name', 'Segment', 'Country', 'City', 'State',\n",
              "       'Postal Code', 'Region', 'Product ID', 'Category', 'Sub-Category',\n",
              "       'Product Name', 'Sales', 'Quantity', 'Discount', 'Profit'],\n",
              "      dtype='object')"
            ]
          },
          "metadata": {
            "tags": []
          },
          "execution_count": 112
        }
      ]
    },
    {
      "cell_type": "code",
      "metadata": {
        "id": "u6cBYk3KyQPJ"
      },
      "source": [
        "savemeanInfo = salesData.pivot_table(index='Sub-Category',values=['Sales','Profit'],aggfunc='mean').reset_index()"
      ],
      "execution_count": null,
      "outputs": []
    },
    {
      "cell_type": "code",
      "metadata": {
        "id": "DXy5snliyQdi"
      },
      "source": [
        "saveSTDVarInfo=salesData.pivot_table(index='Sub-Category',values=['Sales','Profit'],aggfunc='std').reset_index()"
      ],
      "execution_count": null,
      "outputs": []
    },
    {
      "cell_type": "code",
      "metadata": {
        "id": "RtVaPkTXyQtn"
      },
      "source": [
        "savemeanInfo.columns=['Sub-Category','MeanProfitVar','meanSalesVar']\n",
        "saveSTDVarInfo.columns=['Sub-Category','STDProfitVar','STDSalesVar']"
      ],
      "execution_count": null,
      "outputs": []
    },
    {
      "cell_type": "code",
      "metadata": {
        "colab": {
          "base_uri": "https://localhost:8080/",
          "height": 581
        },
        "id": "uiIxunHSyREX",
        "outputId": "5a63f104-e50c-4957-d1ca-69d3d7a9d6da"
      },
      "source": [
        "savTheTable=pd.merge(savemeanInfo,saveSTDVarInfo,on=['Sub-Category'],how='left')\n",
        "savTheTable"
      ],
      "execution_count": null,
      "outputs": [
        {
          "output_type": "execute_result",
          "data": {
            "text/html": [
              "<div>\n",
              "<style scoped>\n",
              "    .dataframe tbody tr th:only-of-type {\n",
              "        vertical-align: middle;\n",
              "    }\n",
              "\n",
              "    .dataframe tbody tr th {\n",
              "        vertical-align: top;\n",
              "    }\n",
              "\n",
              "    .dataframe thead th {\n",
              "        text-align: right;\n",
              "    }\n",
              "</style>\n",
              "<table border=\"1\" class=\"dataframe\">\n",
              "  <thead>\n",
              "    <tr style=\"text-align: right;\">\n",
              "      <th></th>\n",
              "      <th>Sub-Category</th>\n",
              "      <th>MeanProfitVar</th>\n",
              "      <th>meanSalesVar</th>\n",
              "      <th>STDProfitVar</th>\n",
              "      <th>STDSalesVar</th>\n",
              "    </tr>\n",
              "  </thead>\n",
              "  <tbody>\n",
              "    <tr>\n",
              "      <th>0</th>\n",
              "      <td>Accessories</td>\n",
              "      <td>54.111788</td>\n",
              "      <td>215.974604</td>\n",
              "      <td>106.155455</td>\n",
              "      <td>334.965015</td>\n",
              "    </tr>\n",
              "    <tr>\n",
              "      <th>1</th>\n",
              "      <td>Appliances</td>\n",
              "      <td>38.922758</td>\n",
              "      <td>230.755710</td>\n",
              "      <td>148.319146</td>\n",
              "      <td>388.949643</td>\n",
              "    </tr>\n",
              "    <tr>\n",
              "      <th>2</th>\n",
              "      <td>Art</td>\n",
              "      <td>8.200737</td>\n",
              "      <td>34.068834</td>\n",
              "      <td>13.384264</td>\n",
              "      <td>60.122465</td>\n",
              "    </tr>\n",
              "    <tr>\n",
              "      <th>3</th>\n",
              "      <td>Binders</td>\n",
              "      <td>19.843574</td>\n",
              "      <td>133.560560</td>\n",
              "      <td>306.196773</td>\n",
              "      <td>563.251188</td>\n",
              "    </tr>\n",
              "    <tr>\n",
              "      <th>4</th>\n",
              "      <td>Bookcases</td>\n",
              "      <td>-15.230509</td>\n",
              "      <td>503.859633</td>\n",
              "      <td>182.034224</td>\n",
              "      <td>638.748523</td>\n",
              "    </tr>\n",
              "    <tr>\n",
              "      <th>5</th>\n",
              "      <td>Chairs</td>\n",
              "      <td>43.095894</td>\n",
              "      <td>532.332420</td>\n",
              "      <td>127.099922</td>\n",
              "      <td>550.148243</td>\n",
              "    </tr>\n",
              "    <tr>\n",
              "      <th>6</th>\n",
              "      <td>Copiers</td>\n",
              "      <td>817.909190</td>\n",
              "      <td>2198.941618</td>\n",
              "      <td>1460.921156</td>\n",
              "      <td>3175.665867</td>\n",
              "    </tr>\n",
              "    <tr>\n",
              "      <th>7</th>\n",
              "      <td>Envelopes</td>\n",
              "      <td>27.418019</td>\n",
              "      <td>64.867724</td>\n",
              "      <td>35.354983</td>\n",
              "      <td>84.351633</td>\n",
              "    </tr>\n",
              "    <tr>\n",
              "      <th>8</th>\n",
              "      <td>Fasteners</td>\n",
              "      <td>4.375660</td>\n",
              "      <td>13.936774</td>\n",
              "      <td>5.055053</td>\n",
              "      <td>12.416593</td>\n",
              "    </tr>\n",
              "    <tr>\n",
              "      <th>9</th>\n",
              "      <td>Furnishings</td>\n",
              "      <td>13.645918</td>\n",
              "      <td>95.825668</td>\n",
              "      <td>52.753228</td>\n",
              "      <td>147.893640</td>\n",
              "    </tr>\n",
              "    <tr>\n",
              "      <th>10</th>\n",
              "      <td>Labels</td>\n",
              "      <td>15.236962</td>\n",
              "      <td>34.303055</td>\n",
              "      <td>34.084127</td>\n",
              "      <td>74.119287</td>\n",
              "    </tr>\n",
              "    <tr>\n",
              "      <th>11</th>\n",
              "      <td>Machines</td>\n",
              "      <td>29.432669</td>\n",
              "      <td>1645.553313</td>\n",
              "      <td>1099.070067</td>\n",
              "      <td>2765.102088</td>\n",
              "    </tr>\n",
              "    <tr>\n",
              "      <th>12</th>\n",
              "      <td>Paper</td>\n",
              "      <td>24.856620</td>\n",
              "      <td>57.284092</td>\n",
              "      <td>35.225214</td>\n",
              "      <td>78.167639</td>\n",
              "    </tr>\n",
              "    <tr>\n",
              "      <th>13</th>\n",
              "      <td>Phones</td>\n",
              "      <td>50.073938</td>\n",
              "      <td>371.211534</td>\n",
              "      <td>113.251277</td>\n",
              "      <td>491.457343</td>\n",
              "    </tr>\n",
              "    <tr>\n",
              "      <th>14</th>\n",
              "      <td>Storage</td>\n",
              "      <td>25.152277</td>\n",
              "      <td>264.590553</td>\n",
              "      <td>81.923600</td>\n",
              "      <td>355.222507</td>\n",
              "    </tr>\n",
              "    <tr>\n",
              "      <th>15</th>\n",
              "      <td>Supplies</td>\n",
              "      <td>-6.258418</td>\n",
              "      <td>245.650200</td>\n",
              "      <td>105.059628</td>\n",
              "      <td>923.828753</td>\n",
              "    </tr>\n",
              "    <tr>\n",
              "      <th>16</th>\n",
              "      <td>Tables</td>\n",
              "      <td>-55.565771</td>\n",
              "      <td>648.794771</td>\n",
              "      <td>230.565006</td>\n",
              "      <td>615.774655</td>\n",
              "    </tr>\n",
              "  </tbody>\n",
              "</table>\n",
              "</div>"
            ],
            "text/plain": [
              "   Sub-Category  MeanProfitVar  meanSalesVar  STDProfitVar  STDSalesVar\n",
              "0   Accessories      54.111788    215.974604    106.155455   334.965015\n",
              "1    Appliances      38.922758    230.755710    148.319146   388.949643\n",
              "2           Art       8.200737     34.068834     13.384264    60.122465\n",
              "3       Binders      19.843574    133.560560    306.196773   563.251188\n",
              "4     Bookcases     -15.230509    503.859633    182.034224   638.748523\n",
              "5        Chairs      43.095894    532.332420    127.099922   550.148243\n",
              "6       Copiers     817.909190   2198.941618   1460.921156  3175.665867\n",
              "7     Envelopes      27.418019     64.867724     35.354983    84.351633\n",
              "8     Fasteners       4.375660     13.936774      5.055053    12.416593\n",
              "9   Furnishings      13.645918     95.825668     52.753228   147.893640\n",
              "10       Labels      15.236962     34.303055     34.084127    74.119287\n",
              "11     Machines      29.432669   1645.553313   1099.070067  2765.102088\n",
              "12        Paper      24.856620     57.284092     35.225214    78.167639\n",
              "13       Phones      50.073938    371.211534    113.251277   491.457343\n",
              "14      Storage      25.152277    264.590553     81.923600   355.222507\n",
              "15     Supplies      -6.258418    245.650200    105.059628   923.828753\n",
              "16       Tables     -55.565771    648.794771    230.565006   615.774655"
            ]
          },
          "metadata": {
            "tags": []
          },
          "execution_count": 116
        }
      ]
    },
    {
      "cell_type": "code",
      "metadata": {
        "id": "baIoo0cjyRT3"
      },
      "source": [
        "savTheTable['diffMean'] = savTheTable['MeanProfitVar']-savTheTable['STDProfitVar']"
      ],
      "execution_count": null,
      "outputs": []
    },
    {
      "cell_type": "code",
      "metadata": {
        "id": "dDlrYNpOzmcZ"
      },
      "source": [
        "savTheTable['diffSTD'] = savTheTable['meanSalesVar']-savTheTable['STDSalesVar']"
      ],
      "execution_count": null,
      "outputs": []
    },
    {
      "cell_type": "code",
      "metadata": {
        "colab": {
          "base_uri": "https://localhost:8080/",
          "height": 581
        },
        "id": "71IX7OqHzmwe",
        "outputId": "af7ce4ce-8220-4431-823b-05e5b533ecfa"
      },
      "source": [
        "savTheTable"
      ],
      "execution_count": null,
      "outputs": [
        {
          "output_type": "execute_result",
          "data": {
            "text/html": [
              "<div>\n",
              "<style scoped>\n",
              "    .dataframe tbody tr th:only-of-type {\n",
              "        vertical-align: middle;\n",
              "    }\n",
              "\n",
              "    .dataframe tbody tr th {\n",
              "        vertical-align: top;\n",
              "    }\n",
              "\n",
              "    .dataframe thead th {\n",
              "        text-align: right;\n",
              "    }\n",
              "</style>\n",
              "<table border=\"1\" class=\"dataframe\">\n",
              "  <thead>\n",
              "    <tr style=\"text-align: right;\">\n",
              "      <th></th>\n",
              "      <th>Sub-Category</th>\n",
              "      <th>MeanProfitVar</th>\n",
              "      <th>meanSalesVar</th>\n",
              "      <th>STDProfitVar</th>\n",
              "      <th>STDSalesVar</th>\n",
              "      <th>diffMean</th>\n",
              "      <th>diffSTD</th>\n",
              "    </tr>\n",
              "  </thead>\n",
              "  <tbody>\n",
              "    <tr>\n",
              "      <th>0</th>\n",
              "      <td>Accessories</td>\n",
              "      <td>54.111788</td>\n",
              "      <td>215.974604</td>\n",
              "      <td>106.155455</td>\n",
              "      <td>334.965015</td>\n",
              "      <td>-52.043667</td>\n",
              "      <td>-118.990411</td>\n",
              "    </tr>\n",
              "    <tr>\n",
              "      <th>1</th>\n",
              "      <td>Appliances</td>\n",
              "      <td>38.922758</td>\n",
              "      <td>230.755710</td>\n",
              "      <td>148.319146</td>\n",
              "      <td>388.949643</td>\n",
              "      <td>-109.396388</td>\n",
              "      <td>-158.193933</td>\n",
              "    </tr>\n",
              "    <tr>\n",
              "      <th>2</th>\n",
              "      <td>Art</td>\n",
              "      <td>8.200737</td>\n",
              "      <td>34.068834</td>\n",
              "      <td>13.384264</td>\n",
              "      <td>60.122465</td>\n",
              "      <td>-5.183527</td>\n",
              "      <td>-26.053631</td>\n",
              "    </tr>\n",
              "    <tr>\n",
              "      <th>3</th>\n",
              "      <td>Binders</td>\n",
              "      <td>19.843574</td>\n",
              "      <td>133.560560</td>\n",
              "      <td>306.196773</td>\n",
              "      <td>563.251188</td>\n",
              "      <td>-286.353199</td>\n",
              "      <td>-429.690627</td>\n",
              "    </tr>\n",
              "    <tr>\n",
              "      <th>4</th>\n",
              "      <td>Bookcases</td>\n",
              "      <td>-15.230509</td>\n",
              "      <td>503.859633</td>\n",
              "      <td>182.034224</td>\n",
              "      <td>638.748523</td>\n",
              "      <td>-197.264733</td>\n",
              "      <td>-134.888890</td>\n",
              "    </tr>\n",
              "    <tr>\n",
              "      <th>5</th>\n",
              "      <td>Chairs</td>\n",
              "      <td>43.095894</td>\n",
              "      <td>532.332420</td>\n",
              "      <td>127.099922</td>\n",
              "      <td>550.148243</td>\n",
              "      <td>-84.004028</td>\n",
              "      <td>-17.815823</td>\n",
              "    </tr>\n",
              "    <tr>\n",
              "      <th>6</th>\n",
              "      <td>Copiers</td>\n",
              "      <td>817.909190</td>\n",
              "      <td>2198.941618</td>\n",
              "      <td>1460.921156</td>\n",
              "      <td>3175.665867</td>\n",
              "      <td>-643.011967</td>\n",
              "      <td>-976.724250</td>\n",
              "    </tr>\n",
              "    <tr>\n",
              "      <th>7</th>\n",
              "      <td>Envelopes</td>\n",
              "      <td>27.418019</td>\n",
              "      <td>64.867724</td>\n",
              "      <td>35.354983</td>\n",
              "      <td>84.351633</td>\n",
              "      <td>-7.936964</td>\n",
              "      <td>-19.483908</td>\n",
              "    </tr>\n",
              "    <tr>\n",
              "      <th>8</th>\n",
              "      <td>Fasteners</td>\n",
              "      <td>4.375660</td>\n",
              "      <td>13.936774</td>\n",
              "      <td>5.055053</td>\n",
              "      <td>12.416593</td>\n",
              "      <td>-0.679393</td>\n",
              "      <td>1.520181</td>\n",
              "    </tr>\n",
              "    <tr>\n",
              "      <th>9</th>\n",
              "      <td>Furnishings</td>\n",
              "      <td>13.645918</td>\n",
              "      <td>95.825668</td>\n",
              "      <td>52.753228</td>\n",
              "      <td>147.893640</td>\n",
              "      <td>-39.107310</td>\n",
              "      <td>-52.067972</td>\n",
              "    </tr>\n",
              "    <tr>\n",
              "      <th>10</th>\n",
              "      <td>Labels</td>\n",
              "      <td>15.236962</td>\n",
              "      <td>34.303055</td>\n",
              "      <td>34.084127</td>\n",
              "      <td>74.119287</td>\n",
              "      <td>-18.847165</td>\n",
              "      <td>-39.816232</td>\n",
              "    </tr>\n",
              "    <tr>\n",
              "      <th>11</th>\n",
              "      <td>Machines</td>\n",
              "      <td>29.432669</td>\n",
              "      <td>1645.553313</td>\n",
              "      <td>1099.070067</td>\n",
              "      <td>2765.102088</td>\n",
              "      <td>-1069.637398</td>\n",
              "      <td>-1119.548775</td>\n",
              "    </tr>\n",
              "    <tr>\n",
              "      <th>12</th>\n",
              "      <td>Paper</td>\n",
              "      <td>24.856620</td>\n",
              "      <td>57.284092</td>\n",
              "      <td>35.225214</td>\n",
              "      <td>78.167639</td>\n",
              "      <td>-10.368594</td>\n",
              "      <td>-20.883547</td>\n",
              "    </tr>\n",
              "    <tr>\n",
              "      <th>13</th>\n",
              "      <td>Phones</td>\n",
              "      <td>50.073938</td>\n",
              "      <td>371.211534</td>\n",
              "      <td>113.251277</td>\n",
              "      <td>491.457343</td>\n",
              "      <td>-63.177339</td>\n",
              "      <td>-120.245808</td>\n",
              "    </tr>\n",
              "    <tr>\n",
              "      <th>14</th>\n",
              "      <td>Storage</td>\n",
              "      <td>25.152277</td>\n",
              "      <td>264.590553</td>\n",
              "      <td>81.923600</td>\n",
              "      <td>355.222507</td>\n",
              "      <td>-56.771323</td>\n",
              "      <td>-90.631953</td>\n",
              "    </tr>\n",
              "    <tr>\n",
              "      <th>15</th>\n",
              "      <td>Supplies</td>\n",
              "      <td>-6.258418</td>\n",
              "      <td>245.650200</td>\n",
              "      <td>105.059628</td>\n",
              "      <td>923.828753</td>\n",
              "      <td>-111.318047</td>\n",
              "      <td>-678.178553</td>\n",
              "    </tr>\n",
              "    <tr>\n",
              "      <th>16</th>\n",
              "      <td>Tables</td>\n",
              "      <td>-55.565771</td>\n",
              "      <td>648.794771</td>\n",
              "      <td>230.565006</td>\n",
              "      <td>615.774655</td>\n",
              "      <td>-286.130778</td>\n",
              "      <td>33.020116</td>\n",
              "    </tr>\n",
              "  </tbody>\n",
              "</table>\n",
              "</div>"
            ],
            "text/plain": [
              "   Sub-Category  MeanProfitVar  ...     diffMean      diffSTD\n",
              "0   Accessories      54.111788  ...   -52.043667  -118.990411\n",
              "1    Appliances      38.922758  ...  -109.396388  -158.193933\n",
              "2           Art       8.200737  ...    -5.183527   -26.053631\n",
              "3       Binders      19.843574  ...  -286.353199  -429.690627\n",
              "4     Bookcases     -15.230509  ...  -197.264733  -134.888890\n",
              "5        Chairs      43.095894  ...   -84.004028   -17.815823\n",
              "6       Copiers     817.909190  ...  -643.011967  -976.724250\n",
              "7     Envelopes      27.418019  ...    -7.936964   -19.483908\n",
              "8     Fasteners       4.375660  ...    -0.679393     1.520181\n",
              "9   Furnishings      13.645918  ...   -39.107310   -52.067972\n",
              "10       Labels      15.236962  ...   -18.847165   -39.816232\n",
              "11     Machines      29.432669  ... -1069.637398 -1119.548775\n",
              "12        Paper      24.856620  ...   -10.368594   -20.883547\n",
              "13       Phones      50.073938  ...   -63.177339  -120.245808\n",
              "14      Storage      25.152277  ...   -56.771323   -90.631953\n",
              "15     Supplies      -6.258418  ...  -111.318047  -678.178553\n",
              "16       Tables     -55.565771  ...  -286.130778    33.020116\n",
              "\n",
              "[17 rows x 7 columns]"
            ]
          },
          "metadata": {
            "tags": []
          },
          "execution_count": 119
        }
      ]
    },
    {
      "cell_type": "code",
      "metadata": {
        "colab": {
          "base_uri": "https://localhost:8080/",
          "height": 581
        },
        "id": "-bN46HggznCb",
        "outputId": "a4eae74f-a128-4ce8-d6dc-078b77908f5b"
      },
      "source": [
        "savTheTable.sort_values(by=['diffMean'],ascending=False)"
      ],
      "execution_count": null,
      "outputs": [
        {
          "output_type": "execute_result",
          "data": {
            "text/html": [
              "<div>\n",
              "<style scoped>\n",
              "    .dataframe tbody tr th:only-of-type {\n",
              "        vertical-align: middle;\n",
              "    }\n",
              "\n",
              "    .dataframe tbody tr th {\n",
              "        vertical-align: top;\n",
              "    }\n",
              "\n",
              "    .dataframe thead th {\n",
              "        text-align: right;\n",
              "    }\n",
              "</style>\n",
              "<table border=\"1\" class=\"dataframe\">\n",
              "  <thead>\n",
              "    <tr style=\"text-align: right;\">\n",
              "      <th></th>\n",
              "      <th>Sub-Category</th>\n",
              "      <th>MeanProfitVar</th>\n",
              "      <th>meanSalesVar</th>\n",
              "      <th>STDProfitVar</th>\n",
              "      <th>STDSalesVar</th>\n",
              "      <th>diffMean</th>\n",
              "      <th>diffSTD</th>\n",
              "    </tr>\n",
              "  </thead>\n",
              "  <tbody>\n",
              "    <tr>\n",
              "      <th>8</th>\n",
              "      <td>Fasteners</td>\n",
              "      <td>4.375660</td>\n",
              "      <td>13.936774</td>\n",
              "      <td>5.055053</td>\n",
              "      <td>12.416593</td>\n",
              "      <td>-0.679393</td>\n",
              "      <td>1.520181</td>\n",
              "    </tr>\n",
              "    <tr>\n",
              "      <th>2</th>\n",
              "      <td>Art</td>\n",
              "      <td>8.200737</td>\n",
              "      <td>34.068834</td>\n",
              "      <td>13.384264</td>\n",
              "      <td>60.122465</td>\n",
              "      <td>-5.183527</td>\n",
              "      <td>-26.053631</td>\n",
              "    </tr>\n",
              "    <tr>\n",
              "      <th>7</th>\n",
              "      <td>Envelopes</td>\n",
              "      <td>27.418019</td>\n",
              "      <td>64.867724</td>\n",
              "      <td>35.354983</td>\n",
              "      <td>84.351633</td>\n",
              "      <td>-7.936964</td>\n",
              "      <td>-19.483908</td>\n",
              "    </tr>\n",
              "    <tr>\n",
              "      <th>12</th>\n",
              "      <td>Paper</td>\n",
              "      <td>24.856620</td>\n",
              "      <td>57.284092</td>\n",
              "      <td>35.225214</td>\n",
              "      <td>78.167639</td>\n",
              "      <td>-10.368594</td>\n",
              "      <td>-20.883547</td>\n",
              "    </tr>\n",
              "    <tr>\n",
              "      <th>10</th>\n",
              "      <td>Labels</td>\n",
              "      <td>15.236962</td>\n",
              "      <td>34.303055</td>\n",
              "      <td>34.084127</td>\n",
              "      <td>74.119287</td>\n",
              "      <td>-18.847165</td>\n",
              "      <td>-39.816232</td>\n",
              "    </tr>\n",
              "    <tr>\n",
              "      <th>9</th>\n",
              "      <td>Furnishings</td>\n",
              "      <td>13.645918</td>\n",
              "      <td>95.825668</td>\n",
              "      <td>52.753228</td>\n",
              "      <td>147.893640</td>\n",
              "      <td>-39.107310</td>\n",
              "      <td>-52.067972</td>\n",
              "    </tr>\n",
              "    <tr>\n",
              "      <th>0</th>\n",
              "      <td>Accessories</td>\n",
              "      <td>54.111788</td>\n",
              "      <td>215.974604</td>\n",
              "      <td>106.155455</td>\n",
              "      <td>334.965015</td>\n",
              "      <td>-52.043667</td>\n",
              "      <td>-118.990411</td>\n",
              "    </tr>\n",
              "    <tr>\n",
              "      <th>14</th>\n",
              "      <td>Storage</td>\n",
              "      <td>25.152277</td>\n",
              "      <td>264.590553</td>\n",
              "      <td>81.923600</td>\n",
              "      <td>355.222507</td>\n",
              "      <td>-56.771323</td>\n",
              "      <td>-90.631953</td>\n",
              "    </tr>\n",
              "    <tr>\n",
              "      <th>13</th>\n",
              "      <td>Phones</td>\n",
              "      <td>50.073938</td>\n",
              "      <td>371.211534</td>\n",
              "      <td>113.251277</td>\n",
              "      <td>491.457343</td>\n",
              "      <td>-63.177339</td>\n",
              "      <td>-120.245808</td>\n",
              "    </tr>\n",
              "    <tr>\n",
              "      <th>5</th>\n",
              "      <td>Chairs</td>\n",
              "      <td>43.095894</td>\n",
              "      <td>532.332420</td>\n",
              "      <td>127.099922</td>\n",
              "      <td>550.148243</td>\n",
              "      <td>-84.004028</td>\n",
              "      <td>-17.815823</td>\n",
              "    </tr>\n",
              "    <tr>\n",
              "      <th>1</th>\n",
              "      <td>Appliances</td>\n",
              "      <td>38.922758</td>\n",
              "      <td>230.755710</td>\n",
              "      <td>148.319146</td>\n",
              "      <td>388.949643</td>\n",
              "      <td>-109.396388</td>\n",
              "      <td>-158.193933</td>\n",
              "    </tr>\n",
              "    <tr>\n",
              "      <th>15</th>\n",
              "      <td>Supplies</td>\n",
              "      <td>-6.258418</td>\n",
              "      <td>245.650200</td>\n",
              "      <td>105.059628</td>\n",
              "      <td>923.828753</td>\n",
              "      <td>-111.318047</td>\n",
              "      <td>-678.178553</td>\n",
              "    </tr>\n",
              "    <tr>\n",
              "      <th>4</th>\n",
              "      <td>Bookcases</td>\n",
              "      <td>-15.230509</td>\n",
              "      <td>503.859633</td>\n",
              "      <td>182.034224</td>\n",
              "      <td>638.748523</td>\n",
              "      <td>-197.264733</td>\n",
              "      <td>-134.888890</td>\n",
              "    </tr>\n",
              "    <tr>\n",
              "      <th>16</th>\n",
              "      <td>Tables</td>\n",
              "      <td>-55.565771</td>\n",
              "      <td>648.794771</td>\n",
              "      <td>230.565006</td>\n",
              "      <td>615.774655</td>\n",
              "      <td>-286.130778</td>\n",
              "      <td>33.020116</td>\n",
              "    </tr>\n",
              "    <tr>\n",
              "      <th>3</th>\n",
              "      <td>Binders</td>\n",
              "      <td>19.843574</td>\n",
              "      <td>133.560560</td>\n",
              "      <td>306.196773</td>\n",
              "      <td>563.251188</td>\n",
              "      <td>-286.353199</td>\n",
              "      <td>-429.690627</td>\n",
              "    </tr>\n",
              "    <tr>\n",
              "      <th>6</th>\n",
              "      <td>Copiers</td>\n",
              "      <td>817.909190</td>\n",
              "      <td>2198.941618</td>\n",
              "      <td>1460.921156</td>\n",
              "      <td>3175.665867</td>\n",
              "      <td>-643.011967</td>\n",
              "      <td>-976.724250</td>\n",
              "    </tr>\n",
              "    <tr>\n",
              "      <th>11</th>\n",
              "      <td>Machines</td>\n",
              "      <td>29.432669</td>\n",
              "      <td>1645.553313</td>\n",
              "      <td>1099.070067</td>\n",
              "      <td>2765.102088</td>\n",
              "      <td>-1069.637398</td>\n",
              "      <td>-1119.548775</td>\n",
              "    </tr>\n",
              "  </tbody>\n",
              "</table>\n",
              "</div>"
            ],
            "text/plain": [
              "   Sub-Category  MeanProfitVar  ...     diffMean      diffSTD\n",
              "8     Fasteners       4.375660  ...    -0.679393     1.520181\n",
              "2           Art       8.200737  ...    -5.183527   -26.053631\n",
              "7     Envelopes      27.418019  ...    -7.936964   -19.483908\n",
              "12        Paper      24.856620  ...   -10.368594   -20.883547\n",
              "10       Labels      15.236962  ...   -18.847165   -39.816232\n",
              "9   Furnishings      13.645918  ...   -39.107310   -52.067972\n",
              "0   Accessories      54.111788  ...   -52.043667  -118.990411\n",
              "14      Storage      25.152277  ...   -56.771323   -90.631953\n",
              "13       Phones      50.073938  ...   -63.177339  -120.245808\n",
              "5        Chairs      43.095894  ...   -84.004028   -17.815823\n",
              "1    Appliances      38.922758  ...  -109.396388  -158.193933\n",
              "15     Supplies      -6.258418  ...  -111.318047  -678.178553\n",
              "4     Bookcases     -15.230509  ...  -197.264733  -134.888890\n",
              "16       Tables     -55.565771  ...  -286.130778    33.020116\n",
              "3       Binders      19.843574  ...  -286.353199  -429.690627\n",
              "6       Copiers     817.909190  ...  -643.011967  -976.724250\n",
              "11     Machines      29.432669  ... -1069.637398 -1119.548775\n",
              "\n",
              "[17 rows x 7 columns]"
            ]
          },
          "metadata": {
            "tags": []
          },
          "execution_count": 120
        }
      ]
    },
    {
      "cell_type": "code",
      "metadata": {
        "colab": {
          "base_uri": "https://localhost:8080/",
          "height": 170
        },
        "id": "Ds7Q7VQVzoE1",
        "outputId": "77a0788b-c36c-4540-d34a-558393f5895a"
      },
      "source": [
        "# Identify the Sub-Categories where Top 20 customers that have sales more than the other Sub-Categories in the same region.\n",
        "\n",
        "salesData.head(1)"
      ],
      "execution_count": null,
      "outputs": [
        {
          "output_type": "execute_result",
          "data": {
            "text/html": [
              "<div>\n",
              "<style scoped>\n",
              "    .dataframe tbody tr th:only-of-type {\n",
              "        vertical-align: middle;\n",
              "    }\n",
              "\n",
              "    .dataframe tbody tr th {\n",
              "        vertical-align: top;\n",
              "    }\n",
              "\n",
              "    .dataframe thead th {\n",
              "        text-align: right;\n",
              "    }\n",
              "</style>\n",
              "<table border=\"1\" class=\"dataframe\">\n",
              "  <thead>\n",
              "    <tr style=\"text-align: right;\">\n",
              "      <th></th>\n",
              "      <th>Row ID</th>\n",
              "      <th>Order ID</th>\n",
              "      <th>Order Date</th>\n",
              "      <th>Ship Date</th>\n",
              "      <th>Ship Mode</th>\n",
              "      <th>Customer ID</th>\n",
              "      <th>Customer Name</th>\n",
              "      <th>Segment</th>\n",
              "      <th>Country</th>\n",
              "      <th>City</th>\n",
              "      <th>State</th>\n",
              "      <th>Postal Code</th>\n",
              "      <th>Region</th>\n",
              "      <th>Product ID</th>\n",
              "      <th>Category</th>\n",
              "      <th>Sub-Category</th>\n",
              "      <th>Product Name</th>\n",
              "      <th>Sales</th>\n",
              "      <th>Quantity</th>\n",
              "      <th>Discount</th>\n",
              "      <th>Profit</th>\n",
              "    </tr>\n",
              "  </thead>\n",
              "  <tbody>\n",
              "    <tr>\n",
              "      <th>0</th>\n",
              "      <td>1</td>\n",
              "      <td>CA-2016-152156</td>\n",
              "      <td>2016-11-08</td>\n",
              "      <td>2016-11-11</td>\n",
              "      <td>Second Class</td>\n",
              "      <td>CG-12520</td>\n",
              "      <td>Claire Gute</td>\n",
              "      <td>Consumer</td>\n",
              "      <td>United States</td>\n",
              "      <td>Henderson</td>\n",
              "      <td>Kentucky</td>\n",
              "      <td>42420</td>\n",
              "      <td>South</td>\n",
              "      <td>FUR-BO-10001798</td>\n",
              "      <td>Furniture</td>\n",
              "      <td>Bookcases</td>\n",
              "      <td>Bush Somerset Collection Bookcase</td>\n",
              "      <td>261.96</td>\n",
              "      <td>2</td>\n",
              "      <td>0.0</td>\n",
              "      <td>41.9136</td>\n",
              "    </tr>\n",
              "  </tbody>\n",
              "</table>\n",
              "</div>"
            ],
            "text/plain": [
              "   Row ID        Order ID Order Date  ... Quantity Discount   Profit\n",
              "0       1  CA-2016-152156 2016-11-08  ...        2      0.0  41.9136\n",
              "\n",
              "[1 rows x 21 columns]"
            ]
          },
          "metadata": {
            "tags": []
          },
          "execution_count": 121
        }
      ]
    },
    {
      "cell_type": "code",
      "metadata": {
        "id": "yLn6pmNjzoxq"
      },
      "source": [
        "customerName = pd.pivot_table(salesData,index=['Customer ID'], values=['Sales'],aggfunc='sum').reset_index().sort_values(by='Sales',ascending=False).head(20)['Customer ID'].values"
      ],
      "execution_count": null,
      "outputs": []
    },
    {
      "cell_type": "code",
      "metadata": {
        "colab": {
          "base_uri": "https://localhost:8080/"
        },
        "id": "Gg99zCmV0r4N",
        "outputId": "69f866e4-d44e-4925-8870-df0a4d15e42c"
      },
      "source": [
        "pd.unique(salesData['Region'])"
      ],
      "execution_count": null,
      "outputs": [
        {
          "output_type": "execute_result",
          "data": {
            "text/plain": [
              "array(['South', 'West', 'Central', 'East'], dtype=object)"
            ]
          },
          "metadata": {
            "tags": []
          },
          "execution_count": 123
        }
      ]
    },
    {
      "cell_type": "code",
      "metadata": {
        "id": "uO0b6PuI0sIc"
      },
      "source": [
        "filtData = salesData[(salesData['Customer ID'].isin(customerName)) & (salesData['Region']=='South')]"
      ],
      "execution_count": null,
      "outputs": []
    },
    {
      "cell_type": "code",
      "metadata": {
        "colab": {
          "base_uri": "https://localhost:8080/",
          "height": 549
        },
        "id": "urRXm_I30sxw",
        "outputId": "60e9ff88-d718-489c-abab-e630efc4e5ef"
      },
      "source": [
        "pd.pivot_table(filtData, index='Sub-Category',values=['Sales'])"
      ],
      "execution_count": null,
      "outputs": [
        {
          "output_type": "execute_result",
          "data": {
            "text/html": [
              "<div>\n",
              "<style scoped>\n",
              "    .dataframe tbody tr th:only-of-type {\n",
              "        vertical-align: middle;\n",
              "    }\n",
              "\n",
              "    .dataframe tbody tr th {\n",
              "        vertical-align: top;\n",
              "    }\n",
              "\n",
              "    .dataframe thead th {\n",
              "        text-align: right;\n",
              "    }\n",
              "</style>\n",
              "<table border=\"1\" class=\"dataframe\">\n",
              "  <thead>\n",
              "    <tr style=\"text-align: right;\">\n",
              "      <th></th>\n",
              "      <th>Sales</th>\n",
              "    </tr>\n",
              "    <tr>\n",
              "      <th>Sub-Category</th>\n",
              "      <th></th>\n",
              "    </tr>\n",
              "  </thead>\n",
              "  <tbody>\n",
              "    <tr>\n",
              "      <th>Accessories</th>\n",
              "      <td>498.000000</td>\n",
              "    </tr>\n",
              "    <tr>\n",
              "      <th>Art</th>\n",
              "      <td>11.260750</td>\n",
              "    </tr>\n",
              "    <tr>\n",
              "      <th>Binders</th>\n",
              "      <td>427.466167</td>\n",
              "    </tr>\n",
              "    <tr>\n",
              "      <th>Bookcases</th>\n",
              "      <td>145.740000</td>\n",
              "    </tr>\n",
              "    <tr>\n",
              "      <th>Chairs</th>\n",
              "      <td>1667.744000</td>\n",
              "    </tr>\n",
              "    <tr>\n",
              "      <th>Envelopes</th>\n",
              "      <td>23.340000</td>\n",
              "    </tr>\n",
              "    <tr>\n",
              "      <th>Fasteners</th>\n",
              "      <td>25.028000</td>\n",
              "    </tr>\n",
              "    <tr>\n",
              "      <th>Furnishings</th>\n",
              "      <td>156.064286</td>\n",
              "    </tr>\n",
              "    <tr>\n",
              "      <th>Labels</th>\n",
              "      <td>15.750000</td>\n",
              "    </tr>\n",
              "    <tr>\n",
              "      <th>Machines</th>\n",
              "      <td>10736.576667</td>\n",
              "    </tr>\n",
              "    <tr>\n",
              "      <th>Paper</th>\n",
              "      <td>17.522800</td>\n",
              "    </tr>\n",
              "    <tr>\n",
              "      <th>Phones</th>\n",
              "      <td>417.548000</td>\n",
              "    </tr>\n",
              "    <tr>\n",
              "      <th>Storage</th>\n",
              "      <td>193.770000</td>\n",
              "    </tr>\n",
              "    <tr>\n",
              "      <th>Supplies</th>\n",
              "      <td>3.328000</td>\n",
              "    </tr>\n",
              "    <tr>\n",
              "      <th>Tables</th>\n",
              "      <td>693.101000</td>\n",
              "    </tr>\n",
              "  </tbody>\n",
              "</table>\n",
              "</div>"
            ],
            "text/plain": [
              "                     Sales\n",
              "Sub-Category              \n",
              "Accessories     498.000000\n",
              "Art              11.260750\n",
              "Binders         427.466167\n",
              "Bookcases       145.740000\n",
              "Chairs         1667.744000\n",
              "Envelopes        23.340000\n",
              "Fasteners        25.028000\n",
              "Furnishings     156.064286\n",
              "Labels           15.750000\n",
              "Machines      10736.576667\n",
              "Paper            17.522800\n",
              "Phones          417.548000\n",
              "Storage         193.770000\n",
              "Supplies          3.328000\n",
              "Tables          693.101000"
            ]
          },
          "metadata": {
            "tags": []
          },
          "execution_count": 125
        }
      ]
    },
    {
      "cell_type": "code",
      "metadata": {
        "id": "Sm3Nei7H0tBk"
      },
      "source": [
        "# same solution but this method shows ALL regions to compare to.\n",
        "filtData = salesData[(salesData['Customer ID'].isin(customerName))]"
      ],
      "execution_count": null,
      "outputs": []
    },
    {
      "cell_type": "code",
      "metadata": {
        "id": "lTSH7k190tpg"
      },
      "source": [
        "savThePivT = pd.pivot_table(filtData, index='Sub-Category',columns=['Region'],values=['Sales'])"
      ],
      "execution_count": null,
      "outputs": []
    },
    {
      "cell_type": "code",
      "metadata": {
        "colab": {
          "base_uri": "https://localhost:8080/"
        },
        "id": "6UEKRnjI1ol1",
        "outputId": "d76a6df8-b7cf-46aa-a93a-5913e7f30f66"
      },
      "source": [
        "savThePivT.columns"
      ],
      "execution_count": null,
      "outputs": [
        {
          "output_type": "execute_result",
          "data": {
            "text/plain": [
              "MultiIndex([('Sales', 'Central'),\n",
              "            ('Sales',    'East'),\n",
              "            ('Sales',   'South'),\n",
              "            ('Sales',    'West')],\n",
              "           names=[None, 'Region'])"
            ]
          },
          "metadata": {
            "tags": []
          },
          "execution_count": 128
        }
      ]
    },
    {
      "cell_type": "code",
      "metadata": {
        "id": "cIcvG7bH1oyr"
      },
      "source": [
        "savThePivT.columns=[''.join(i) for i in savThePivT.columns]"
      ],
      "execution_count": null,
      "outputs": []
    },
    {
      "cell_type": "code",
      "metadata": {
        "colab": {
          "base_uri": "https://localhost:8080/",
          "height": 236
        },
        "id": "TOOwuyBE1pFQ",
        "outputId": "39762306-e541-423a-ac26-226e3f28e740"
      },
      "source": [
        "savThePivT.head()"
      ],
      "execution_count": null,
      "outputs": [
        {
          "output_type": "execute_result",
          "data": {
            "text/html": [
              "<div>\n",
              "<style scoped>\n",
              "    .dataframe tbody tr th:only-of-type {\n",
              "        vertical-align: middle;\n",
              "    }\n",
              "\n",
              "    .dataframe tbody tr th {\n",
              "        vertical-align: top;\n",
              "    }\n",
              "\n",
              "    .dataframe thead th {\n",
              "        text-align: right;\n",
              "    }\n",
              "</style>\n",
              "<table border=\"1\" class=\"dataframe\">\n",
              "  <thead>\n",
              "    <tr style=\"text-align: right;\">\n",
              "      <th></th>\n",
              "      <th>SalesCentral</th>\n",
              "      <th>SalesEast</th>\n",
              "      <th>SalesSouth</th>\n",
              "      <th>SalesWest</th>\n",
              "    </tr>\n",
              "    <tr>\n",
              "      <th>Sub-Category</th>\n",
              "      <th></th>\n",
              "      <th></th>\n",
              "      <th></th>\n",
              "      <th></th>\n",
              "    </tr>\n",
              "  </thead>\n",
              "  <tbody>\n",
              "    <tr>\n",
              "      <th>Accessories</th>\n",
              "      <td>36.027000</td>\n",
              "      <td>100.938889</td>\n",
              "      <td>498.000000</td>\n",
              "      <td>125.175667</td>\n",
              "    </tr>\n",
              "    <tr>\n",
              "      <th>Appliances</th>\n",
              "      <td>122.191000</td>\n",
              "      <td>222.697200</td>\n",
              "      <td>NaN</td>\n",
              "      <td>207.082500</td>\n",
              "    </tr>\n",
              "    <tr>\n",
              "      <th>Art</th>\n",
              "      <td>26.999111</td>\n",
              "      <td>49.739091</td>\n",
              "      <td>11.260750</td>\n",
              "      <td>39.927200</td>\n",
              "    </tr>\n",
              "    <tr>\n",
              "      <th>Binders</th>\n",
              "      <td>1486.914267</td>\n",
              "      <td>274.165625</td>\n",
              "      <td>427.466167</td>\n",
              "      <td>41.815200</td>\n",
              "    </tr>\n",
              "    <tr>\n",
              "      <th>Bookcases</th>\n",
              "      <td>1023.332000</td>\n",
              "      <td>995.506800</td>\n",
              "      <td>145.740000</td>\n",
              "      <td>413.488500</td>\n",
              "    </tr>\n",
              "  </tbody>\n",
              "</table>\n",
              "</div>"
            ],
            "text/plain": [
              "              SalesCentral   SalesEast  SalesSouth   SalesWest\n",
              "Sub-Category                                                  \n",
              "Accessories      36.027000  100.938889  498.000000  125.175667\n",
              "Appliances      122.191000  222.697200         NaN  207.082500\n",
              "Art              26.999111   49.739091   11.260750   39.927200\n",
              "Binders        1486.914267  274.165625  427.466167   41.815200\n",
              "Bookcases      1023.332000  995.506800  145.740000  413.488500"
            ]
          },
          "metadata": {
            "tags": []
          },
          "execution_count": 130
        }
      ]
    },
    {
      "cell_type": "code",
      "metadata": {
        "colab": {
          "base_uri": "https://localhost:8080/",
          "height": 612
        },
        "id": "nkHvoDc31-S-",
        "outputId": "56af06bf-bfc2-45fc-dfaf-2c51babef6ef"
      },
      "source": [
        "savThePivT.sort_values(by='SalesCentral')"
      ],
      "execution_count": null,
      "outputs": [
        {
          "output_type": "execute_result",
          "data": {
            "text/html": [
              "<div>\n",
              "<style scoped>\n",
              "    .dataframe tbody tr th:only-of-type {\n",
              "        vertical-align: middle;\n",
              "    }\n",
              "\n",
              "    .dataframe tbody tr th {\n",
              "        vertical-align: top;\n",
              "    }\n",
              "\n",
              "    .dataframe thead th {\n",
              "        text-align: right;\n",
              "    }\n",
              "</style>\n",
              "<table border=\"1\" class=\"dataframe\">\n",
              "  <thead>\n",
              "    <tr style=\"text-align: right;\">\n",
              "      <th></th>\n",
              "      <th>SalesCentral</th>\n",
              "      <th>SalesEast</th>\n",
              "      <th>SalesSouth</th>\n",
              "      <th>SalesWest</th>\n",
              "    </tr>\n",
              "    <tr>\n",
              "      <th>Sub-Category</th>\n",
              "      <th></th>\n",
              "      <th></th>\n",
              "      <th></th>\n",
              "      <th></th>\n",
              "    </tr>\n",
              "  </thead>\n",
              "  <tbody>\n",
              "    <tr>\n",
              "      <th>Labels</th>\n",
              "      <td>11.960000</td>\n",
              "      <td>44.400000</td>\n",
              "      <td>15.750000</td>\n",
              "      <td>21.170000</td>\n",
              "    </tr>\n",
              "    <tr>\n",
              "      <th>Fasteners</th>\n",
              "      <td>15.692000</td>\n",
              "      <td>4.360000</td>\n",
              "      <td>25.028000</td>\n",
              "      <td>7.280000</td>\n",
              "    </tr>\n",
              "    <tr>\n",
              "      <th>Art</th>\n",
              "      <td>26.999111</td>\n",
              "      <td>49.739091</td>\n",
              "      <td>11.260750</td>\n",
              "      <td>39.927200</td>\n",
              "    </tr>\n",
              "    <tr>\n",
              "      <th>Envelopes</th>\n",
              "      <td>35.093333</td>\n",
              "      <td>58.206000</td>\n",
              "      <td>23.340000</td>\n",
              "      <td>92.630000</td>\n",
              "    </tr>\n",
              "    <tr>\n",
              "      <th>Accessories</th>\n",
              "      <td>36.027000</td>\n",
              "      <td>100.938889</td>\n",
              "      <td>498.000000</td>\n",
              "      <td>125.175667</td>\n",
              "    </tr>\n",
              "    <tr>\n",
              "      <th>Paper</th>\n",
              "      <td>39.236286</td>\n",
              "      <td>41.751500</td>\n",
              "      <td>17.522800</td>\n",
              "      <td>88.103125</td>\n",
              "    </tr>\n",
              "    <tr>\n",
              "      <th>Appliances</th>\n",
              "      <td>122.191000</td>\n",
              "      <td>222.697200</td>\n",
              "      <td>NaN</td>\n",
              "      <td>207.082500</td>\n",
              "    </tr>\n",
              "    <tr>\n",
              "      <th>Furnishings</th>\n",
              "      <td>129.247500</td>\n",
              "      <td>88.888182</td>\n",
              "      <td>156.064286</td>\n",
              "      <td>102.971250</td>\n",
              "    </tr>\n",
              "    <tr>\n",
              "      <th>Storage</th>\n",
              "      <td>189.164500</td>\n",
              "      <td>447.360000</td>\n",
              "      <td>193.770000</td>\n",
              "      <td>199.485400</td>\n",
              "    </tr>\n",
              "    <tr>\n",
              "      <th>Supplies</th>\n",
              "      <td>197.585000</td>\n",
              "      <td>18.153000</td>\n",
              "      <td>3.328000</td>\n",
              "      <td>2983.951200</td>\n",
              "    </tr>\n",
              "    <tr>\n",
              "      <th>Tables</th>\n",
              "      <td>481.096250</td>\n",
              "      <td>199.836000</td>\n",
              "      <td>693.101000</td>\n",
              "      <td>647.938500</td>\n",
              "    </tr>\n",
              "    <tr>\n",
              "      <th>Phones</th>\n",
              "      <td>515.872444</td>\n",
              "      <td>452.395571</td>\n",
              "      <td>417.548000</td>\n",
              "      <td>948.608800</td>\n",
              "    </tr>\n",
              "    <tr>\n",
              "      <th>Chairs</th>\n",
              "      <td>1016.881667</td>\n",
              "      <td>787.300846</td>\n",
              "      <td>1667.744000</td>\n",
              "      <td>576.258667</td>\n",
              "    </tr>\n",
              "    <tr>\n",
              "      <th>Bookcases</th>\n",
              "      <td>1023.332000</td>\n",
              "      <td>995.506800</td>\n",
              "      <td>145.740000</td>\n",
              "      <td>413.488500</td>\n",
              "    </tr>\n",
              "    <tr>\n",
              "      <th>Binders</th>\n",
              "      <td>1486.914267</td>\n",
              "      <td>274.165625</td>\n",
              "      <td>427.466167</td>\n",
              "      <td>41.815200</td>\n",
              "    </tr>\n",
              "    <tr>\n",
              "      <th>Machines</th>\n",
              "      <td>4223.931000</td>\n",
              "      <td>4919.940000</td>\n",
              "      <td>10736.576667</td>\n",
              "      <td>1553.480000</td>\n",
              "    </tr>\n",
              "    <tr>\n",
              "      <th>Copiers</th>\n",
              "      <td>10149.955000</td>\n",
              "      <td>7674.971000</td>\n",
              "      <td>NaN</td>\n",
              "      <td>8399.960000</td>\n",
              "    </tr>\n",
              "  </tbody>\n",
              "</table>\n",
              "</div>"
            ],
            "text/plain": [
              "              SalesCentral    SalesEast    SalesSouth    SalesWest\n",
              "Sub-Category                                                      \n",
              "Labels           11.960000    44.400000     15.750000    21.170000\n",
              "Fasteners        15.692000     4.360000     25.028000     7.280000\n",
              "Art              26.999111    49.739091     11.260750    39.927200\n",
              "Envelopes        35.093333    58.206000     23.340000    92.630000\n",
              "Accessories      36.027000   100.938889    498.000000   125.175667\n",
              "Paper            39.236286    41.751500     17.522800    88.103125\n",
              "Appliances      122.191000   222.697200           NaN   207.082500\n",
              "Furnishings     129.247500    88.888182    156.064286   102.971250\n",
              "Storage         189.164500   447.360000    193.770000   199.485400\n",
              "Supplies        197.585000    18.153000      3.328000  2983.951200\n",
              "Tables          481.096250   199.836000    693.101000   647.938500\n",
              "Phones          515.872444   452.395571    417.548000   948.608800\n",
              "Chairs         1016.881667   787.300846   1667.744000   576.258667\n",
              "Bookcases      1023.332000   995.506800    145.740000   413.488500\n",
              "Binders        1486.914267   274.165625    427.466167    41.815200\n",
              "Machines       4223.931000  4919.940000  10736.576667  1553.480000\n",
              "Copiers       10149.955000  7674.971000           NaN  8399.960000"
            ]
          },
          "metadata": {
            "tags": []
          },
          "execution_count": 131
        }
      ]
    },
    {
      "cell_type": "code",
      "metadata": {
        "colab": {
          "base_uri": "https://localhost:8080/",
          "height": 205
        },
        "id": "icmdMCcy1_o2",
        "outputId": "4a4ef158-8ea6-412a-d2b8-679c25bf5867"
      },
      "source": [
        "# Group by\n",
        "\n",
        "salesData.groupby('Region').sum()[['Profit']]"
      ],
      "execution_count": null,
      "outputs": [
        {
          "output_type": "execute_result",
          "data": {
            "text/html": [
              "<div>\n",
              "<style scoped>\n",
              "    .dataframe tbody tr th:only-of-type {\n",
              "        vertical-align: middle;\n",
              "    }\n",
              "\n",
              "    .dataframe tbody tr th {\n",
              "        vertical-align: top;\n",
              "    }\n",
              "\n",
              "    .dataframe thead th {\n",
              "        text-align: right;\n",
              "    }\n",
              "</style>\n",
              "<table border=\"1\" class=\"dataframe\">\n",
              "  <thead>\n",
              "    <tr style=\"text-align: right;\">\n",
              "      <th></th>\n",
              "      <th>Profit</th>\n",
              "    </tr>\n",
              "    <tr>\n",
              "      <th>Region</th>\n",
              "      <th></th>\n",
              "    </tr>\n",
              "  </thead>\n",
              "  <tbody>\n",
              "    <tr>\n",
              "      <th>Central</th>\n",
              "      <td>39706.3625</td>\n",
              "    </tr>\n",
              "    <tr>\n",
              "      <th>East</th>\n",
              "      <td>91522.7800</td>\n",
              "    </tr>\n",
              "    <tr>\n",
              "      <th>South</th>\n",
              "      <td>46749.4303</td>\n",
              "    </tr>\n",
              "    <tr>\n",
              "      <th>West</th>\n",
              "      <td>108418.4489</td>\n",
              "    </tr>\n",
              "  </tbody>\n",
              "</table>\n",
              "</div>"
            ],
            "text/plain": [
              "              Profit\n",
              "Region              \n",
              "Central   39706.3625\n",
              "East      91522.7800\n",
              "South     46749.4303\n",
              "West     108418.4489"
            ]
          },
          "metadata": {
            "tags": []
          },
          "execution_count": 132
        }
      ]
    },
    {
      "cell_type": "code",
      "metadata": {
        "colab": {
          "base_uri": "https://localhost:8080/",
          "height": 236
        },
        "id": "mQtYPEqd2ARw",
        "outputId": "32132f11-b245-4f0d-b2e8-ddf1e6cb2444"
      },
      "source": [
        "salesData.groupby(['Region','Customer ID']).sum().head(5)"
      ],
      "execution_count": null,
      "outputs": [
        {
          "output_type": "execute_result",
          "data": {
            "text/html": [
              "<div>\n",
              "<style scoped>\n",
              "    .dataframe tbody tr th:only-of-type {\n",
              "        vertical-align: middle;\n",
              "    }\n",
              "\n",
              "    .dataframe tbody tr th {\n",
              "        vertical-align: top;\n",
              "    }\n",
              "\n",
              "    .dataframe thead th {\n",
              "        text-align: right;\n",
              "    }\n",
              "</style>\n",
              "<table border=\"1\" class=\"dataframe\">\n",
              "  <thead>\n",
              "    <tr style=\"text-align: right;\">\n",
              "      <th></th>\n",
              "      <th></th>\n",
              "      <th>Row ID</th>\n",
              "      <th>Postal Code</th>\n",
              "      <th>Sales</th>\n",
              "      <th>Quantity</th>\n",
              "      <th>Discount</th>\n",
              "      <th>Profit</th>\n",
              "    </tr>\n",
              "    <tr>\n",
              "      <th>Region</th>\n",
              "      <th>Customer ID</th>\n",
              "      <th></th>\n",
              "      <th></th>\n",
              "      <th></th>\n",
              "      <th></th>\n",
              "      <th></th>\n",
              "      <th></th>\n",
              "    </tr>\n",
              "  </thead>\n",
              "  <tbody>\n",
              "    <tr>\n",
              "      <th rowspan=\"5\" valign=\"top\">Central</th>\n",
              "      <th>AA-10315</th>\n",
              "      <td>23123</td>\n",
              "      <td>425470</td>\n",
              "      <td>4780.552</td>\n",
              "      <td>19</td>\n",
              "      <td>0.8</td>\n",
              "      <td>-650.5971</td>\n",
              "    </tr>\n",
              "    <tr>\n",
              "      <th>AA-10375</th>\n",
              "      <td>1617</td>\n",
              "      <td>136208</td>\n",
              "      <td>178.370</td>\n",
              "      <td>5</td>\n",
              "      <td>0.0</td>\n",
              "      <td>62.0658</td>\n",
              "    </tr>\n",
              "    <tr>\n",
              "      <th>AA-10480</th>\n",
              "      <td>54075</td>\n",
              "      <td>570205</td>\n",
              "      <td>1747.500</td>\n",
              "      <td>31</td>\n",
              "      <td>0.0</td>\n",
              "      <td>420.4986</td>\n",
              "    </tr>\n",
              "    <tr>\n",
              "      <th>AA-10645</th>\n",
              "      <td>24027</td>\n",
              "      <td>219360</td>\n",
              "      <td>1971.460</td>\n",
              "      <td>12</td>\n",
              "      <td>0.0</td>\n",
              "      <td>439.3138</td>\n",
              "    </tr>\n",
              "    <tr>\n",
              "      <th>AB-10015</th>\n",
              "      <td>25828</td>\n",
              "      <td>222257</td>\n",
              "      <td>576.564</td>\n",
              "      <td>6</td>\n",
              "      <td>0.2</td>\n",
              "      <td>114.3432</td>\n",
              "    </tr>\n",
              "  </tbody>\n",
              "</table>\n",
              "</div>"
            ],
            "text/plain": [
              "                     Row ID  Postal Code  ...  Discount    Profit\n",
              "Region  Customer ID                       ...                    \n",
              "Central AA-10315      23123       425470  ...       0.8 -650.5971\n",
              "        AA-10375       1617       136208  ...       0.0   62.0658\n",
              "        AA-10480      54075       570205  ...       0.0  420.4986\n",
              "        AA-10645      24027       219360  ...       0.0  439.3138\n",
              "        AB-10015      25828       222257  ...       0.2  114.3432\n",
              "\n",
              "[5 rows x 6 columns]"
            ]
          },
          "metadata": {
            "tags": []
          },
          "execution_count": 133
        }
      ]
    },
    {
      "cell_type": "code",
      "metadata": {
        "colab": {
          "base_uri": "https://localhost:8080/",
          "height": 422
        },
        "id": "NlHfBztO2wJ6",
        "outputId": "c6b7d762-495c-4d1a-e94f-258d848fd1c3"
      },
      "source": [
        "salesData.groupby(['Region','Customer ID']).agg({'Sales':'var','Profit':'std'}).reset_index()"
      ],
      "execution_count": null,
      "outputs": [
        {
          "output_type": "execute_result",
          "data": {
            "text/html": [
              "<div>\n",
              "<style scoped>\n",
              "    .dataframe tbody tr th:only-of-type {\n",
              "        vertical-align: middle;\n",
              "    }\n",
              "\n",
              "    .dataframe tbody tr th {\n",
              "        vertical-align: top;\n",
              "    }\n",
              "\n",
              "    .dataframe thead th {\n",
              "        text-align: right;\n",
              "    }\n",
              "</style>\n",
              "<table border=\"1\" class=\"dataframe\">\n",
              "  <thead>\n",
              "    <tr style=\"text-align: right;\">\n",
              "      <th></th>\n",
              "      <th>Region</th>\n",
              "      <th>Customer ID</th>\n",
              "      <th>Sales</th>\n",
              "      <th>Profit</th>\n",
              "    </tr>\n",
              "  </thead>\n",
              "  <tbody>\n",
              "    <tr>\n",
              "      <th>0</th>\n",
              "      <td>Central</td>\n",
              "      <td>AA-10315</td>\n",
              "      <td>2.391345e+06</td>\n",
              "      <td>333.653062</td>\n",
              "    </tr>\n",
              "    <tr>\n",
              "      <th>1</th>\n",
              "      <td>Central</td>\n",
              "      <td>AA-10375</td>\n",
              "      <td>7.389632e+03</td>\n",
              "      <td>28.223319</td>\n",
              "    </tr>\n",
              "    <tr>\n",
              "      <th>2</th>\n",
              "      <td>Central</td>\n",
              "      <td>AA-10480</td>\n",
              "      <td>3.360151e+04</td>\n",
              "      <td>52.929506</td>\n",
              "    </tr>\n",
              "    <tr>\n",
              "      <th>3</th>\n",
              "      <td>Central</td>\n",
              "      <td>AA-10645</td>\n",
              "      <td>3.807022e+05</td>\n",
              "      <td>206.878156</td>\n",
              "    </tr>\n",
              "    <tr>\n",
              "      <th>4</th>\n",
              "      <td>Central</td>\n",
              "      <td>AB-10015</td>\n",
              "      <td>2.778122e+04</td>\n",
              "      <td>35.390674</td>\n",
              "    </tr>\n",
              "    <tr>\n",
              "      <th>...</th>\n",
              "      <td>...</td>\n",
              "      <td>...</td>\n",
              "      <td>...</td>\n",
              "      <td>...</td>\n",
              "    </tr>\n",
              "    <tr>\n",
              "      <th>2496</th>\n",
              "      <td>West</td>\n",
              "      <td>XP-21865</td>\n",
              "      <td>7.591865e+03</td>\n",
              "      <td>42.429516</td>\n",
              "    </tr>\n",
              "    <tr>\n",
              "      <th>2497</th>\n",
              "      <td>West</td>\n",
              "      <td>YC-21895</td>\n",
              "      <td>7.012548e+05</td>\n",
              "      <td>260.164030</td>\n",
              "    </tr>\n",
              "    <tr>\n",
              "      <th>2498</th>\n",
              "      <td>West</td>\n",
              "      <td>YS-21880</td>\n",
              "      <td>8.956381e+05</td>\n",
              "      <td>345.634555</td>\n",
              "    </tr>\n",
              "    <tr>\n",
              "      <th>2499</th>\n",
              "      <td>West</td>\n",
              "      <td>ZC-21910</td>\n",
              "      <td>1.233752e+05</td>\n",
              "      <td>85.120354</td>\n",
              "    </tr>\n",
              "    <tr>\n",
              "      <th>2500</th>\n",
              "      <td>West</td>\n",
              "      <td>ZD-21925</td>\n",
              "      <td>8.832815e+03</td>\n",
              "      <td>6.864926</td>\n",
              "    </tr>\n",
              "  </tbody>\n",
              "</table>\n",
              "<p>2501 rows × 4 columns</p>\n",
              "</div>"
            ],
            "text/plain": [
              "       Region Customer ID         Sales      Profit\n",
              "0     Central    AA-10315  2.391345e+06  333.653062\n",
              "1     Central    AA-10375  7.389632e+03   28.223319\n",
              "2     Central    AA-10480  3.360151e+04   52.929506\n",
              "3     Central    AA-10645  3.807022e+05  206.878156\n",
              "4     Central    AB-10015  2.778122e+04   35.390674\n",
              "...       ...         ...           ...         ...\n",
              "2496     West    XP-21865  7.591865e+03   42.429516\n",
              "2497     West    YC-21895  7.012548e+05  260.164030\n",
              "2498     West    YS-21880  8.956381e+05  345.634555\n",
              "2499     West    ZC-21910  1.233752e+05   85.120354\n",
              "2500     West    ZD-21925  8.832815e+03    6.864926\n",
              "\n",
              "[2501 rows x 4 columns]"
            ]
          },
          "metadata": {
            "tags": []
          },
          "execution_count": 134
        }
      ]
    },
    {
      "cell_type": "code",
      "metadata": {
        "colab": {
          "base_uri": "https://localhost:8080/"
        },
        "id": "X-sfXAdf2wYA",
        "outputId": "5b0fe372-dc2e-43aa-9a9d-647829d5fd63"
      },
      "source": [
        "salesData.columns"
      ],
      "execution_count": null,
      "outputs": [
        {
          "output_type": "execute_result",
          "data": {
            "text/plain": [
              "Index(['Row ID', 'Order ID', 'Order Date', 'Ship Date', 'Ship Mode',\n",
              "       'Customer ID', 'Customer Name', 'Segment', 'Country', 'City', 'State',\n",
              "       'Postal Code', 'Region', 'Product ID', 'Category', 'Sub-Category',\n",
              "       'Product Name', 'Sales', 'Quantity', 'Discount', 'Profit'],\n",
              "      dtype='object')"
            ]
          },
          "metadata": {
            "tags": []
          },
          "execution_count": 135
        }
      ]
    },
    {
      "cell_type": "code",
      "metadata": {
        "colab": {
          "base_uri": "https://localhost:8080/",
          "height": 395
        },
        "id": "d3MsksKN2wli",
        "outputId": "3af8325d-4061-4417-e386-505db39558e9"
      },
      "source": [
        "# error (kiv)\n",
        "# to do two different operations on the same column\n",
        "saveToEdit = salesData.groupby(['Region','Customer ID']).agg({'Sales':{'samValSales':'sum','varvalSales':'var'},'Profit':{'profitSum':'sum'}}).reset_index()\n"
      ],
      "execution_count": null,
      "outputs": [
        {
          "output_type": "error",
          "ename": "SpecificationError",
          "evalue": "ignored",
          "traceback": [
            "\u001b[0;31m---------------------------------------------------------------------------\u001b[0m",
            "\u001b[0;31mSpecificationError\u001b[0m                        Traceback (most recent call last)",
            "\u001b[0;32m<ipython-input-136-4c89623ad115>\u001b[0m in \u001b[0;36m<module>\u001b[0;34m()\u001b[0m\n\u001b[1;32m      1\u001b[0m \u001b[0;31m# to do two different operations on the same column\u001b[0m\u001b[0;34m\u001b[0m\u001b[0;34m\u001b[0m\u001b[0;34m\u001b[0m\u001b[0m\n\u001b[0;32m----> 2\u001b[0;31m \u001b[0msaveToEdit\u001b[0m \u001b[0;34m=\u001b[0m \u001b[0msalesData\u001b[0m\u001b[0;34m.\u001b[0m\u001b[0mgroupby\u001b[0m\u001b[0;34m(\u001b[0m\u001b[0;34m[\u001b[0m\u001b[0;34m'Region'\u001b[0m\u001b[0;34m,\u001b[0m\u001b[0;34m'Customer ID'\u001b[0m\u001b[0;34m]\u001b[0m\u001b[0;34m)\u001b[0m\u001b[0;34m.\u001b[0m\u001b[0magg\u001b[0m\u001b[0;34m(\u001b[0m\u001b[0;34m{\u001b[0m\u001b[0;34m'Sales'\u001b[0m\u001b[0;34m:\u001b[0m\u001b[0;34m{\u001b[0m\u001b[0;34m'samValSales'\u001b[0m\u001b[0;34m:\u001b[0m\u001b[0;34m'sum'\u001b[0m\u001b[0;34m,\u001b[0m\u001b[0;34m'varvalSales'\u001b[0m\u001b[0;34m:\u001b[0m\u001b[0;34m'var'\u001b[0m\u001b[0;34m}\u001b[0m\u001b[0;34m,\u001b[0m\u001b[0;34m'Profit'\u001b[0m\u001b[0;34m:\u001b[0m\u001b[0;34m{\u001b[0m\u001b[0;34m'profitSum'\u001b[0m\u001b[0;34m:\u001b[0m\u001b[0;34m'sum'\u001b[0m\u001b[0;34m}\u001b[0m\u001b[0;34m}\u001b[0m\u001b[0;34m)\u001b[0m\u001b[0;34m.\u001b[0m\u001b[0mreset_index\u001b[0m\u001b[0;34m(\u001b[0m\u001b[0;34m)\u001b[0m\u001b[0;34m\u001b[0m\u001b[0;34m\u001b[0m\u001b[0m\n\u001b[0m\u001b[1;32m      3\u001b[0m \u001b[0;34m\u001b[0m\u001b[0m\n\u001b[1;32m      4\u001b[0m \u001b[0;31m# error. Can not figure out. Ask Mr. Yash in next meeting.\u001b[0m\u001b[0;34m\u001b[0m\u001b[0;34m\u001b[0m\u001b[0;34m\u001b[0m\u001b[0m\n",
            "\u001b[0;32m/usr/local/lib/python3.7/dist-packages/pandas/core/groupby/generic.py\u001b[0m in \u001b[0;36maggregate\u001b[0;34m(self, func, engine, engine_kwargs, *args, **kwargs)\u001b[0m\n\u001b[1;32m    949\u001b[0m         \u001b[0mfunc\u001b[0m \u001b[0;34m=\u001b[0m \u001b[0mmaybe_mangle_lambdas\u001b[0m\u001b[0;34m(\u001b[0m\u001b[0mfunc\u001b[0m\u001b[0;34m)\u001b[0m\u001b[0;34m\u001b[0m\u001b[0;34m\u001b[0m\u001b[0m\n\u001b[1;32m    950\u001b[0m \u001b[0;34m\u001b[0m\u001b[0m\n\u001b[0;32m--> 951\u001b[0;31m         \u001b[0mresult\u001b[0m\u001b[0;34m,\u001b[0m \u001b[0mhow\u001b[0m \u001b[0;34m=\u001b[0m \u001b[0mself\u001b[0m\u001b[0;34m.\u001b[0m\u001b[0m_aggregate\u001b[0m\u001b[0;34m(\u001b[0m\u001b[0mfunc\u001b[0m\u001b[0;34m,\u001b[0m \u001b[0;34m*\u001b[0m\u001b[0margs\u001b[0m\u001b[0;34m,\u001b[0m \u001b[0;34m**\u001b[0m\u001b[0mkwargs\u001b[0m\u001b[0;34m)\u001b[0m\u001b[0;34m\u001b[0m\u001b[0;34m\u001b[0m\u001b[0m\n\u001b[0m\u001b[1;32m    952\u001b[0m         \u001b[0;32mif\u001b[0m \u001b[0mhow\u001b[0m \u001b[0;32mis\u001b[0m \u001b[0;32mNone\u001b[0m\u001b[0;34m:\u001b[0m\u001b[0;34m\u001b[0m\u001b[0;34m\u001b[0m\u001b[0m\n\u001b[1;32m    953\u001b[0m             \u001b[0;32mreturn\u001b[0m \u001b[0mresult\u001b[0m\u001b[0;34m\u001b[0m\u001b[0;34m\u001b[0m\u001b[0m\n",
            "\u001b[0;32m/usr/local/lib/python3.7/dist-packages/pandas/core/base.py\u001b[0m in \u001b[0;36m_aggregate\u001b[0;34m(self, arg, *args, **kwargs)\u001b[0m\n\u001b[1;32m    336\u001b[0m                     \u001b[0;31m# {'ra' : { 'A' : 'mean' }}\u001b[0m\u001b[0;34m\u001b[0m\u001b[0;34m\u001b[0m\u001b[0;34m\u001b[0m\u001b[0m\n\u001b[1;32m    337\u001b[0m                     \u001b[0;32mif\u001b[0m \u001b[0misinstance\u001b[0m\u001b[0;34m(\u001b[0m\u001b[0mv\u001b[0m\u001b[0;34m,\u001b[0m \u001b[0mdict\u001b[0m\u001b[0;34m)\u001b[0m\u001b[0;34m:\u001b[0m\u001b[0;34m\u001b[0m\u001b[0;34m\u001b[0m\u001b[0m\n\u001b[0;32m--> 338\u001b[0;31m                         \u001b[0;32mraise\u001b[0m \u001b[0mSpecificationError\u001b[0m\u001b[0;34m(\u001b[0m\u001b[0;34m\"nested renamer is not supported\"\u001b[0m\u001b[0;34m)\u001b[0m\u001b[0;34m\u001b[0m\u001b[0;34m\u001b[0m\u001b[0m\n\u001b[0m\u001b[1;32m    339\u001b[0m                     \u001b[0;32melif\u001b[0m \u001b[0misinstance\u001b[0m\u001b[0;34m(\u001b[0m\u001b[0mobj\u001b[0m\u001b[0;34m,\u001b[0m \u001b[0mABCSeries\u001b[0m\u001b[0;34m)\u001b[0m\u001b[0;34m:\u001b[0m\u001b[0;34m\u001b[0m\u001b[0;34m\u001b[0m\u001b[0m\n\u001b[1;32m    340\u001b[0m                         \u001b[0;32mraise\u001b[0m \u001b[0mSpecificationError\u001b[0m\u001b[0;34m(\u001b[0m\u001b[0;34m\"nested renamer is not supported\"\u001b[0m\u001b[0;34m)\u001b[0m\u001b[0;34m\u001b[0m\u001b[0;34m\u001b[0m\u001b[0m\n",
            "\u001b[0;31mSpecificationError\u001b[0m: nested renamer is not supported"
          ]
        }
      ]
    },
    {
      "cell_type": "code",
      "metadata": {
        "id": "1lPPV6Cr2wyU"
      },
      "source": [
        "# Conversion\n",
        "\n",
        "xData = pd.DataFrame(data={'col1':[1,2,3,4]})"
      ],
      "execution_count": null,
      "outputs": []
    },
    {
      "cell_type": "code",
      "metadata": {
        "colab": {
          "base_uri": "https://localhost:8080/"
        },
        "id": "6rOyju5n2zJH",
        "outputId": "c6ee4fa3-0457-496c-ec44-76c84aa5ca3a"
      },
      "source": [
        "xData.dtypes"
      ],
      "execution_count": null,
      "outputs": [
        {
          "output_type": "execute_result",
          "data": {
            "text/plain": [
              "col1    int64\n",
              "dtype: object"
            ]
          },
          "metadata": {
            "tags": []
          },
          "execution_count": 139
        }
      ]
    },
    {
      "cell_type": "code",
      "metadata": {
        "colab": {
          "base_uri": "https://localhost:8080/",
          "height": 175
        },
        "id": "Luk0gS3H4ovZ",
        "outputId": "39d573e5-3af5-4687-e230-e45dfabdf85c"
      },
      "source": [
        "xData.astype('int32')"
      ],
      "execution_count": null,
      "outputs": [
        {
          "output_type": "execute_result",
          "data": {
            "text/html": [
              "<div>\n",
              "<style scoped>\n",
              "    .dataframe tbody tr th:only-of-type {\n",
              "        vertical-align: middle;\n",
              "    }\n",
              "\n",
              "    .dataframe tbody tr th {\n",
              "        vertical-align: top;\n",
              "    }\n",
              "\n",
              "    .dataframe thead th {\n",
              "        text-align: right;\n",
              "    }\n",
              "</style>\n",
              "<table border=\"1\" class=\"dataframe\">\n",
              "  <thead>\n",
              "    <tr style=\"text-align: right;\">\n",
              "      <th></th>\n",
              "      <th>col1</th>\n",
              "    </tr>\n",
              "  </thead>\n",
              "  <tbody>\n",
              "    <tr>\n",
              "      <th>0</th>\n",
              "      <td>1</td>\n",
              "    </tr>\n",
              "    <tr>\n",
              "      <th>1</th>\n",
              "      <td>2</td>\n",
              "    </tr>\n",
              "    <tr>\n",
              "      <th>2</th>\n",
              "      <td>3</td>\n",
              "    </tr>\n",
              "    <tr>\n",
              "      <th>3</th>\n",
              "      <td>4</td>\n",
              "    </tr>\n",
              "  </tbody>\n",
              "</table>\n",
              "</div>"
            ],
            "text/plain": [
              "   col1\n",
              "0     1\n",
              "1     2\n",
              "2     3\n",
              "3     4"
            ]
          },
          "metadata": {
            "tags": []
          },
          "execution_count": 140
        }
      ]
    },
    {
      "cell_type": "code",
      "metadata": {
        "colab": {
          "base_uri": "https://localhost:8080/"
        },
        "id": "A9pkxzrr4pAZ",
        "outputId": "996de835-6293-444f-b50f-093412e22b98"
      },
      "source": [
        "xData.astype('int32').dtypes"
      ],
      "execution_count": null,
      "outputs": [
        {
          "output_type": "execute_result",
          "data": {
            "text/plain": [
              "col1    int32\n",
              "dtype: object"
            ]
          },
          "metadata": {
            "tags": []
          },
          "execution_count": 141
        }
      ]
    },
    {
      "cell_type": "code",
      "metadata": {
        "colab": {
          "base_uri": "https://localhost:8080/",
          "height": 175
        },
        "id": "xgVsgA3Q4pcm",
        "outputId": "35ba8797-bec5-4291-84ca-3231f2cecbf0"
      },
      "source": [
        "xData.astype('category')"
      ],
      "execution_count": null,
      "outputs": [
        {
          "output_type": "execute_result",
          "data": {
            "text/html": [
              "<div>\n",
              "<style scoped>\n",
              "    .dataframe tbody tr th:only-of-type {\n",
              "        vertical-align: middle;\n",
              "    }\n",
              "\n",
              "    .dataframe tbody tr th {\n",
              "        vertical-align: top;\n",
              "    }\n",
              "\n",
              "    .dataframe thead th {\n",
              "        text-align: right;\n",
              "    }\n",
              "</style>\n",
              "<table border=\"1\" class=\"dataframe\">\n",
              "  <thead>\n",
              "    <tr style=\"text-align: right;\">\n",
              "      <th></th>\n",
              "      <th>col1</th>\n",
              "    </tr>\n",
              "  </thead>\n",
              "  <tbody>\n",
              "    <tr>\n",
              "      <th>0</th>\n",
              "      <td>1</td>\n",
              "    </tr>\n",
              "    <tr>\n",
              "      <th>1</th>\n",
              "      <td>2</td>\n",
              "    </tr>\n",
              "    <tr>\n",
              "      <th>2</th>\n",
              "      <td>3</td>\n",
              "    </tr>\n",
              "    <tr>\n",
              "      <th>3</th>\n",
              "      <td>4</td>\n",
              "    </tr>\n",
              "  </tbody>\n",
              "</table>\n",
              "</div>"
            ],
            "text/plain": [
              "  col1\n",
              "0    1\n",
              "1    2\n",
              "2    3\n",
              "3    4"
            ]
          },
          "metadata": {
            "tags": []
          },
          "execution_count": 142
        }
      ]
    },
    {
      "cell_type": "code",
      "metadata": {
        "colab": {
          "base_uri": "https://localhost:8080/"
        },
        "id": "2kDAdkBv4ptM",
        "outputId": "446fdbc8-591b-4960-e53d-f67616949338"
      },
      "source": [
        "xData.astype('category').dtypes"
      ],
      "execution_count": null,
      "outputs": [
        {
          "output_type": "execute_result",
          "data": {
            "text/plain": [
              "col1    category\n",
              "dtype: object"
            ]
          },
          "metadata": {
            "tags": []
          },
          "execution_count": 143
        }
      ]
    },
    {
      "cell_type": "code",
      "metadata": {
        "colab": {
          "base_uri": "https://localhost:8080/",
          "height": 170
        },
        "id": "cmiKI8UN4qbk",
        "outputId": "8a3a3cac-0cee-405c-d04a-e4003118ecd9"
      },
      "source": [
        "# Operations with Strings\n",
        "\n",
        "salesData.head(1)"
      ],
      "execution_count": null,
      "outputs": [
        {
          "output_type": "execute_result",
          "data": {
            "text/html": [
              "<div>\n",
              "<style scoped>\n",
              "    .dataframe tbody tr th:only-of-type {\n",
              "        vertical-align: middle;\n",
              "    }\n",
              "\n",
              "    .dataframe tbody tr th {\n",
              "        vertical-align: top;\n",
              "    }\n",
              "\n",
              "    .dataframe thead th {\n",
              "        text-align: right;\n",
              "    }\n",
              "</style>\n",
              "<table border=\"1\" class=\"dataframe\">\n",
              "  <thead>\n",
              "    <tr style=\"text-align: right;\">\n",
              "      <th></th>\n",
              "      <th>Row ID</th>\n",
              "      <th>Order ID</th>\n",
              "      <th>Order Date</th>\n",
              "      <th>Ship Date</th>\n",
              "      <th>Ship Mode</th>\n",
              "      <th>Customer ID</th>\n",
              "      <th>Customer Name</th>\n",
              "      <th>Segment</th>\n",
              "      <th>Country</th>\n",
              "      <th>City</th>\n",
              "      <th>State</th>\n",
              "      <th>Postal Code</th>\n",
              "      <th>Region</th>\n",
              "      <th>Product ID</th>\n",
              "      <th>Category</th>\n",
              "      <th>Sub-Category</th>\n",
              "      <th>Product Name</th>\n",
              "      <th>Sales</th>\n",
              "      <th>Quantity</th>\n",
              "      <th>Discount</th>\n",
              "      <th>Profit</th>\n",
              "    </tr>\n",
              "  </thead>\n",
              "  <tbody>\n",
              "    <tr>\n",
              "      <th>0</th>\n",
              "      <td>1</td>\n",
              "      <td>CA-2016-152156</td>\n",
              "      <td>2016-11-08</td>\n",
              "      <td>2016-11-11</td>\n",
              "      <td>Second Class</td>\n",
              "      <td>CG-12520</td>\n",
              "      <td>Claire Gute</td>\n",
              "      <td>Consumer</td>\n",
              "      <td>United States</td>\n",
              "      <td>Henderson</td>\n",
              "      <td>Kentucky</td>\n",
              "      <td>42420</td>\n",
              "      <td>South</td>\n",
              "      <td>FUR-BO-10001798</td>\n",
              "      <td>Furniture</td>\n",
              "      <td>Bookcases</td>\n",
              "      <td>Bush Somerset Collection Bookcase</td>\n",
              "      <td>261.96</td>\n",
              "      <td>2</td>\n",
              "      <td>0.0</td>\n",
              "      <td>41.9136</td>\n",
              "    </tr>\n",
              "  </tbody>\n",
              "</table>\n",
              "</div>"
            ],
            "text/plain": [
              "   Row ID        Order ID Order Date  ... Quantity Discount   Profit\n",
              "0       1  CA-2016-152156 2016-11-08  ...        2      0.0  41.9136\n",
              "\n",
              "[1 rows x 21 columns]"
            ]
          },
          "metadata": {
            "tags": []
          },
          "execution_count": 144
        }
      ]
    },
    {
      "cell_type": "code",
      "metadata": {
        "colab": {
          "base_uri": "https://localhost:8080/"
        },
        "id": "RFrPH70u5K9b",
        "outputId": "96405a83-1230-4f62-ebcd-2cf691ff37c2"
      },
      "source": [
        "salesData['Ship Mode'].str.split(' ').head(5)"
      ],
      "execution_count": null,
      "outputs": [
        {
          "output_type": "execute_result",
          "data": {
            "text/plain": [
              "0      [Second, Class]\n",
              "1      [Second, Class]\n",
              "2      [Second, Class]\n",
              "3    [Standard, Class]\n",
              "4    [Standard, Class]\n",
              "Name: Ship Mode, dtype: object"
            ]
          },
          "metadata": {
            "tags": []
          },
          "execution_count": 145
        }
      ]
    },
    {
      "cell_type": "code",
      "metadata": {
        "colab": {
          "base_uri": "https://localhost:8080/"
        },
        "id": "iRdc9TeO5LX4",
        "outputId": "f5f652e4-e57b-4c34-a2b3-5ca79c34027e"
      },
      "source": [
        "salesData['Ship Mode'].str.contains(' ').head(5)"
      ],
      "execution_count": null,
      "outputs": [
        {
          "output_type": "execute_result",
          "data": {
            "text/plain": [
              "0    True\n",
              "1    True\n",
              "2    True\n",
              "3    True\n",
              "4    True\n",
              "Name: Ship Mode, dtype: bool"
            ]
          },
          "metadata": {
            "tags": []
          },
          "execution_count": 146
        }
      ]
    },
    {
      "cell_type": "code",
      "metadata": {
        "colab": {
          "base_uri": "https://localhost:8080/"
        },
        "id": "7s9jTCT25MB-",
        "outputId": "9945df90-1691-4eef-8bdd-050100af9a97"
      },
      "source": [
        "salesData['Ship Mode'].str.contains('Class').head(5)"
      ],
      "execution_count": null,
      "outputs": [
        {
          "output_type": "execute_result",
          "data": {
            "text/plain": [
              "0    True\n",
              "1    True\n",
              "2    True\n",
              "3    True\n",
              "4    True\n",
              "Name: Ship Mode, dtype: bool"
            ]
          },
          "metadata": {
            "tags": []
          },
          "execution_count": 147
        }
      ]
    },
    {
      "cell_type": "code",
      "metadata": {
        "colab": {
          "base_uri": "https://localhost:8080/"
        },
        "id": "QiXHoX5c5nN9",
        "outputId": "595192ac-79e6-46e1-8c43-f73d6ac62a53"
      },
      "source": [
        "salesData['Ship Mode'].str.replace(' ','$').head(5)"
      ],
      "execution_count": null,
      "outputs": [
        {
          "output_type": "execute_result",
          "data": {
            "text/plain": [
              "0      Second$Class\n",
              "1      Second$Class\n",
              "2      Second$Class\n",
              "3    Standard$Class\n",
              "4    Standard$Class\n",
              "Name: Ship Mode, dtype: object"
            ]
          },
          "metadata": {
            "tags": []
          },
          "execution_count": 148
        }
      ]
    },
    {
      "cell_type": "code",
      "metadata": {
        "colab": {
          "base_uri": "https://localhost:8080/"
        },
        "id": "L027mYmU5ndy",
        "outputId": "9d25c9cc-faf1-484a-af05-c9bdd7d61469"
      },
      "source": [
        "salesData['Ship Mode'].str.startswith('Sec').head(5)"
      ],
      "execution_count": null,
      "outputs": [
        {
          "output_type": "execute_result",
          "data": {
            "text/plain": [
              "0     True\n",
              "1     True\n",
              "2     True\n",
              "3    False\n",
              "4    False\n",
              "Name: Ship Mode, dtype: bool"
            ]
          },
          "metadata": {
            "tags": []
          },
          "execution_count": 149
        }
      ]
    }
  ]
}