{
  "nbformat": 4,
  "nbformat_minor": 0,
  "metadata": {
    "colab": {
      "provenance": [],
      "authorship_tag": "ABX9TyMtho2O1Cd5mfs92FAqzkiL",
      "include_colab_link": true
    },
    "kernelspec": {
      "name": "python3",
      "display_name": "Python 3"
    },
    "language_info": {
      "name": "python"
    }
  },
  "cells": [
    {
      "cell_type": "markdown",
      "metadata": {
        "id": "view-in-github",
        "colab_type": "text"
      },
      "source": [
        "<a href=\"https://colab.research.google.com/github/KelvinY18/Data-Science-Python-Projects/blob/main/DIY_calculator.ipynb\" target=\"_parent\"><img src=\"https://colab.research.google.com/assets/colab-badge.svg\" alt=\"Open In Colab\"/></a>"
      ]
    },
    {
      "cell_type": "code",
      "metadata": {
        "id": "dK9r_zCUGOuj",
        "colab": {
          "base_uri": "https://localhost:8080/"
        },
        "outputId": "c6085d7c-c674-4d26-8238-eeefa17b0c4e"
      },
      "source": [
        "# K/D Calculator\n",
        "\n",
        "var1 = input('Enter your first name : ')\n",
        "var2 = input('Enter your second name : ')\n",
        "add = var1 + var2\n",
        "print('Welcome ',add)\n",
        "num1 = int(input('Enter your kills : '))\n",
        "num2 = int(input('Enter your death : '))\n",
        "add = num1 / num2\n",
        "print('Congrats! , your K/D ratio is ',add)"
      ],
      "execution_count": null,
      "outputs": [
        {
          "output_type": "stream",
          "text": [
            "Enter your first name : bean\n",
            "Enter your second name : 1620\n",
            "Welcome  bean1620\n",
            "Enter your kills : 30\n",
            "Enter your death : 4\n",
            "Congrats! , your K/D ratio is  7.5\n"
          ],
          "name": "stdout"
        }
      ]
    },
    {
      "cell_type": "code",
      "metadata": {
        "colab": {
          "base_uri": "https://localhost:8080/"
        },
        "id": "1wMWa1cY-yQ7",
        "outputId": "9f843a48-5b91-4b85-e88d-ad7bc5b6417b"
      },
      "source": [
        "# Moon Calculator\n",
        "\n",
        "Weight_on_Earth = float(input(\"Enter your weight in kg : \"))\n",
        "Weight_on_Moon = round(Weight_on_Earth*1.622/9.81,2)\n",
        "print(\"Your weight on Moon is : \"+str(Weight_on_Moon)+\"kg.\")"
      ],
      "execution_count": null,
      "outputs": [
        {
          "output_type": "stream",
          "text": [
            "Enter your weight in kg : 52\n",
            "Your weight on Moon is : 8.6kg.\n"
          ],
          "name": "stdout"
        }
      ]
    }
  ]
}