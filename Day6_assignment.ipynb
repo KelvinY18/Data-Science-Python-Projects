{
  "nbformat": 4,
  "nbformat_minor": 0,
  "metadata": {
    "colab": {
      "provenance": [],
      "authorship_tag": "ABX9TyPdM3nzOub804h14McW8MdY",
      "include_colab_link": true
    },
    "kernelspec": {
      "name": "python3",
      "display_name": "Python 3"
    },
    "language_info": {
      "name": "python"
    }
  },
  "cells": [
    {
      "cell_type": "markdown",
      "metadata": {
        "id": "view-in-github",
        "colab_type": "text"
      },
      "source": [
        "<a href=\"https://colab.research.google.com/github/KelvinY18/Data-Science-Python-Projects/blob/main/Day6_assignment.ipynb\" target=\"_parent\"><img src=\"https://colab.research.google.com/assets/colab-badge.svg\" alt=\"Open In Colab\"/></a>"
      ]
    },
    {
      "cell_type": "code",
      "metadata": {
        "colab": {
          "base_uri": "https://localhost:8080/",
          "height": 344
        },
        "id": "emrushwggMUV",
        "outputId": "9df9e313-0224-44f8-ec3a-76b7331107c8"
      },
      "source": [
        "# Handling missing values\n",
        "# Cleaning of Data\n",
        "\n",
        "# Data Scientist\n",
        "# analyze the data --> predict the future outcomes --> ML algorithms\n",
        "\n",
        "import pandas as pd\n",
        "ufo = pd.read_csv('https://trello-attachments.s3.amazonaws.com/600d1f10d700af20b1924b3c/600d1f700fcd073384905133/b87b61f7f443256a9fbd32cd68f66b73/ufo.csv')\n",
        "ufo.head()  # default for head ,5 records"
      ],
      "execution_count": null,
      "outputs": [
        {
          "output_type": "execute_result",
          "data": {
            "text/html": [
              "<div>\n",
              "<style scoped>\n",
              "    .dataframe tbody tr th:only-of-type {\n",
              "        vertical-align: middle;\n",
              "    }\n",
              "\n",
              "    .dataframe tbody tr th {\n",
              "        vertical-align: top;\n",
              "    }\n",
              "\n",
              "    .dataframe thead th {\n",
              "        text-align: right;\n",
              "    }\n",
              "</style>\n",
              "<table border=\"1\" class=\"dataframe\">\n",
              "  <thead>\n",
              "    <tr style=\"text-align: right;\">\n",
              "      <th></th>\n",
              "      <th>City</th>\n",
              "      <th>Colors Reported</th>\n",
              "      <th>Shape Reported</th>\n",
              "      <th>State</th>\n",
              "      <th>Time</th>\n",
              "    </tr>\n",
              "  </thead>\n",
              "  <tbody>\n",
              "    <tr>\n",
              "      <th>0</th>\n",
              "      <td>Ithaca</td>\n",
              "      <td>NaN</td>\n",
              "      <td>TRIANGLE</td>\n",
              "      <td>NY</td>\n",
              "      <td>6/1/1930 22:00</td>\n",
              "    </tr>\n",
              "    <tr>\n",
              "      <th>1</th>\n",
              "      <td>Willingboro</td>\n",
              "      <td>NaN</td>\n",
              "      <td>OTHER</td>\n",
              "      <td>NJ</td>\n",
              "      <td>6/30/1930 20:00</td>\n",
              "    </tr>\n",
              "    <tr>\n",
              "      <th>2</th>\n",
              "      <td>Holyoke</td>\n",
              "      <td>NaN</td>\n",
              "      <td>OVAL</td>\n",
              "      <td>CO</td>\n",
              "      <td>2/15/1931 14:00</td>\n",
              "    </tr>\n",
              "    <tr>\n",
              "      <th>3</th>\n",
              "      <td>Abilene</td>\n",
              "      <td>NaN</td>\n",
              "      <td>DISK</td>\n",
              "      <td>KS</td>\n",
              "      <td>6/1/1931 13:00</td>\n",
              "    </tr>\n",
              "    <tr>\n",
              "      <th>4</th>\n",
              "      <td>New York Worlds Fair</td>\n",
              "      <td>NaN</td>\n",
              "      <td>LIGHT</td>\n",
              "      <td>NY</td>\n",
              "      <td>4/18/1933 19:00</td>\n",
              "    </tr>\n",
              "  </tbody>\n",
              "</table>\n",
              "</div>"
            ],
            "text/plain": [
              "                   City Colors Reported Shape Reported State             Time\n",
              "0                Ithaca             NaN       TRIANGLE    NY   6/1/1930 22:00\n",
              "1           Willingboro             NaN          OTHER    NJ  6/30/1930 20:00\n",
              "2               Holyoke             NaN           OVAL    CO  2/15/1931 14:00\n",
              "3               Abilene             NaN           DISK    KS   6/1/1931 13:00\n",
              "4  New York Worlds Fair             NaN          LIGHT    NY  4/18/1933 19:00"
            ]
          },
          "metadata": {
            "tags": []
          },
          "execution_count": 7
        }
      ]
    },
    {
      "cell_type": "code",
      "metadata": {
        "colab": {
          "base_uri": "https://localhost:8080/"
        },
        "id": "IfyKQZi-mElI",
        "outputId": "fa3b3f4b-2238-459d-ac73-89f7c80ca6a2"
      },
      "source": [
        "ufo.columns"
      ],
      "execution_count": null,
      "outputs": [
        {
          "output_type": "execute_result",
          "data": {
            "text/plain": [
              "Index(['City', 'Colors Reported', 'Shape Reported', 'State', 'Time'], dtype='object')"
            ]
          },
          "metadata": {
            "tags": []
          },
          "execution_count": 2
        }
      ]
    },
    {
      "cell_type": "code",
      "metadata": {
        "colab": {
          "base_uri": "https://localhost:8080/"
        },
        "id": "00cXFWAsmKN9",
        "outputId": "9b7c341a-d7a5-4f3b-c1bb-5d21b7ce1931"
      },
      "source": [
        "ufo.shape"
      ],
      "execution_count": null,
      "outputs": [
        {
          "output_type": "execute_result",
          "data": {
            "text/plain": [
              "(18241, 5)"
            ]
          },
          "metadata": {
            "tags": []
          },
          "execution_count": 3
        }
      ]
    },
    {
      "cell_type": "code",
      "metadata": {
        "colab": {
          "base_uri": "https://localhost:8080/",
          "height": 397
        },
        "id": "X1dq8ocUmRSV",
        "outputId": "7b857a7b-6865-40af-a53a-1355ec022204"
      },
      "source": [
        "# isnull()  -->  to check whether we have missing values or not\n",
        "# returns True if it found missing values\n",
        "\n",
        "ufo.isnull().head(10)\n",
        "# head(10) : top 10 records,default is 5"
      ],
      "execution_count": null,
      "outputs": [
        {
          "output_type": "execute_result",
          "data": {
            "text/html": [
              "<div>\n",
              "<style scoped>\n",
              "    .dataframe tbody tr th:only-of-type {\n",
              "        vertical-align: middle;\n",
              "    }\n",
              "\n",
              "    .dataframe tbody tr th {\n",
              "        vertical-align: top;\n",
              "    }\n",
              "\n",
              "    .dataframe thead th {\n",
              "        text-align: right;\n",
              "    }\n",
              "</style>\n",
              "<table border=\"1\" class=\"dataframe\">\n",
              "  <thead>\n",
              "    <tr style=\"text-align: right;\">\n",
              "      <th></th>\n",
              "      <th>City</th>\n",
              "      <th>Colors Reported</th>\n",
              "      <th>Shape Reported</th>\n",
              "      <th>State</th>\n",
              "      <th>Time</th>\n",
              "    </tr>\n",
              "  </thead>\n",
              "  <tbody>\n",
              "    <tr>\n",
              "      <th>0</th>\n",
              "      <td>False</td>\n",
              "      <td>True</td>\n",
              "      <td>False</td>\n",
              "      <td>False</td>\n",
              "      <td>False</td>\n",
              "    </tr>\n",
              "    <tr>\n",
              "      <th>1</th>\n",
              "      <td>False</td>\n",
              "      <td>True</td>\n",
              "      <td>False</td>\n",
              "      <td>False</td>\n",
              "      <td>False</td>\n",
              "    </tr>\n",
              "    <tr>\n",
              "      <th>2</th>\n",
              "      <td>False</td>\n",
              "      <td>True</td>\n",
              "      <td>False</td>\n",
              "      <td>False</td>\n",
              "      <td>False</td>\n",
              "    </tr>\n",
              "    <tr>\n",
              "      <th>3</th>\n",
              "      <td>False</td>\n",
              "      <td>True</td>\n",
              "      <td>False</td>\n",
              "      <td>False</td>\n",
              "      <td>False</td>\n",
              "    </tr>\n",
              "    <tr>\n",
              "      <th>4</th>\n",
              "      <td>False</td>\n",
              "      <td>True</td>\n",
              "      <td>False</td>\n",
              "      <td>False</td>\n",
              "      <td>False</td>\n",
              "    </tr>\n",
              "    <tr>\n",
              "      <th>5</th>\n",
              "      <td>False</td>\n",
              "      <td>True</td>\n",
              "      <td>False</td>\n",
              "      <td>False</td>\n",
              "      <td>False</td>\n",
              "    </tr>\n",
              "    <tr>\n",
              "      <th>6</th>\n",
              "      <td>False</td>\n",
              "      <td>True</td>\n",
              "      <td>False</td>\n",
              "      <td>False</td>\n",
              "      <td>False</td>\n",
              "    </tr>\n",
              "    <tr>\n",
              "      <th>7</th>\n",
              "      <td>False</td>\n",
              "      <td>True</td>\n",
              "      <td>False</td>\n",
              "      <td>False</td>\n",
              "      <td>False</td>\n",
              "    </tr>\n",
              "    <tr>\n",
              "      <th>8</th>\n",
              "      <td>False</td>\n",
              "      <td>True</td>\n",
              "      <td>False</td>\n",
              "      <td>False</td>\n",
              "      <td>False</td>\n",
              "    </tr>\n",
              "    <tr>\n",
              "      <th>9</th>\n",
              "      <td>False</td>\n",
              "      <td>True</td>\n",
              "      <td>False</td>\n",
              "      <td>False</td>\n",
              "      <td>False</td>\n",
              "    </tr>\n",
              "  </tbody>\n",
              "</table>\n",
              "</div>"
            ],
            "text/plain": [
              "    City  Colors Reported  Shape Reported  State   Time\n",
              "0  False             True           False  False  False\n",
              "1  False             True           False  False  False\n",
              "2  False             True           False  False  False\n",
              "3  False             True           False  False  False\n",
              "4  False             True           False  False  False\n",
              "5  False             True           False  False  False\n",
              "6  False             True           False  False  False\n",
              "7  False             True           False  False  False\n",
              "8  False             True           False  False  False\n",
              "9  False             True           False  False  False"
            ]
          },
          "metadata": {
            "tags": []
          },
          "execution_count": 4
        }
      ]
    },
    {
      "cell_type": "code",
      "metadata": {
        "colab": {
          "base_uri": "https://localhost:8080/"
        },
        "id": "CH8Tb1G8nlIv",
        "outputId": "5d8ab155-a076-4e80-c98b-16cb65a7de2d"
      },
      "source": [
        "ufo.isnull().sum()  # returns the sum of missing values of every columns"
      ],
      "execution_count": null,
      "outputs": [
        {
          "output_type": "execute_result",
          "data": {
            "text/plain": [
              "City                  25\n",
              "Colors Reported    15359\n",
              "Shape Reported      2644\n",
              "State                  0\n",
              "Time                   0\n",
              "dtype: int64"
            ]
          },
          "metadata": {
            "tags": []
          },
          "execution_count": 6
        }
      ]
    },
    {
      "cell_type": "code",
      "metadata": {
        "colab": {
          "base_uri": "https://localhost:8080/",
          "height": 1000
        },
        "id": "6VVFUEmbn6eQ",
        "outputId": "4d55ea15-a246-4767-d2b5-e62dae8da77f"
      },
      "source": [
        "ufo[ufo.City.isnull()]  # to find the missing values for City only (25)"
      ],
      "execution_count": null,
      "outputs": [
        {
          "output_type": "execute_result",
          "data": {
            "text/html": [
              "<div>\n",
              "<style scoped>\n",
              "    .dataframe tbody tr th:only-of-type {\n",
              "        vertical-align: middle;\n",
              "    }\n",
              "\n",
              "    .dataframe tbody tr th {\n",
              "        vertical-align: top;\n",
              "    }\n",
              "\n",
              "    .dataframe thead th {\n",
              "        text-align: right;\n",
              "    }\n",
              "</style>\n",
              "<table border=\"1\" class=\"dataframe\">\n",
              "  <thead>\n",
              "    <tr style=\"text-align: right;\">\n",
              "      <th></th>\n",
              "      <th>City</th>\n",
              "      <th>Colors Reported</th>\n",
              "      <th>Shape Reported</th>\n",
              "      <th>State</th>\n",
              "      <th>Time</th>\n",
              "    </tr>\n",
              "  </thead>\n",
              "  <tbody>\n",
              "    <tr>\n",
              "      <th>21</th>\n",
              "      <td>NaN</td>\n",
              "      <td>NaN</td>\n",
              "      <td>NaN</td>\n",
              "      <td>LA</td>\n",
              "      <td>8/15/1943 0:00</td>\n",
              "    </tr>\n",
              "    <tr>\n",
              "      <th>22</th>\n",
              "      <td>NaN</td>\n",
              "      <td>NaN</td>\n",
              "      <td>LIGHT</td>\n",
              "      <td>LA</td>\n",
              "      <td>8/15/1943 0:00</td>\n",
              "    </tr>\n",
              "    <tr>\n",
              "      <th>204</th>\n",
              "      <td>NaN</td>\n",
              "      <td>NaN</td>\n",
              "      <td>DISK</td>\n",
              "      <td>CA</td>\n",
              "      <td>7/15/1952 12:30</td>\n",
              "    </tr>\n",
              "    <tr>\n",
              "      <th>241</th>\n",
              "      <td>NaN</td>\n",
              "      <td>BLUE</td>\n",
              "      <td>DISK</td>\n",
              "      <td>MT</td>\n",
              "      <td>7/4/1953 14:00</td>\n",
              "    </tr>\n",
              "    <tr>\n",
              "      <th>613</th>\n",
              "      <td>NaN</td>\n",
              "      <td>NaN</td>\n",
              "      <td>DISK</td>\n",
              "      <td>NV</td>\n",
              "      <td>7/1/1960 12:00</td>\n",
              "    </tr>\n",
              "    <tr>\n",
              "      <th>1877</th>\n",
              "      <td>NaN</td>\n",
              "      <td>YELLOW</td>\n",
              "      <td>CIRCLE</td>\n",
              "      <td>AZ</td>\n",
              "      <td>8/15/1969 1:00</td>\n",
              "    </tr>\n",
              "    <tr>\n",
              "      <th>2013</th>\n",
              "      <td>NaN</td>\n",
              "      <td>NaN</td>\n",
              "      <td>NaN</td>\n",
              "      <td>NH</td>\n",
              "      <td>8/1/1970 9:30</td>\n",
              "    </tr>\n",
              "    <tr>\n",
              "      <th>2546</th>\n",
              "      <td>NaN</td>\n",
              "      <td>NaN</td>\n",
              "      <td>FIREBALL</td>\n",
              "      <td>OH</td>\n",
              "      <td>10/25/1973 23:30</td>\n",
              "    </tr>\n",
              "    <tr>\n",
              "      <th>3123</th>\n",
              "      <td>NaN</td>\n",
              "      <td>RED</td>\n",
              "      <td>TRIANGLE</td>\n",
              "      <td>WV</td>\n",
              "      <td>11/25/1975 23:00</td>\n",
              "    </tr>\n",
              "    <tr>\n",
              "      <th>4736</th>\n",
              "      <td>NaN</td>\n",
              "      <td>NaN</td>\n",
              "      <td>SPHERE</td>\n",
              "      <td>CA</td>\n",
              "      <td>6/23/1982 23:00</td>\n",
              "    </tr>\n",
              "    <tr>\n",
              "      <th>5269</th>\n",
              "      <td>NaN</td>\n",
              "      <td>NaN</td>\n",
              "      <td>NaN</td>\n",
              "      <td>AZ</td>\n",
              "      <td>6/30/1985 21:30</td>\n",
              "    </tr>\n",
              "    <tr>\n",
              "      <th>6735</th>\n",
              "      <td>NaN</td>\n",
              "      <td>NaN</td>\n",
              "      <td>FORMATION</td>\n",
              "      <td>TX</td>\n",
              "      <td>4/1/1992 2:00</td>\n",
              "    </tr>\n",
              "    <tr>\n",
              "      <th>7208</th>\n",
              "      <td>NaN</td>\n",
              "      <td>NaN</td>\n",
              "      <td>CIRCLE</td>\n",
              "      <td>MI</td>\n",
              "      <td>10/4/1993 17:30</td>\n",
              "    </tr>\n",
              "    <tr>\n",
              "      <th>8828</th>\n",
              "      <td>NaN</td>\n",
              "      <td>NaN</td>\n",
              "      <td>TRIANGLE</td>\n",
              "      <td>WA</td>\n",
              "      <td>10/30/1995 21:30</td>\n",
              "    </tr>\n",
              "    <tr>\n",
              "      <th>8967</th>\n",
              "      <td>NaN</td>\n",
              "      <td>NaN</td>\n",
              "      <td>VARIOUS</td>\n",
              "      <td>CA</td>\n",
              "      <td>12/8/1995 18:00</td>\n",
              "    </tr>\n",
              "    <tr>\n",
              "      <th>9273</th>\n",
              "      <td>NaN</td>\n",
              "      <td>NaN</td>\n",
              "      <td>TRIANGLE</td>\n",
              "      <td>OH</td>\n",
              "      <td>5/1/1996 3:00</td>\n",
              "    </tr>\n",
              "    <tr>\n",
              "      <th>9388</th>\n",
              "      <td>NaN</td>\n",
              "      <td>NaN</td>\n",
              "      <td>OVAL</td>\n",
              "      <td>CA</td>\n",
              "      <td>6/12/1996 12:00</td>\n",
              "    </tr>\n",
              "    <tr>\n",
              "      <th>9587</th>\n",
              "      <td>NaN</td>\n",
              "      <td>NaN</td>\n",
              "      <td>EGG</td>\n",
              "      <td>FL</td>\n",
              "      <td>8/24/1996 15:00</td>\n",
              "    </tr>\n",
              "    <tr>\n",
              "      <th>10399</th>\n",
              "      <td>NaN</td>\n",
              "      <td>NaN</td>\n",
              "      <td>TRIANGLE</td>\n",
              "      <td>IL</td>\n",
              "      <td>6/15/1997 23:00</td>\n",
              "    </tr>\n",
              "    <tr>\n",
              "      <th>11625</th>\n",
              "      <td>NaN</td>\n",
              "      <td>NaN</td>\n",
              "      <td>CIRCLE</td>\n",
              "      <td>TX</td>\n",
              "      <td>6/7/1998 7:00</td>\n",
              "    </tr>\n",
              "    <tr>\n",
              "      <th>12441</th>\n",
              "      <td>NaN</td>\n",
              "      <td>RED</td>\n",
              "      <td>FIREBALL</td>\n",
              "      <td>WA</td>\n",
              "      <td>10/26/1998 17:58</td>\n",
              "    </tr>\n",
              "    <tr>\n",
              "      <th>15767</th>\n",
              "      <td>NaN</td>\n",
              "      <td>NaN</td>\n",
              "      <td>RECTANGLE</td>\n",
              "      <td>NV</td>\n",
              "      <td>1/21/2000 11:30</td>\n",
              "    </tr>\n",
              "    <tr>\n",
              "      <th>15812</th>\n",
              "      <td>NaN</td>\n",
              "      <td>NaN</td>\n",
              "      <td>LIGHT</td>\n",
              "      <td>NV</td>\n",
              "      <td>2/2/2000 3:00</td>\n",
              "    </tr>\n",
              "    <tr>\n",
              "      <th>16054</th>\n",
              "      <td>NaN</td>\n",
              "      <td>GREEN</td>\n",
              "      <td>NaN</td>\n",
              "      <td>FL</td>\n",
              "      <td>3/11/2000 3:30</td>\n",
              "    </tr>\n",
              "    <tr>\n",
              "      <th>16608</th>\n",
              "      <td>NaN</td>\n",
              "      <td>NaN</td>\n",
              "      <td>SPHERE</td>\n",
              "      <td>NY</td>\n",
              "      <td>6/15/2000 15:00</td>\n",
              "    </tr>\n",
              "  </tbody>\n",
              "</table>\n",
              "</div>"
            ],
            "text/plain": [
              "      City Colors Reported Shape Reported State              Time\n",
              "21     NaN             NaN            NaN    LA    8/15/1943 0:00\n",
              "22     NaN             NaN          LIGHT    LA    8/15/1943 0:00\n",
              "204    NaN             NaN           DISK    CA   7/15/1952 12:30\n",
              "241    NaN            BLUE           DISK    MT    7/4/1953 14:00\n",
              "613    NaN             NaN           DISK    NV    7/1/1960 12:00\n",
              "1877   NaN          YELLOW         CIRCLE    AZ    8/15/1969 1:00\n",
              "2013   NaN             NaN            NaN    NH     8/1/1970 9:30\n",
              "2546   NaN             NaN       FIREBALL    OH  10/25/1973 23:30\n",
              "3123   NaN             RED       TRIANGLE    WV  11/25/1975 23:00\n",
              "4736   NaN             NaN         SPHERE    CA   6/23/1982 23:00\n",
              "5269   NaN             NaN            NaN    AZ   6/30/1985 21:30\n",
              "6735   NaN             NaN      FORMATION    TX     4/1/1992 2:00\n",
              "7208   NaN             NaN         CIRCLE    MI   10/4/1993 17:30\n",
              "8828   NaN             NaN       TRIANGLE    WA  10/30/1995 21:30\n",
              "8967   NaN             NaN        VARIOUS    CA   12/8/1995 18:00\n",
              "9273   NaN             NaN       TRIANGLE    OH     5/1/1996 3:00\n",
              "9388   NaN             NaN           OVAL    CA   6/12/1996 12:00\n",
              "9587   NaN             NaN            EGG    FL   8/24/1996 15:00\n",
              "10399  NaN             NaN       TRIANGLE    IL   6/15/1997 23:00\n",
              "11625  NaN             NaN         CIRCLE    TX     6/7/1998 7:00\n",
              "12441  NaN             RED       FIREBALL    WA  10/26/1998 17:58\n",
              "15767  NaN             NaN      RECTANGLE    NV   1/21/2000 11:30\n",
              "15812  NaN             NaN          LIGHT    NV     2/2/2000 3:00\n",
              "16054  NaN           GREEN            NaN    FL    3/11/2000 3:30\n",
              "16608  NaN             NaN         SPHERE    NY   6/15/2000 15:00"
            ]
          },
          "metadata": {
            "tags": []
          },
          "execution_count": 9
        }
      ]
    },
    {
      "cell_type": "code",
      "metadata": {
        "colab": {
          "base_uri": "https://localhost:8080/"
        },
        "id": "5e1Rg90sodFx",
        "outputId": "b2cb1653-543a-402e-c473-4c5e3332f320"
      },
      "source": [
        " # ufo[ufo.Shape Reported.isnull()]# cant be executed because of white space\n",
        "\n",
        "# to remove white space:\n",
        "# 1. change from the columns\n",
        "ufo.columns"
      ],
      "execution_count": null,
      "outputs": [
        {
          "output_type": "execute_result",
          "data": {
            "text/plain": [
              "Index(['City', 'Colors Reported', 'Shape Reported', 'State', 'Time'], dtype='object')"
            ]
          },
          "metadata": {
            "tags": []
          },
          "execution_count": 11
        }
      ]
    },
    {
      "cell_type": "code",
      "metadata": {
        "colab": {
          "base_uri": "https://localhost:8080/"
        },
        "id": "DdsnuxhxpP3m",
        "outputId": "a1adfeb8-e9bd-416c-9797-116f938dabdb"
      },
      "source": [
        "# 2. remove white spaces before and after the String\n",
        "ufo.columns.str.strip()   # str.strip()"
      ],
      "execution_count": null,
      "outputs": [
        {
          "output_type": "execute_result",
          "data": {
            "text/plain": [
              "Index(['City', 'Colors Reported', 'Shape Reported', 'State', 'Time'], dtype='object')"
            ]
          },
          "metadata": {
            "tags": []
          },
          "execution_count": 14
        }
      ]
    },
    {
      "cell_type": "code",
      "metadata": {
        "colab": {
          "base_uri": "https://localhost:8080/"
        },
        "id": "1aWiWzFwrJZl",
        "outputId": "0b67bbd4-4044-430d-a2b4-33f0a18a8e92"
      },
      "source": [
        "# 3. convert every column names to lower case\n",
        "ufo.columns.str.strip().str.lower()   # str.lower()"
      ],
      "execution_count": null,
      "outputs": [
        {
          "output_type": "execute_result",
          "data": {
            "text/plain": [
              "Index(['city', 'colors reported', 'shape reported', 'state', 'time'], dtype='object')"
            ]
          },
          "metadata": {
            "tags": []
          },
          "execution_count": 13
        }
      ]
    },
    {
      "cell_type": "code",
      "metadata": {
        "id": "FkgTgP5erlFE"
      },
      "source": [
        "# 4. replacing old strings to new\n",
        "ufo.columns = ufo.columns.str.strip().str.lower().str.replace(' ','_')   #str.replace(' ','_'), to replace all spaces to _\n",
        "#add ufo.columns= infront to update the variable with the replaced string"
      ],
      "execution_count": null,
      "outputs": []
    },
    {
      "cell_type": "code",
      "metadata": {
        "colab": {
          "base_uri": "https://localhost:8080/"
        },
        "id": "QDmHQJLbtVao",
        "outputId": "7df46c4a-824f-4b8d-b061-df9fe225c4a4"
      },
      "source": [
        "ufo.columns"
      ],
      "execution_count": null,
      "outputs": [
        {
          "output_type": "execute_result",
          "data": {
            "text/plain": [
              "Index(['city', 'colors_reported', 'shape_reported', 'state', 'time'], dtype='object')"
            ]
          },
          "metadata": {
            "tags": []
          },
          "execution_count": 19
        }
      ]
    },
    {
      "cell_type": "code",
      "metadata": {
        "colab": {
          "base_uri": "https://localhost:8080/",
          "height": 214
        },
        "id": "vY3VsEobttqT",
        "outputId": "b775f521-694d-426a-f1a9-c2d312dc90d1"
      },
      "source": [
        "ufo[ufo.shape_reported.isnull()].head(3)\n",
        "# and now finding missing values for colors reported and shape reported can be done"
      ],
      "execution_count": null,
      "outputs": [
        {
          "output_type": "execute_result",
          "data": {
            "text/html": [
              "<div>\n",
              "<style scoped>\n",
              "    .dataframe tbody tr th:only-of-type {\n",
              "        vertical-align: middle;\n",
              "    }\n",
              "\n",
              "    .dataframe tbody tr th {\n",
              "        vertical-align: top;\n",
              "    }\n",
              "\n",
              "    .dataframe thead th {\n",
              "        text-align: right;\n",
              "    }\n",
              "</style>\n",
              "<table border=\"1\" class=\"dataframe\">\n",
              "  <thead>\n",
              "    <tr style=\"text-align: right;\">\n",
              "      <th></th>\n",
              "      <th>city</th>\n",
              "      <th>colors_reported</th>\n",
              "      <th>shape_reported</th>\n",
              "      <th>state</th>\n",
              "      <th>time</th>\n",
              "    </tr>\n",
              "  </thead>\n",
              "  <tbody>\n",
              "    <tr>\n",
              "      <th>16</th>\n",
              "      <td>Los Angeles</td>\n",
              "      <td>NaN</td>\n",
              "      <td>NaN</td>\n",
              "      <td>CA</td>\n",
              "      <td>2/25/1942 0:00</td>\n",
              "    </tr>\n",
              "    <tr>\n",
              "      <th>17</th>\n",
              "      <td>Hapeville</td>\n",
              "      <td>NaN</td>\n",
              "      <td>NaN</td>\n",
              "      <td>GA</td>\n",
              "      <td>6/1/1942 22:30</td>\n",
              "    </tr>\n",
              "    <tr>\n",
              "      <th>21</th>\n",
              "      <td>NaN</td>\n",
              "      <td>NaN</td>\n",
              "      <td>NaN</td>\n",
              "      <td>LA</td>\n",
              "      <td>8/15/1943 0:00</td>\n",
              "    </tr>\n",
              "  </tbody>\n",
              "</table>\n",
              "</div>"
            ],
            "text/plain": [
              "           city colors_reported shape_reported state            time\n",
              "16  Los Angeles             NaN            NaN    CA  2/25/1942 0:00\n",
              "17    Hapeville             NaN            NaN    GA  6/1/1942 22:30\n",
              "21          NaN             NaN            NaN    LA  8/15/1943 0:00"
            ]
          },
          "metadata": {
            "tags": []
          },
          "execution_count": 21
        }
      ]
    },
    {
      "cell_type": "code",
      "metadata": {
        "colab": {
          "base_uri": "https://localhost:8080/"
        },
        "id": "BOy6JFndu9dw",
        "outputId": "11e764ab-d637-40aa-f082-b063cba66c2e"
      },
      "source": [
        "# Overcoming the missing values\n",
        "\n",
        "# 1.\n",
        "ufo.shape"
      ],
      "execution_count": null,
      "outputs": [
        {
          "output_type": "execute_result",
          "data": {
            "text/plain": [
              "(18241, 5)"
            ]
          },
          "metadata": {
            "tags": []
          },
          "execution_count": 22
        }
      ]
    },
    {
      "cell_type": "code",
      "metadata": {
        "colab": {
          "base_uri": "https://localhost:8080/"
        },
        "id": "ouUKspJkvQEQ",
        "outputId": "ea8f37f2-a4ad-4795-a6b8-a499a08cb662"
      },
      "source": [
        "# dropna()  -->  to remove missing values (NAN/NA)\n",
        "ufo.dropna().shape # not recommended for large dataset because will cause loss of data, unless small amount of data"
      ],
      "execution_count": null,
      "outputs": [
        {
          "output_type": "execute_result",
          "data": {
            "text/plain": [
              "(2486, 5)"
            ]
          },
          "metadata": {
            "tags": []
          },
          "execution_count": 23
        }
      ]
    },
    {
      "cell_type": "code",
      "metadata": {
        "colab": {
          "base_uri": "https://localhost:8080/"
        },
        "id": "35LXP0v6v5aC",
        "outputId": "6bcb6835-ff74-45dc-d97a-3968485d7cd3"
      },
      "source": [
        "# recommended ways:\n",
        "ufo['shape_reported']"
      ],
      "execution_count": null,
      "outputs": [
        {
          "output_type": "execute_result",
          "data": {
            "text/plain": [
              "0        TRIANGLE\n",
              "1           OTHER\n",
              "2            OVAL\n",
              "3            DISK\n",
              "4           LIGHT\n",
              "           ...   \n",
              "18236    TRIANGLE\n",
              "18237        DISK\n",
              "18238         NaN\n",
              "18239       LIGHT\n",
              "18240        OVAL\n",
              "Name: shape_reported, Length: 18241, dtype: object"
            ]
          },
          "metadata": {
            "tags": []
          },
          "execution_count": 24
        }
      ]
    },
    {
      "cell_type": "code",
      "metadata": {
        "colab": {
          "base_uri": "https://localhost:8080/"
        },
        "id": "yf0NKejfwiCf",
        "outputId": "3104118e-374c-48aa-9e77-e82862d83f0a"
      },
      "source": [
        "ufo['shape_reported'].value_counts()   # to print out the count of every value\n",
        "# will not print out details for any NaN Values"
      ],
      "execution_count": null,
      "outputs": [
        {
          "output_type": "execute_result",
          "data": {
            "text/plain": [
              "LIGHT        2803\n",
              "DISK         2122\n",
              "TRIANGLE     1889\n",
              "OTHER        1402\n",
              "CIRCLE       1365\n",
              "SPHERE       1054\n",
              "FIREBALL     1039\n",
              "OVAL          845\n",
              "CIGAR         617\n",
              "FORMATION     434\n",
              "VARIOUS       333\n",
              "RECTANGLE     303\n",
              "CYLINDER      294\n",
              "CHEVRON       248\n",
              "DIAMOND       234\n",
              "EGG           197\n",
              "FLASH         188\n",
              "TEARDROP      119\n",
              "CONE           60\n",
              "CROSS          36\n",
              "DELTA           7\n",
              "CRESCENT        2\n",
              "ROUND           2\n",
              "PYRAMID         1\n",
              "FLARE           1\n",
              "DOME            1\n",
              "HEXAGON         1\n",
              "Name: shape_reported, dtype: int64"
            ]
          },
          "metadata": {
            "tags": []
          },
          "execution_count": 28
        }
      ]
    },
    {
      "cell_type": "code",
      "metadata": {
        "colab": {
          "base_uri": "https://localhost:8080/"
        },
        "id": "6eM37oyrxMUm",
        "outputId": "ccb566d3-7c4f-4354-9e20-517832974313"
      },
      "source": [
        "ufo['shape_reported'].value_counts(dropna=False)\n",
        "#NaN values will be printed out as well"
      ],
      "execution_count": null,
      "outputs": [
        {
          "output_type": "execute_result",
          "data": {
            "text/plain": [
              "LIGHT        2803\n",
              "NaN          2644\n",
              "DISK         2122\n",
              "TRIANGLE     1889\n",
              "OTHER        1402\n",
              "CIRCLE       1365\n",
              "SPHERE       1054\n",
              "FIREBALL     1039\n",
              "OVAL          845\n",
              "CIGAR         617\n",
              "FORMATION     434\n",
              "VARIOUS       333\n",
              "RECTANGLE     303\n",
              "CYLINDER      294\n",
              "CHEVRON       248\n",
              "DIAMOND       234\n",
              "EGG           197\n",
              "FLASH         188\n",
              "TEARDROP      119\n",
              "CONE           60\n",
              "CROSS          36\n",
              "DELTA           7\n",
              "ROUND           2\n",
              "CRESCENT        2\n",
              "DOME            1\n",
              "PYRAMID         1\n",
              "HEXAGON         1\n",
              "FLARE           1\n",
              "Name: shape_reported, dtype: int64"
            ]
          },
          "metadata": {
            "tags": []
          },
          "execution_count": 27
        }
      ]
    },
    {
      "cell_type": "code",
      "metadata": {
        "colab": {
          "base_uri": "https://localhost:8080/"
        },
        "id": "fAGCuvk5yL10",
        "outputId": "2b4d81fb-e4bf-4c20-cd79-6e4211aba76f"
      },
      "source": [
        "# converting NaN values so that it gets included as well\n",
        "\n",
        "# fillna() --> fill NaN values\n",
        "ufo['shape_reported'].fillna(value='VARIOUS',inplace=True)\n",
        "ufo['shape_reported'].value_counts()\n",
        "# inplace=True, to change All ,if not only VARIOUS will get changed\n",
        "\n",
        "# NaN values will be converted to VARIOUS"
      ],
      "execution_count": null,
      "outputs": [
        {
          "output_type": "execute_result",
          "data": {
            "text/plain": [
              "VARIOUS      2977\n",
              "LIGHT        2803\n",
              "DISK         2122\n",
              "TRIANGLE     1889\n",
              "OTHER        1402\n",
              "CIRCLE       1365\n",
              "SPHERE       1054\n",
              "FIREBALL     1039\n",
              "OVAL          845\n",
              "CIGAR         617\n",
              "FORMATION     434\n",
              "RECTANGLE     303\n",
              "CYLINDER      294\n",
              "CHEVRON       248\n",
              "DIAMOND       234\n",
              "EGG           197\n",
              "FLASH         188\n",
              "TEARDROP      119\n",
              "CONE           60\n",
              "CROSS          36\n",
              "DELTA           7\n",
              "CRESCENT        2\n",
              "ROUND           2\n",
              "PYRAMID         1\n",
              "FLARE           1\n",
              "DOME            1\n",
              "HEXAGON         1\n",
              "Name: shape_reported, dtype: int64"
            ]
          },
          "metadata": {
            "tags": []
          },
          "execution_count": 35
        }
      ]
    },
    {
      "cell_type": "code",
      "metadata": {
        "colab": {
          "base_uri": "https://localhost:8080/"
        },
        "id": "fceeahMRz97R",
        "outputId": "2a90e07b-c065-4abb-8fb0-9b075fc48ff7"
      },
      "source": [
        "ufo.isnull().sum()"
      ],
      "execution_count": null,
      "outputs": [
        {
          "output_type": "execute_result",
          "data": {
            "text/plain": [
              "city                  25\n",
              "colors_reported    15359\n",
              "shape_reported         0\n",
              "state                  0\n",
              "time                   0\n",
              "dtype: int64"
            ]
          },
          "metadata": {
            "tags": []
          },
          "execution_count": 36
        }
      ]
    },
    {
      "cell_type": "code",
      "metadata": {
        "colab": {
          "base_uri": "https://localhost:8080/"
        },
        "id": "YTr1I96H0OXI",
        "outputId": "c5c384a3-4add-43d2-bf93-20ea8546bb79"
      },
      "source": [
        "# handle the missing values for colors_reported\n",
        "\n",
        "ufo['colors_reported'].fillna(value='VARIOUS',inplace=True)\n",
        "ufo['colors_reported'].value_counts()"
      ],
      "execution_count": null,
      "outputs": [
        {
          "output_type": "execute_result",
          "data": {
            "text/plain": [
              "VARIOUS                   15359\n",
              "RED                         780\n",
              "GREEN                       531\n",
              "ORANGE                      528\n",
              "BLUE                        450\n",
              "YELLOW                      169\n",
              "RED GREEN                    89\n",
              "RED BLUE                     78\n",
              "RED ORANGE                   44\n",
              "GREEN BLUE                   34\n",
              "RED GREEN BLUE               33\n",
              "ORANGE YELLOW                26\n",
              "RED YELLOW                   25\n",
              "ORANGE GREEN                 23\n",
              "YELLOW GREEN                 17\n",
              "ORANGE BLUE                  10\n",
              "RED YELLOW GREEN              9\n",
              "YELLOW BLUE                   6\n",
              "ORANGE GREEN BLUE             5\n",
              "YELLOW GREEN BLUE             5\n",
              "RED YELLOW GREEN BLUE         4\n",
              "RED ORANGE YELLOW             4\n",
              "RED ORANGE BLUE               3\n",
              "RED ORANGE GREEN              3\n",
              "RED YELLOW BLUE               3\n",
              "ORANGE YELLOW BLUE            1\n",
              "ORANGE YELLOW GREEN           1\n",
              "RED ORANGE YELLOW BLUE        1\n",
              "Name: colors_reported, dtype: int64"
            ]
          },
          "metadata": {
            "tags": []
          },
          "execution_count": 39
        }
      ]
    },
    {
      "cell_type": "code",
      "metadata": {
        "colab": {
          "base_uri": "https://localhost:8080/"
        },
        "id": "VDlzoWH00Tjd",
        "outputId": "9aad257a-2a43-46ba-8418-447a80a2475b"
      },
      "source": [
        "ufo.isnull().sum()"
      ],
      "execution_count": null,
      "outputs": [
        {
          "output_type": "execute_result",
          "data": {
            "text/plain": [
              "city               25\n",
              "colors_reported     0\n",
              "shape_reported      0\n",
              "state               0\n",
              "time                0\n",
              "dtype: int64"
            ]
          },
          "metadata": {
            "tags": []
          },
          "execution_count": 38
        }
      ]
    },
    {
      "cell_type": "code",
      "metadata": {
        "colab": {
          "base_uri": "https://localhost:8080/",
          "height": 267
        },
        "id": "-icnScIW03Yf",
        "outputId": "c51be881-9a2e-4e8f-8e2f-4430e3e2c6f8"
      },
      "source": [
        "df = pd.read_csv('https://trello-attachments.s3.amazonaws.com/60596dc01945760f799067c1/60612b0e5cd300607a58231e/6b023c489e54cfbfd4a7956b1baf2f81/sample.csv')\n",
        "df"
      ],
      "execution_count": null,
      "outputs": [
        {
          "output_type": "execute_result",
          "data": {
            "text/html": [
              "<div>\n",
              "<style scoped>\n",
              "    .dataframe tbody tr th:only-of-type {\n",
              "        vertical-align: middle;\n",
              "    }\n",
              "\n",
              "    .dataframe tbody tr th {\n",
              "        vertical-align: top;\n",
              "    }\n",
              "\n",
              "    .dataframe thead th {\n",
              "        text-align: right;\n",
              "    }\n",
              "</style>\n",
              "<table border=\"1\" class=\"dataframe\">\n",
              "  <thead>\n",
              "    <tr style=\"text-align: right;\">\n",
              "      <th></th>\n",
              "      <th>Id</th>\n",
              "      <th>Name</th>\n",
              "      <th>Marks</th>\n",
              "      <th>Percentage</th>\n",
              "    </tr>\n",
              "  </thead>\n",
              "  <tbody>\n",
              "    <tr>\n",
              "      <th>0</th>\n",
              "      <td>1</td>\n",
              "      <td>Alex</td>\n",
              "      <td>78.0</td>\n",
              "      <td>78.0</td>\n",
              "    </tr>\n",
              "    <tr>\n",
              "      <th>1</th>\n",
              "      <td>2</td>\n",
              "      <td>Alex</td>\n",
              "      <td>23.0</td>\n",
              "      <td>NaN</td>\n",
              "    </tr>\n",
              "    <tr>\n",
              "      <th>2</th>\n",
              "      <td>3</td>\n",
              "      <td>Alex</td>\n",
              "      <td>NaN</td>\n",
              "      <td>67.0</td>\n",
              "    </tr>\n",
              "    <tr>\n",
              "      <th>3</th>\n",
              "      <td>4</td>\n",
              "      <td>Alex</td>\n",
              "      <td>12.0</td>\n",
              "      <td>NaN</td>\n",
              "    </tr>\n",
              "    <tr>\n",
              "      <th>4</th>\n",
              "      <td>5</td>\n",
              "      <td>Alex</td>\n",
              "      <td>NaN</td>\n",
              "      <td>NaN</td>\n",
              "    </tr>\n",
              "    <tr>\n",
              "      <th>5</th>\n",
              "      <td>6</td>\n",
              "      <td>Alex</td>\n",
              "      <td>54.0</td>\n",
              "      <td>NaN</td>\n",
              "    </tr>\n",
              "    <tr>\n",
              "      <th>6</th>\n",
              "      <td>7</td>\n",
              "      <td>Alex</td>\n",
              "      <td>65.0</td>\n",
              "      <td>66.0</td>\n",
              "    </tr>\n",
              "  </tbody>\n",
              "</table>\n",
              "</div>"
            ],
            "text/plain": [
              "   Id  Name  Marks  Percentage\n",
              "0   1  Alex   78.0        78.0\n",
              "1   2  Alex   23.0         NaN\n",
              "2   3  Alex    NaN        67.0\n",
              "3   4  Alex   12.0         NaN\n",
              "4   5  Alex    NaN         NaN\n",
              "5   6  Alex   54.0         NaN\n",
              "6   7  Alex   65.0        66.0"
            ]
          },
          "metadata": {
            "tags": []
          },
          "execution_count": 42
        }
      ]
    },
    {
      "cell_type": "code",
      "metadata": {
        "colab": {
          "base_uri": "https://localhost:8080/"
        },
        "id": "d6DAaBnc1Kwx",
        "outputId": "921ddbef-5d57-4fba-cc33-043e8d2e62c3"
      },
      "source": [
        "# fillna()\n",
        "# methods:\n",
        "#  -ffill : forward fill\n",
        "#  -bfill : backward fill\n",
        "#  -mean : to fill missing values by taking mean\n",
        "\n",
        "df.isnull().sum()"
      ],
      "execution_count": null,
      "outputs": [
        {
          "output_type": "execute_result",
          "data": {
            "text/plain": [
              "Id            0\n",
              "Name          0\n",
              "Marks         2\n",
              "Percentage    4\n",
              "dtype: int64"
            ]
          },
          "metadata": {
            "tags": []
          },
          "execution_count": 44
        }
      ]
    },
    {
      "cell_type": "code",
      "metadata": {
        "colab": {
          "base_uri": "https://localhost:8080/",
          "height": 267
        },
        "id": "NNgb0Moe11Yk",
        "outputId": "ccc5c4e3-cfd0-4d21-dbd8-686823d86fce"
      },
      "source": [
        "\n",
        "# ffill\n",
        "df['Marks'].fillna(method='ffill',inplace=True)\n",
        "df\n",
        "# missing values will be forward fill (fill NaN values with its forward values)"
      ],
      "execution_count": null,
      "outputs": [
        {
          "output_type": "execute_result",
          "data": {
            "text/html": [
              "<div>\n",
              "<style scoped>\n",
              "    .dataframe tbody tr th:only-of-type {\n",
              "        vertical-align: middle;\n",
              "    }\n",
              "\n",
              "    .dataframe tbody tr th {\n",
              "        vertical-align: top;\n",
              "    }\n",
              "\n",
              "    .dataframe thead th {\n",
              "        text-align: right;\n",
              "    }\n",
              "</style>\n",
              "<table border=\"1\" class=\"dataframe\">\n",
              "  <thead>\n",
              "    <tr style=\"text-align: right;\">\n",
              "      <th></th>\n",
              "      <th>Id</th>\n",
              "      <th>Name</th>\n",
              "      <th>Marks</th>\n",
              "      <th>Percentage</th>\n",
              "    </tr>\n",
              "  </thead>\n",
              "  <tbody>\n",
              "    <tr>\n",
              "      <th>0</th>\n",
              "      <td>1</td>\n",
              "      <td>Alex</td>\n",
              "      <td>78.0</td>\n",
              "      <td>78.0</td>\n",
              "    </tr>\n",
              "    <tr>\n",
              "      <th>1</th>\n",
              "      <td>2</td>\n",
              "      <td>Alex</td>\n",
              "      <td>23.0</td>\n",
              "      <td>67.0</td>\n",
              "    </tr>\n",
              "    <tr>\n",
              "      <th>2</th>\n",
              "      <td>3</td>\n",
              "      <td>Alex</td>\n",
              "      <td>23.0</td>\n",
              "      <td>67.0</td>\n",
              "    </tr>\n",
              "    <tr>\n",
              "      <th>3</th>\n",
              "      <td>4</td>\n",
              "      <td>Alex</td>\n",
              "      <td>12.0</td>\n",
              "      <td>66.0</td>\n",
              "    </tr>\n",
              "    <tr>\n",
              "      <th>4</th>\n",
              "      <td>5</td>\n",
              "      <td>Alex</td>\n",
              "      <td>12.0</td>\n",
              "      <td>66.0</td>\n",
              "    </tr>\n",
              "    <tr>\n",
              "      <th>5</th>\n",
              "      <td>6</td>\n",
              "      <td>Alex</td>\n",
              "      <td>54.0</td>\n",
              "      <td>66.0</td>\n",
              "    </tr>\n",
              "    <tr>\n",
              "      <th>6</th>\n",
              "      <td>7</td>\n",
              "      <td>Alex</td>\n",
              "      <td>65.0</td>\n",
              "      <td>66.0</td>\n",
              "    </tr>\n",
              "  </tbody>\n",
              "</table>\n",
              "</div>"
            ],
            "text/plain": [
              "   Id  Name  Marks  Percentage\n",
              "0   1  Alex   78.0        78.0\n",
              "1   2  Alex   23.0        67.0\n",
              "2   3  Alex   23.0        67.0\n",
              "3   4  Alex   12.0        66.0\n",
              "4   5  Alex   12.0        66.0\n",
              "5   6  Alex   54.0        66.0\n",
              "6   7  Alex   65.0        66.0"
            ]
          },
          "metadata": {
            "tags": []
          },
          "execution_count": 51
        }
      ]
    },
    {
      "cell_type": "code",
      "metadata": {
        "colab": {
          "base_uri": "https://localhost:8080/",
          "height": 267
        },
        "id": "_DoWPOiQ2XMa",
        "outputId": "0814fb76-1bd3-4db4-9dfb-cd92a3fbf216"
      },
      "source": [
        "\n",
        "# bfill\n",
        "df['Percentage'].fillna(method='bfill',inplace=True)\n",
        "df"
      ],
      "execution_count": null,
      "outputs": [
        {
          "output_type": "execute_result",
          "data": {
            "text/html": [
              "<div>\n",
              "<style scoped>\n",
              "    .dataframe tbody tr th:only-of-type {\n",
              "        vertical-align: middle;\n",
              "    }\n",
              "\n",
              "    .dataframe tbody tr th {\n",
              "        vertical-align: top;\n",
              "    }\n",
              "\n",
              "    .dataframe thead th {\n",
              "        text-align: right;\n",
              "    }\n",
              "</style>\n",
              "<table border=\"1\" class=\"dataframe\">\n",
              "  <thead>\n",
              "    <tr style=\"text-align: right;\">\n",
              "      <th></th>\n",
              "      <th>Id</th>\n",
              "      <th>Name</th>\n",
              "      <th>Marks</th>\n",
              "      <th>Percentage</th>\n",
              "    </tr>\n",
              "  </thead>\n",
              "  <tbody>\n",
              "    <tr>\n",
              "      <th>0</th>\n",
              "      <td>1</td>\n",
              "      <td>Alex</td>\n",
              "      <td>78.0</td>\n",
              "      <td>78.0</td>\n",
              "    </tr>\n",
              "    <tr>\n",
              "      <th>1</th>\n",
              "      <td>2</td>\n",
              "      <td>Alex</td>\n",
              "      <td>23.0</td>\n",
              "      <td>67.0</td>\n",
              "    </tr>\n",
              "    <tr>\n",
              "      <th>2</th>\n",
              "      <td>3</td>\n",
              "      <td>Alex</td>\n",
              "      <td>23.0</td>\n",
              "      <td>67.0</td>\n",
              "    </tr>\n",
              "    <tr>\n",
              "      <th>3</th>\n",
              "      <td>4</td>\n",
              "      <td>Alex</td>\n",
              "      <td>12.0</td>\n",
              "      <td>66.0</td>\n",
              "    </tr>\n",
              "    <tr>\n",
              "      <th>4</th>\n",
              "      <td>5</td>\n",
              "      <td>Alex</td>\n",
              "      <td>12.0</td>\n",
              "      <td>66.0</td>\n",
              "    </tr>\n",
              "    <tr>\n",
              "      <th>5</th>\n",
              "      <td>6</td>\n",
              "      <td>Alex</td>\n",
              "      <td>54.0</td>\n",
              "      <td>66.0</td>\n",
              "    </tr>\n",
              "    <tr>\n",
              "      <th>6</th>\n",
              "      <td>7</td>\n",
              "      <td>Alex</td>\n",
              "      <td>65.0</td>\n",
              "      <td>66.0</td>\n",
              "    </tr>\n",
              "  </tbody>\n",
              "</table>\n",
              "</div>"
            ],
            "text/plain": [
              "   Id  Name  Marks  Percentage\n",
              "0   1  Alex   78.0        78.0\n",
              "1   2  Alex   23.0        67.0\n",
              "2   3  Alex   23.0        67.0\n",
              "3   4  Alex   12.0        66.0\n",
              "4   5  Alex   12.0        66.0\n",
              "5   6  Alex   54.0        66.0\n",
              "6   7  Alex   65.0        66.0"
            ]
          },
          "metadata": {
            "tags": []
          },
          "execution_count": 53
        }
      ]
    },
    {
      "cell_type": "code",
      "metadata": {
        "colab": {
          "base_uri": "https://localhost:8080/"
        },
        "id": "Slgmj31_20nC",
        "outputId": "7097cd40-23d1-4e95-96a6-a1a93ca7a542"
      },
      "source": [
        "df.isnull().sum()"
      ],
      "execution_count": null,
      "outputs": [
        {
          "output_type": "execute_result",
          "data": {
            "text/plain": [
              "Id            0\n",
              "Name          0\n",
              "Marks         0\n",
              "Percentage    0\n",
              "dtype: int64"
            ]
          },
          "metadata": {
            "tags": []
          },
          "execution_count": 49
        }
      ]
    },
    {
      "cell_type": "code",
      "metadata": {
        "colab": {
          "base_uri": "https://localhost:8080/",
          "height": 267
        },
        "id": "aTM-NkEw3BIr",
        "outputId": "e027715c-8920-417f-b460-0e36e81b97ca"
      },
      "source": [
        "\n",
        "# mean\n",
        "df1 = pd.read_csv('https://trello-attachments.s3.amazonaws.com/60596dc01945760f799067c1/60612b0e5cd300607a58231e/6b023c489e54cfbfd4a7956b1baf2f81/sample.csv')\n",
        "df1"
      ],
      "execution_count": null,
      "outputs": [
        {
          "output_type": "execute_result",
          "data": {
            "text/html": [
              "<div>\n",
              "<style scoped>\n",
              "    .dataframe tbody tr th:only-of-type {\n",
              "        vertical-align: middle;\n",
              "    }\n",
              "\n",
              "    .dataframe tbody tr th {\n",
              "        vertical-align: top;\n",
              "    }\n",
              "\n",
              "    .dataframe thead th {\n",
              "        text-align: right;\n",
              "    }\n",
              "</style>\n",
              "<table border=\"1\" class=\"dataframe\">\n",
              "  <thead>\n",
              "    <tr style=\"text-align: right;\">\n",
              "      <th></th>\n",
              "      <th>Id</th>\n",
              "      <th>Name</th>\n",
              "      <th>Marks</th>\n",
              "      <th>Percentage</th>\n",
              "    </tr>\n",
              "  </thead>\n",
              "  <tbody>\n",
              "    <tr>\n",
              "      <th>0</th>\n",
              "      <td>1</td>\n",
              "      <td>Alex</td>\n",
              "      <td>78.0</td>\n",
              "      <td>78.0</td>\n",
              "    </tr>\n",
              "    <tr>\n",
              "      <th>1</th>\n",
              "      <td>2</td>\n",
              "      <td>Alex</td>\n",
              "      <td>23.0</td>\n",
              "      <td>NaN</td>\n",
              "    </tr>\n",
              "    <tr>\n",
              "      <th>2</th>\n",
              "      <td>3</td>\n",
              "      <td>Alex</td>\n",
              "      <td>NaN</td>\n",
              "      <td>67.0</td>\n",
              "    </tr>\n",
              "    <tr>\n",
              "      <th>3</th>\n",
              "      <td>4</td>\n",
              "      <td>Alex</td>\n",
              "      <td>12.0</td>\n",
              "      <td>NaN</td>\n",
              "    </tr>\n",
              "    <tr>\n",
              "      <th>4</th>\n",
              "      <td>5</td>\n",
              "      <td>Alex</td>\n",
              "      <td>NaN</td>\n",
              "      <td>NaN</td>\n",
              "    </tr>\n",
              "    <tr>\n",
              "      <th>5</th>\n",
              "      <td>6</td>\n",
              "      <td>Alex</td>\n",
              "      <td>54.0</td>\n",
              "      <td>NaN</td>\n",
              "    </tr>\n",
              "    <tr>\n",
              "      <th>6</th>\n",
              "      <td>7</td>\n",
              "      <td>Alex</td>\n",
              "      <td>65.0</td>\n",
              "      <td>66.0</td>\n",
              "    </tr>\n",
              "  </tbody>\n",
              "</table>\n",
              "</div>"
            ],
            "text/plain": [
              "   Id  Name  Marks  Percentage\n",
              "0   1  Alex   78.0        78.0\n",
              "1   2  Alex   23.0         NaN\n",
              "2   3  Alex    NaN        67.0\n",
              "3   4  Alex   12.0         NaN\n",
              "4   5  Alex    NaN         NaN\n",
              "5   6  Alex   54.0         NaN\n",
              "6   7  Alex   65.0        66.0"
            ]
          },
          "metadata": {
            "tags": []
          },
          "execution_count": 54
        }
      ]
    },
    {
      "cell_type": "code",
      "metadata": {
        "id": "VseQOize3Sso"
      },
      "source": [
        "# fill NaN values with mean\n",
        "\n",
        "per_mean = df1['Percentage'].mean()\n",
        "\n",
        "df1['Percentage'].fillna(value=per_mean,inplace=True)"
      ],
      "execution_count": null,
      "outputs": []
    },
    {
      "cell_type": "code",
      "metadata": {
        "colab": {
          "base_uri": "https://localhost:8080/",
          "height": 267
        },
        "id": "iqVtwPJ-3yMn",
        "outputId": "f98cd868-98ff-4a2d-ad08-0b0a9c9cd6e4"
      },
      "source": [
        "df1"
      ],
      "execution_count": null,
      "outputs": [
        {
          "output_type": "execute_result",
          "data": {
            "text/html": [
              "<div>\n",
              "<style scoped>\n",
              "    .dataframe tbody tr th:only-of-type {\n",
              "        vertical-align: middle;\n",
              "    }\n",
              "\n",
              "    .dataframe tbody tr th {\n",
              "        vertical-align: top;\n",
              "    }\n",
              "\n",
              "    .dataframe thead th {\n",
              "        text-align: right;\n",
              "    }\n",
              "</style>\n",
              "<table border=\"1\" class=\"dataframe\">\n",
              "  <thead>\n",
              "    <tr style=\"text-align: right;\">\n",
              "      <th></th>\n",
              "      <th>Id</th>\n",
              "      <th>Name</th>\n",
              "      <th>Marks</th>\n",
              "      <th>Percentage</th>\n",
              "    </tr>\n",
              "  </thead>\n",
              "  <tbody>\n",
              "    <tr>\n",
              "      <th>0</th>\n",
              "      <td>1</td>\n",
              "      <td>Alex</td>\n",
              "      <td>78.0</td>\n",
              "      <td>78.0</td>\n",
              "    </tr>\n",
              "    <tr>\n",
              "      <th>1</th>\n",
              "      <td>2</td>\n",
              "      <td>Alex</td>\n",
              "      <td>23.0</td>\n",
              "      <td>68.0</td>\n",
              "    </tr>\n",
              "    <tr>\n",
              "      <th>2</th>\n",
              "      <td>3</td>\n",
              "      <td>Alex</td>\n",
              "      <td>NaN</td>\n",
              "      <td>67.0</td>\n",
              "    </tr>\n",
              "    <tr>\n",
              "      <th>3</th>\n",
              "      <td>4</td>\n",
              "      <td>Alex</td>\n",
              "      <td>12.0</td>\n",
              "      <td>68.0</td>\n",
              "    </tr>\n",
              "    <tr>\n",
              "      <th>4</th>\n",
              "      <td>5</td>\n",
              "      <td>Alex</td>\n",
              "      <td>NaN</td>\n",
              "      <td>68.0</td>\n",
              "    </tr>\n",
              "    <tr>\n",
              "      <th>5</th>\n",
              "      <td>6</td>\n",
              "      <td>Alex</td>\n",
              "      <td>54.0</td>\n",
              "      <td>68.0</td>\n",
              "    </tr>\n",
              "    <tr>\n",
              "      <th>6</th>\n",
              "      <td>7</td>\n",
              "      <td>Alex</td>\n",
              "      <td>65.0</td>\n",
              "      <td>66.0</td>\n",
              "    </tr>\n",
              "  </tbody>\n",
              "</table>\n",
              "</div>"
            ],
            "text/plain": [
              "   Id  Name  Marks  Percentage\n",
              "0   1  Alex   78.0        78.0\n",
              "1   2  Alex   23.0        68.0\n",
              "2   3  Alex    NaN        67.0\n",
              "3   4  Alex   12.0        68.0\n",
              "4   5  Alex    NaN        68.0\n",
              "5   6  Alex   54.0        68.0\n",
              "6   7  Alex   65.0        66.0"
            ]
          },
          "metadata": {
            "tags": []
          },
          "execution_count": 65
        }
      ]
    }
  ]
}