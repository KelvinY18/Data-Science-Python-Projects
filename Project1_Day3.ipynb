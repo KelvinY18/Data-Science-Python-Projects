{
  "nbformat": 4,
  "nbformat_minor": 0,
  "metadata": {
    "colab": {
      "provenance": [],
      "authorship_tag": "ABX9TyNB6fqSdN5lVf/+/pmJ80M4",
      "include_colab_link": true
    },
    "kernelspec": {
      "name": "python3",
      "display_name": "Python 3"
    },
    "language_info": {
      "name": "python"
    }
  },
  "cells": [
    {
      "cell_type": "markdown",
      "metadata": {
        "id": "view-in-github",
        "colab_type": "text"
      },
      "source": [
        "<a href=\"https://colab.research.google.com/github/KelvinY18/Data-Science-Python-Projects/blob/main/Project1_Day3.ipynb\" target=\"_parent\"><img src=\"https://colab.research.google.com/assets/colab-badge.svg\" alt=\"Open In Colab\"/></a>"
      ]
    },
    {
      "cell_type": "code",
      "metadata": {
        "colab": {
          "base_uri": "https://localhost:8080/"
        },
        "id": "D9ol9l-ptDyp",
        "outputId": "f6398146-f200-45fc-c46b-aabed5cae8af"
      },
      "source": [
        "# Project 1 : GUESS A NUMBER GAME\n",
        "# Our computer will generate one random number\n",
        "# we only got 4 attempts\n",
        "\n",
        "import random\n",
        "guessAttempts = 0\n",
        "print('Hello! What is your name : ')\n",
        "username=input()\n",
        "number = random.randint(1,13)\n",
        "print('Well',username,'I am thinking of a number between 1 to 13. Please wait...')\n",
        "\n",
        "while guessAttempts < 4:\n",
        "  print('Take a guess : ')\n",
        "  guess = int(input())\n",
        "\n",
        "  guessAttempts = guessAttempts + 1\n",
        "\n",
        "  if guess > number:\n",
        "    print('Nope! Too high')\n",
        "\n",
        "  if guess < number:\n",
        "    print('Nope! Too low')\n",
        "\n",
        "  if guess == number:\n",
        "    break\n",
        "\n",
        "if guess == number:\n",
        "  print('Bingo',username,'you got it right in',guessAttempts,'attempts')\n",
        "\n",
        "if guess != number:\n",
        "  print('Well',username,'the number I was thinking is',number)"
      ],
      "execution_count": 1,
      "outputs": [
        {
          "output_type": "stream",
          "name": "stdout",
          "text": [
            "Hello! What is your name : \n",
            "Kelvin\n",
            "Well Kelvin I am thinking of a number between 1 to 13. Please wait...\n",
            "Take a guess : \n",
            "9\n",
            "Nope! Too high\n",
            "Take a guess : \n",
            "7\n",
            "Nope! Too high\n",
            "Take a guess : \n",
            "4\n",
            "Nope! Too high\n",
            "Take a guess : \n",
            "1\n",
            "Nope! Too low\n",
            "Well Kelvin the number I was thinking is 3\n"
          ]
        }
      ]
    }
  ]
}